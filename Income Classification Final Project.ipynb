{
 "cells": [
  {
   "cell_type": "code",
   "execution_count": 144,
   "metadata": {},
   "outputs": [],
   "source": [
    "import math\n",
    "import numpy as np\n",
    "import pandas as pd\n",
    "from sklearn.preprocessing import PolynomialFeatures\n",
    "from sklearn import preprocessing \n",
    "from sklearn.model_selection import train_test_split \n",
    "from sklearn import linear_model\n",
    "from sklearn import svm\n",
    "import matplotlib\n",
    "import matplotlib.pyplot as plt\n",
    "%matplotlib inline"
   ]
  },
  {
   "cell_type": "code",
   "execution_count": 145,
   "metadata": {},
   "outputs": [
    {
     "name": "stdout",
     "output_type": "stream",
     "text": [
      "(32561, 15)\n"
     ]
    }
   ],
   "source": [
    "# Read the file into a pandas data frame - 5 points\n",
    "df = pd.read_csv('adult.csv',na_values='?')\n",
    "print(df.shape)"
   ]
  },
  {
   "cell_type": "code",
   "execution_count": 146,
   "metadata": {},
   "outputs": [
    {
     "name": "stdout",
     "output_type": "stream",
     "text": [
      "(30162, 12)\n"
     ]
    }
   ],
   "source": [
    "# Drop columns that have missing values - 5 points\n",
    "df1 = df.dropna()\n",
    "df1 = df1.drop(['native.country'], axis=1)\n",
    "df1 = df1.drop(['education'], axis=1)\n",
    "df1 = df1.drop(['fnlwgt'], axis=1)\n",
    "print(df1.shape)"
   ]
  },
  {
   "cell_type": "code",
   "execution_count": 147,
   "metadata": {
    "scrolled": true
   },
   "outputs": [
    {
     "data": {
      "text/html": [
       "<div>\n",
       "<style scoped>\n",
       "    .dataframe tbody tr th:only-of-type {\n",
       "        vertical-align: middle;\n",
       "    }\n",
       "\n",
       "    .dataframe tbody tr th {\n",
       "        vertical-align: top;\n",
       "    }\n",
       "\n",
       "    .dataframe thead th {\n",
       "        text-align: right;\n",
       "    }\n",
       "</style>\n",
       "<table border=\"1\" class=\"dataframe\">\n",
       "  <thead>\n",
       "    <tr style=\"text-align: right;\">\n",
       "      <th></th>\n",
       "      <th>age</th>\n",
       "      <th>workclass</th>\n",
       "      <th>education.num</th>\n",
       "      <th>marital.status</th>\n",
       "      <th>occupation</th>\n",
       "      <th>relationship</th>\n",
       "      <th>race</th>\n",
       "      <th>sex</th>\n",
       "      <th>capital.gain</th>\n",
       "      <th>capital.loss</th>\n",
       "      <th>hours.per.week</th>\n",
       "      <th>income</th>\n",
       "    </tr>\n",
       "  </thead>\n",
       "  <tbody>\n",
       "    <tr>\n",
       "      <th>1</th>\n",
       "      <td>82</td>\n",
       "      <td>Private</td>\n",
       "      <td>9</td>\n",
       "      <td>Widowed</td>\n",
       "      <td>Exec-managerial</td>\n",
       "      <td>Not-in-family</td>\n",
       "      <td>White</td>\n",
       "      <td>Female</td>\n",
       "      <td>0</td>\n",
       "      <td>4356</td>\n",
       "      <td>18</td>\n",
       "      <td>&lt;=50K</td>\n",
       "    </tr>\n",
       "    <tr>\n",
       "      <th>3</th>\n",
       "      <td>54</td>\n",
       "      <td>Private</td>\n",
       "      <td>4</td>\n",
       "      <td>Divorced</td>\n",
       "      <td>Machine-op-inspct</td>\n",
       "      <td>Unmarried</td>\n",
       "      <td>White</td>\n",
       "      <td>Female</td>\n",
       "      <td>0</td>\n",
       "      <td>3900</td>\n",
       "      <td>40</td>\n",
       "      <td>&lt;=50K</td>\n",
       "    </tr>\n",
       "    <tr>\n",
       "      <th>4</th>\n",
       "      <td>41</td>\n",
       "      <td>Private</td>\n",
       "      <td>10</td>\n",
       "      <td>Separated</td>\n",
       "      <td>Prof-specialty</td>\n",
       "      <td>Own-child</td>\n",
       "      <td>White</td>\n",
       "      <td>Female</td>\n",
       "      <td>0</td>\n",
       "      <td>3900</td>\n",
       "      <td>40</td>\n",
       "      <td>&lt;=50K</td>\n",
       "    </tr>\n",
       "    <tr>\n",
       "      <th>5</th>\n",
       "      <td>34</td>\n",
       "      <td>Private</td>\n",
       "      <td>9</td>\n",
       "      <td>Divorced</td>\n",
       "      <td>Other-service</td>\n",
       "      <td>Unmarried</td>\n",
       "      <td>White</td>\n",
       "      <td>Female</td>\n",
       "      <td>0</td>\n",
       "      <td>3770</td>\n",
       "      <td>45</td>\n",
       "      <td>&lt;=50K</td>\n",
       "    </tr>\n",
       "    <tr>\n",
       "      <th>6</th>\n",
       "      <td>38</td>\n",
       "      <td>Private</td>\n",
       "      <td>6</td>\n",
       "      <td>Separated</td>\n",
       "      <td>Adm-clerical</td>\n",
       "      <td>Unmarried</td>\n",
       "      <td>White</td>\n",
       "      <td>Male</td>\n",
       "      <td>0</td>\n",
       "      <td>3770</td>\n",
       "      <td>40</td>\n",
       "      <td>&lt;=50K</td>\n",
       "    </tr>\n",
       "    <tr>\n",
       "      <th>7</th>\n",
       "      <td>74</td>\n",
       "      <td>State-gov</td>\n",
       "      <td>16</td>\n",
       "      <td>Never-married</td>\n",
       "      <td>Prof-specialty</td>\n",
       "      <td>Other-relative</td>\n",
       "      <td>White</td>\n",
       "      <td>Female</td>\n",
       "      <td>0</td>\n",
       "      <td>3683</td>\n",
       "      <td>20</td>\n",
       "      <td>&gt;50K</td>\n",
       "    </tr>\n",
       "  </tbody>\n",
       "</table>\n",
       "</div>"
      ],
      "text/plain": [
       "   age  workclass  education.num marital.status         occupation  \\\n",
       "1   82    Private              9        Widowed    Exec-managerial   \n",
       "3   54    Private              4       Divorced  Machine-op-inspct   \n",
       "4   41    Private             10      Separated     Prof-specialty   \n",
       "5   34    Private              9       Divorced      Other-service   \n",
       "6   38    Private              6      Separated       Adm-clerical   \n",
       "7   74  State-gov             16  Never-married     Prof-specialty   \n",
       "\n",
       "     relationship   race     sex  capital.gain  capital.loss  hours.per.week  \\\n",
       "1   Not-in-family  White  Female             0          4356              18   \n",
       "3       Unmarried  White  Female             0          3900              40   \n",
       "4       Own-child  White  Female             0          3900              40   \n",
       "5       Unmarried  White  Female             0          3770              45   \n",
       "6       Unmarried  White    Male             0          3770              40   \n",
       "7  Other-relative  White  Female             0          3683              20   \n",
       "\n",
       "  income  \n",
       "1  <=50K  \n",
       "3  <=50K  \n",
       "4  <=50K  \n",
       "5  <=50K  \n",
       "6  <=50K  \n",
       "7   >50K  "
      ]
     },
     "execution_count": 147,
     "metadata": {},
     "output_type": "execute_result"
    }
   ],
   "source": [
    "# Display the first six rows of the data frame after cleaning\n",
    "df1.head(6)"
   ]
  },
  {
   "cell_type": "code",
   "execution_count": 148,
   "metadata": {},
   "outputs": [
    {
     "name": "stdout",
     "output_type": "stream",
     "text": [
      "30162 12\n",
      "['<=50K' '<=50K' '<=50K' ... '>50K' '<=50K' '<=50K']\n",
      "Frequency of unique values of the said array:\n",
      "[['<=50K' '>50K']\n",
      " [22654 7508]]\n"
     ]
    }
   ],
   "source": [
    "num_samples = df1.shape[0]\n",
    "num_attributes = df1.shape[1]\n",
    "print(num_samples, num_attributes)\n",
    "\n",
    "y = np.array(df1['income'])\n",
    "print(y)\n",
    "\n",
    "# Used from: https://www.w3resource.com/python-exercises/numpy/python-numpy-exercise-94.php\n",
    "unique_elements, counts_elements = np.unique(y, return_counts=True)\n",
    "print(\"Frequency of unique values of the said array:\")\n",
    "print(np.asarray((unique_elements, counts_elements)))"
   ]
  },
  {
   "cell_type": "code",
   "execution_count": 149,
   "metadata": {
    "scrolled": true
   },
   "outputs": [
    {
     "data": {
      "image/png": "[encoded data removed]",
      "text/plain": [
       "<Figure size 576x576 with 1 Axes>"
      ]
     },
     "metadata": {
      "needs_background": "light"
     },
     "output_type": "display_data"
    },
    {
     "data": {
      "image/png": "[encoded data removed]",
      "text/plain": [
       "<Figure size 576x576 with 1 Axes>"
      ]
     },
     "metadata": {
      "needs_background": "light"
     },
     "output_type": "display_data"
    },
    {
     "data": {
      "image/png": "[encoded data removed]",
      "text/plain": [
       "<Figure size 576x576 with 1 Axes>"
      ]
     },
     "metadata": {
      "needs_background": "light"
     },
     "output_type": "display_data"
    },
    {
     "data": {
      "image/png": "[encoded data removed]",
      "text/plain": [
       "<Figure size 576x576 with 1 Axes>"
      ]
     },
     "metadata": {
      "needs_background": "light"
     },
     "output_type": "display_data"
    },
    {
     "data": {
      "image/png": "[encoded data removed]",
      "text/plain": [
       "<Figure size 576x576 with 1 Axes>"
      ]
     },
     "metadata": {
      "needs_background": "light"
     },
     "output_type": "display_data"
    },
    {
     "data": {
      "image/png": "[encoded data removed]",
      "text/plain": [
       "<Figure size 576x576 with 1 Axes>"
      ]
     },
     "metadata": {
      "needs_background": "light"
     },
     "output_type": "display_data"
    }
   ],
   "source": [
    "# Create visual plots for qualitative features\n",
    "qual_features = ['workclass','marital.status',\n",
    "         'occupation','relationship','race','sex']\n",
    "\n",
    "for i in qual_features:\n",
    "    counts = df1.groupby([i, 'income'])[i].count().unstack()\n",
    "    ax = counts.plot(kind='bar',stacked=False, colormap='Paired',figsize=(8,8))\n",
    "\n",
    "    for p in ax.patches:\n",
    "            ax.annotate(np.round(p.get_height(),decimals=0).astype(np.int64), (p.get_x()+p.get_width()/2., p.get_height()), ha='center', va='center', xytext=(2, 10), textcoords='offset points')\n",
    "\n",
    "    # Manually set age group labels\n",
    "    plt.xlabel(i)\n",
    "    plt.ylabel('Frequency')\n",
    "    plt.title(i+' v. income',fontsize=20)\n",
    "    plt.show()"
   ]
  },
  {
   "cell_type": "code",
   "execution_count": 150,
   "metadata": {},
   "outputs": [
    {
     "data": {
      "image/png": "[encoded data removed]",
      "text/plain": [
       "<Figure size 432x288 with 1 Axes>"
      ]
     },
     "metadata": {
      "needs_background": "light"
     },
     "output_type": "display_data"
    }
   ],
   "source": [
    "# Age visual plot\n",
    "# Referred to: https://stackoverflow.com/questions/41143707/stacked-plot-to-represent-genders-for-an-age-group-from-csv-containing-identifie\n",
    "bins = np.arange(9, 100, 10)\n",
    "bins_labels = []\n",
    "for i in range(1,len(bins)):\n",
    "    bins_labels.append(str(bins[i]-9)+'-'+str(bins[i]))\n",
    "\n",
    "df1['category'] = np.digitize(df1['age'], bins, right=True)\n",
    "counts = df1.groupby(['category', 'income'])['age'].count().unstack()\n",
    "ax = counts.plot(kind='bar',stacked=False, colormap='Paired')\n",
    "\n",
    "for p in ax.patches:\n",
    "        ax.annotate(np.round(p.get_height(),decimals=0).astype(np.int64), (p.get_x()+p.get_width()/2., p.get_height()), ha='center', va='center', xytext=(2, 10), textcoords='offset points')\n",
    "\n",
    "# Manually set age group labels\n",
    "ax.set_xticklabels(bins_labels)\n",
    "plt.xlabel('Age Group')\n",
    "plt.ylabel('Occurences ')\n",
    "plt.title('Age v. Income',fontsize=20)\n",
    "plt.show()"
   ]
  },
  {
   "cell_type": "code",
   "execution_count": 151,
   "metadata": {
    "scrolled": true
   },
   "outputs": [
    {
     "data": {
      "image/png": "[encoded data removed]",
      "text/plain": [
       "<Figure size 720x720 with 1 Axes>"
      ]
     },
     "metadata": {
      "needs_background": "light"
     },
     "output_type": "display_data"
    },
    {
     "data": {
      "image/png": "[encoded data removed]",
      "text/plain": [
       "<Figure size 720x720 with 1 Axes>"
      ]
     },
     "metadata": {
      "needs_background": "light"
     },
     "output_type": "display_data"
    },
    {
     "data": {
      "image/png": "[encoded data removed]",
      "text/plain": [
       "<Figure size 720x720 with 1 Axes>"
      ]
     },
     "metadata": {
      "needs_background": "light"
     },
     "output_type": "display_data"
    }
   ],
   "source": [
    "# Create visual plots for rest of the quantitative features\n",
    "# Referred to: https://riptutorial.com/matplotlib/example/21222/basic-boxplots\n",
    "quant_features = ['capital.gain','capital.loss','hours.per.week']\n",
    "\n",
    "for i in quant_features:\n",
    "    fnlwgt_below50 = np.array(df1[i].loc[df1['income'] == '<=50K'])\n",
    "    fnlwgt_above50 = np.array(df1[i].loc[df1['income'] == '>50K'])\n",
    "    counts = [ fnlwgt_below50, fnlwgt_above50 ]\n",
    "    plt.gcf().set_size_inches(10, 10, forward=True)\n",
    "    plt.boxplot(counts)\n",
    "    plt.xlabel('income level')\n",
    "    plt.ylabel(i)\n",
    "    plt.title(i+' v. income',fontsize=20)\n",
    "    plt.show()\n"
   ]
  },
  {
   "cell_type": "markdown",
   "metadata": {},
   "source": [
    "# Supervised Analysis"
   ]
  },
  {
   "cell_type": "markdown",
   "metadata": {},
   "source": [
    "## Logistic Regression with Lasso(L1) Regularization."
   ]
  },
  {
   "cell_type": "code",
   "execution_count": 152,
   "metadata": {
    "scrolled": true
   },
   "outputs": [
    {
     "data": {
      "text/html": [
       "<div>\n",
       "<style scoped>\n",
       "    .dataframe tbody tr th:only-of-type {\n",
       "        vertical-align: middle;\n",
       "    }\n",
       "\n",
       "    .dataframe tbody tr th {\n",
       "        vertical-align: top;\n",
       "    }\n",
       "\n",
       "    .dataframe thead th {\n",
       "        text-align: right;\n",
       "    }\n",
       "</style>\n",
       "<table border=\"1\" class=\"dataframe\">\n",
       "  <thead>\n",
       "    <tr style=\"text-align: right;\">\n",
       "      <th></th>\n",
       "      <th>occupation_num</th>\n",
       "    </tr>\n",
       "  </thead>\n",
       "  <tbody>\n",
       "    <tr>\n",
       "      <th>1</th>\n",
       "      <td>3</td>\n",
       "    </tr>\n",
       "    <tr>\n",
       "      <th>3</th>\n",
       "      <td>6</td>\n",
       "    </tr>\n",
       "    <tr>\n",
       "      <th>4</th>\n",
       "      <td>9</td>\n",
       "    </tr>\n",
       "    <tr>\n",
       "      <th>5</th>\n",
       "      <td>7</td>\n",
       "    </tr>\n",
       "    <tr>\n",
       "      <th>6</th>\n",
       "      <td>0</td>\n",
       "    </tr>\n",
       "    <tr>\n",
       "      <th>7</th>\n",
       "      <td>9</td>\n",
       "    </tr>\n",
       "    <tr>\n",
       "      <th>8</th>\n",
       "      <td>9</td>\n",
       "    </tr>\n",
       "    <tr>\n",
       "      <th>10</th>\n",
       "      <td>9</td>\n",
       "    </tr>\n",
       "    <tr>\n",
       "      <th>11</th>\n",
       "      <td>9</td>\n",
       "    </tr>\n",
       "    <tr>\n",
       "      <th>12</th>\n",
       "      <td>7</td>\n",
       "    </tr>\n",
       "    <tr>\n",
       "      <th>13</th>\n",
       "      <td>3</td>\n",
       "    </tr>\n",
       "    <tr>\n",
       "      <th>15</th>\n",
       "      <td>9</td>\n",
       "    </tr>\n",
       "    <tr>\n",
       "      <th>16</th>\n",
       "      <td>13</td>\n",
       "    </tr>\n",
       "    <tr>\n",
       "      <th>17</th>\n",
       "      <td>3</td>\n",
       "    </tr>\n",
       "    <tr>\n",
       "      <th>19</th>\n",
       "      <td>11</td>\n",
       "    </tr>\n",
       "    <tr>\n",
       "      <th>20</th>\n",
       "      <td>3</td>\n",
       "    </tr>\n",
       "    <tr>\n",
       "      <th>21</th>\n",
       "      <td>11</td>\n",
       "    </tr>\n",
       "    <tr>\n",
       "      <th>22</th>\n",
       "      <td>11</td>\n",
       "    </tr>\n",
       "    <tr>\n",
       "      <th>23</th>\n",
       "      <td>13</td>\n",
       "    </tr>\n",
       "    <tr>\n",
       "      <th>25</th>\n",
       "      <td>2</td>\n",
       "    </tr>\n",
       "    <tr>\n",
       "      <th>26</th>\n",
       "      <td>2</td>\n",
       "    </tr>\n",
       "    <tr>\n",
       "      <th>27</th>\n",
       "      <td>7</td>\n",
       "    </tr>\n",
       "    <tr>\n",
       "      <th>28</th>\n",
       "      <td>13</td>\n",
       "    </tr>\n",
       "    <tr>\n",
       "      <th>29</th>\n",
       "      <td>9</td>\n",
       "    </tr>\n",
       "    <tr>\n",
       "      <th>30</th>\n",
       "      <td>7</td>\n",
       "    </tr>\n",
       "    <tr>\n",
       "      <th>31</th>\n",
       "      <td>3</td>\n",
       "    </tr>\n",
       "    <tr>\n",
       "      <th>32</th>\n",
       "      <td>3</td>\n",
       "    </tr>\n",
       "    <tr>\n",
       "      <th>33</th>\n",
       "      <td>3</td>\n",
       "    </tr>\n",
       "    <tr>\n",
       "      <th>34</th>\n",
       "      <td>3</td>\n",
       "    </tr>\n",
       "    <tr>\n",
       "      <th>35</th>\n",
       "      <td>3</td>\n",
       "    </tr>\n",
       "    <tr>\n",
       "      <th>...</th>\n",
       "      <td>...</td>\n",
       "    </tr>\n",
       "    <tr>\n",
       "      <th>32525</th>\n",
       "      <td>11</td>\n",
       "    </tr>\n",
       "    <tr>\n",
       "      <th>32526</th>\n",
       "      <td>13</td>\n",
       "    </tr>\n",
       "    <tr>\n",
       "      <th>32527</th>\n",
       "      <td>6</td>\n",
       "    </tr>\n",
       "    <tr>\n",
       "      <th>32529</th>\n",
       "      <td>13</td>\n",
       "    </tr>\n",
       "    <tr>\n",
       "      <th>32530</th>\n",
       "      <td>0</td>\n",
       "    </tr>\n",
       "    <tr>\n",
       "      <th>32531</th>\n",
       "      <td>6</td>\n",
       "    </tr>\n",
       "    <tr>\n",
       "      <th>32532</th>\n",
       "      <td>11</td>\n",
       "    </tr>\n",
       "    <tr>\n",
       "      <th>32535</th>\n",
       "      <td>9</td>\n",
       "    </tr>\n",
       "    <tr>\n",
       "      <th>32536</th>\n",
       "      <td>3</td>\n",
       "    </tr>\n",
       "    <tr>\n",
       "      <th>32537</th>\n",
       "      <td>0</td>\n",
       "    </tr>\n",
       "    <tr>\n",
       "      <th>32538</th>\n",
       "      <td>10</td>\n",
       "    </tr>\n",
       "    <tr>\n",
       "      <th>32539</th>\n",
       "      <td>3</td>\n",
       "    </tr>\n",
       "    <tr>\n",
       "      <th>32540</th>\n",
       "      <td>2</td>\n",
       "    </tr>\n",
       "    <tr>\n",
       "      <th>32542</th>\n",
       "      <td>0</td>\n",
       "    </tr>\n",
       "    <tr>\n",
       "      <th>32545</th>\n",
       "      <td>9</td>\n",
       "    </tr>\n",
       "    <tr>\n",
       "      <th>32546</th>\n",
       "      <td>7</td>\n",
       "    </tr>\n",
       "    <tr>\n",
       "      <th>32547</th>\n",
       "      <td>0</td>\n",
       "    </tr>\n",
       "    <tr>\n",
       "      <th>32548</th>\n",
       "      <td>12</td>\n",
       "    </tr>\n",
       "    <tr>\n",
       "      <th>32549</th>\n",
       "      <td>6</td>\n",
       "    </tr>\n",
       "    <tr>\n",
       "      <th>32550</th>\n",
       "      <td>0</td>\n",
       "    </tr>\n",
       "    <tr>\n",
       "      <th>32551</th>\n",
       "      <td>2</td>\n",
       "    </tr>\n",
       "    <tr>\n",
       "      <th>32552</th>\n",
       "      <td>5</td>\n",
       "    </tr>\n",
       "    <tr>\n",
       "      <th>32553</th>\n",
       "      <td>11</td>\n",
       "    </tr>\n",
       "    <tr>\n",
       "      <th>32554</th>\n",
       "      <td>12</td>\n",
       "    </tr>\n",
       "    <tr>\n",
       "      <th>32555</th>\n",
       "      <td>3</td>\n",
       "    </tr>\n",
       "    <tr>\n",
       "      <th>32556</th>\n",
       "      <td>10</td>\n",
       "    </tr>\n",
       "    <tr>\n",
       "      <th>32557</th>\n",
       "      <td>12</td>\n",
       "    </tr>\n",
       "    <tr>\n",
       "      <th>32558</th>\n",
       "      <td>6</td>\n",
       "    </tr>\n",
       "    <tr>\n",
       "      <th>32559</th>\n",
       "      <td>0</td>\n",
       "    </tr>\n",
       "    <tr>\n",
       "      <th>32560</th>\n",
       "      <td>0</td>\n",
       "    </tr>\n",
       "  </tbody>\n",
       "</table>\n",
       "<p>30162 rows × 1 columns</p>\n",
       "</div>"
      ],
      "text/plain": [
       "       occupation_num\n",
       "1                   3\n",
       "3                   6\n",
       "4                   9\n",
       "5                   7\n",
       "6                   0\n",
       "7                   9\n",
       "8                   9\n",
       "10                  9\n",
       "11                  9\n",
       "12                  7\n",
       "13                  3\n",
       "15                  9\n",
       "16                 13\n",
       "17                  3\n",
       "19                 11\n",
       "20                  3\n",
       "21                 11\n",
       "22                 11\n",
       "23                 13\n",
       "25                  2\n",
       "26                  2\n",
       "27                  7\n",
       "28                 13\n",
       "29                  9\n",
       "30                  7\n",
       "31                  3\n",
       "32                  3\n",
       "33                  3\n",
       "34                  3\n",
       "35                  3\n",
       "...               ...\n",
       "32525              11\n",
       "32526              13\n",
       "32527               6\n",
       "32529              13\n",
       "32530               0\n",
       "32531               6\n",
       "32532              11\n",
       "32535               9\n",
       "32536               3\n",
       "32537               0\n",
       "32538              10\n",
       "32539               3\n",
       "32540               2\n",
       "32542               0\n",
       "32545               9\n",
       "32546               7\n",
       "32547               0\n",
       "32548              12\n",
       "32549               6\n",
       "32550               0\n",
       "32551               2\n",
       "32552               5\n",
       "32553              11\n",
       "32554              12\n",
       "32555               3\n",
       "32556              10\n",
       "32557              12\n",
       "32558               6\n",
       "32559               0\n",
       "32560               0\n",
       "\n",
       "[30162 rows x 1 columns]"
      ]
     },
     "metadata": {},
     "output_type": "display_data"
    },
    {
     "data": {
      "text/plain": [
       "1        0\n",
       "3        0\n",
       "4        0\n",
       "5        0\n",
       "6        0\n",
       "7        1\n",
       "8        0\n",
       "10       1\n",
       "11       1\n",
       "12       1\n",
       "13       1\n",
       "15       1\n",
       "16       1\n",
       "17       1\n",
       "19       1\n",
       "20       1\n",
       "21       0\n",
       "22       0\n",
       "23       0\n",
       "25       0\n",
       "26       0\n",
       "27       0\n",
       "28       1\n",
       "29       1\n",
       "30       1\n",
       "31       1\n",
       "32       1\n",
       "33       1\n",
       "34       1\n",
       "35       1\n",
       "        ..\n",
       "32525    0\n",
       "32526    0\n",
       "32527    0\n",
       "32529    0\n",
       "32530    0\n",
       "32531    0\n",
       "32532    0\n",
       "32535    1\n",
       "32536    1\n",
       "32537    0\n",
       "32538    0\n",
       "32539    1\n",
       "32540    0\n",
       "32542    0\n",
       "32545    0\n",
       "32546    0\n",
       "32547    1\n",
       "32548    0\n",
       "32549    0\n",
       "32550    0\n",
       "32551    0\n",
       "32552    0\n",
       "32553    0\n",
       "32554    0\n",
       "32555    1\n",
       "32556    0\n",
       "32557    0\n",
       "32558    1\n",
       "32559    0\n",
       "32560    0\n",
       "Name: income_num, Length: 30162, dtype: int64"
      ]
     },
     "metadata": {},
     "output_type": "display_data"
    }
   ],
   "source": [
    "le = preprocessing.LabelEncoder()\n",
    "\n",
    "\n",
    "le.fit(df1['workclass'])\n",
    "le.transform(df1['workclass'])\n",
    "df1.insert(1,'workclass_num',le.transform(df1['workclass']))\n",
    "df1 = df1.drop(['workclass'], axis=1)\n",
    "\n",
    "le.fit(df1['marital.status'])\n",
    "le.transform(df1['marital.status'])\n",
    "df1.insert(4,'marital.status_num',le.transform(df1['marital.status']))\n",
    "df1 = df1.drop(['marital.status'], axis=1)\n",
    "\n",
    "le.fit(df1['occupation'])\n",
    "le.transform(df1['occupation'])\n",
    "df1.insert(5,'occupation_num',le.transform(df1['occupation']))\n",
    "df1 = df1.drop(['occupation'], axis=1)\n",
    "\n",
    "le.fit(df1['relationship'])\n",
    "le.transform(df1['relationship'])\n",
    "df1.insert(6,'relationship_num',le.transform(df1['relationship']))\n",
    "df1 = df1.drop(['relationship'], axis=1)\n",
    "\n",
    "le.fit(df1['race'])\n",
    "le.transform(df1['race'])\n",
    "df1.insert(7,'race_num',le.transform(df1['race']))\n",
    "df1 = df1.drop(['race'], axis=1)\n",
    "\n",
    "le.fit(df1['sex'])\n",
    "le.transform(df1['sex'])\n",
    "df1.insert(8,'sex_num',le.transform(df1['sex']))\n",
    "df1 = df1.drop(['sex'], axis=1)\n",
    "\n",
    "le.fit(df1['income'])\n",
    "df1['income_num'] = le.transform(df1['income'])\n",
    "df1 = df1.drop(['income'], axis=1)\n",
    "\n",
    "#Occupation vs income\n",
    "X = df1.iloc[:,4:5]\n",
    "Y = df1.iloc[:,-1]\n",
    "display(X)\n",
    "display(Y)\n",
    "\n",
    "X_train = X[0:15081]\n",
    "Y_train = Y[0:15081]\n",
    "X_test = X[15081:]\n",
    "Y_test = Y[15081:]\n"
   ]
  },
  {
   "cell_type": "code",
   "execution_count": 153,
   "metadata": {},
   "outputs": [],
   "source": [
    "# Initialize an empty list to store values of training set accuracy.\n",
    "acc_train_logreg = [] "
   ]
  },
  {
   "cell_type": "code",
   "execution_count": 154,
   "metadata": {},
   "outputs": [],
   "source": [
    "# Initialize an empty list to store values of test set accuracy.\n",
    "acc_test_logreg = []"
   ]
  },
  {
   "cell_type": "code",
   "execution_count": 155,
   "metadata": {},
   "outputs": [],
   "source": [
    "# Initialize an empty list to store different values of parameter 'c'.\n",
    "c_logreg = []"
   ]
  },
  {
   "cell_type": "code",
   "execution_count": 156,
   "metadata": {},
   "outputs": [],
   "source": [
    "# Complete the function logreg that accepts 'c' as a parameter, which is used to create logreg model \n",
    "# with different values of C.\n",
    "def logreg_model(c , X_train, Y_train, X_test, Y_test):\n",
    "    # Create an object of logistic regression model using linear_model.\n",
    "    # Pass the value of penalty as 'L1'. By default, it is 'L2'.\n",
    "    # Pass the value of C = c. Note that C is the inverse of lambda. So, small value of C i.e. b/w 0 and 1 \n",
    "    # means stronger regularization and large value means less regularization.\n",
    "    # Also, in sklearn, L1 is only supported with solver = 'saga'. Solver is the type of optimization algorithm like GDA or\n",
    "    # SGDA, which is to be used. So, 'saga' is another algorithm like that. Pass the value of solver as 'saga'\n",
    "\n",
    "    logreg = linear_model.LogisticRegression(C=c,penalty='l1', warm_start=True, solver='saga')\n",
    "    \n",
    "    # Fit the model on the training set.\n",
    "    logreg.fit(X_train, Y_train)\n",
    "    \n",
    "    # Find the prediction on training set.\n",
    "    Yhat_train = logreg.predict(X_train)\n",
    "    acc_train = np.mean(Yhat_train == Y_train)\n",
    "    acc_train_logreg.append(acc_train)\n",
    "    print(\"Accuracy on training data = %f\" % acc_train)\n",
    "    \n",
    "    # Find the prediction on test set.\n",
    "    Yhat_test = logreg.predict(X_test)\n",
    "    acc_test = np.mean(Yhat_test == Y_test)\n",
    "    acc_test_logreg.append(acc_test)\n",
    "    print(\"Accuracy on test data = %f\" % acc_test)\n",
    "    \n",
    "    c_logreg.append(c)"
   ]
  },
  {
   "cell_type": "code",
   "execution_count": 157,
   "metadata": {},
   "outputs": [
    {
     "name": "stdout",
     "output_type": "stream",
     "text": [
      "Accuracy on training data = 0.701346\n",
      "Accuracy on test data = 0.800809\n",
      "Accuracy on training data = 0.701346\n",
      "Accuracy on test data = 0.800809\n",
      "Accuracy on training data = 0.701346\n",
      "Accuracy on test data = 0.800809\n",
      "Accuracy on training data = 0.701346\n",
      "Accuracy on test data = 0.800809\n",
      "Accuracy on training data = 0.701346\n",
      "Accuracy on test data = 0.800809\n",
      "Accuracy on training data = 0.701346\n",
      "Accuracy on test data = 0.800809\n",
      "Accuracy on training data = 0.701346\n",
      "Accuracy on test data = 0.800809\n"
     ]
    },
    {
     "data": {
      "text/plain": [
       "<matplotlib.legend.Legend at 0x1a2d876fd0>"
      ]
     },
     "execution_count": 157,
     "metadata": {},
     "output_type": "execute_result"
    },
    {
     "data": {
      "image/png": "[encoded data removed]",
      "text/plain": [
       "<Figure size 432x288 with 1 Axes>"
      ]
     },
     "metadata": {
      "needs_background": "light"
     },
     "output_type": "display_data"
    }
   ],
   "source": [
    "# Call the above function i.e. logreg_model with different values of parameter 'c'.\n",
    "# Start with smaller values of 'c' say 0.0001, 0.001, 0.01, 0.1, 1, 10, 100\n",
    "cVals = [0.0001, 0.001, 0.01, 0.1, 1, 10, 100]\n",
    "for c in cVals:\n",
    "    logreg_model(c, X_train, Y_train, X_test, Y_test)\n",
    "# Write code to plot 2 plots.\n",
    "# Plot training accuracy(Y-axis) v/s 'c' on X - Axis.\n",
    "# Plot test accuracy(Y-Axis) v/s 'c' on X - Axis.\n",
    "plt.plot(c_logreg, acc_train_logreg, 'ro-') \n",
    "plt.plot(c_logreg, acc_test_logreg,'bo-') \n",
    "plt.grid()\n",
    "plt.legend(['Training Accuracy', 'Test Accuracy'], loc='upper right')"
   ]
  },
  {
   "cell_type": "code",
   "execution_count": 158,
   "metadata": {},
   "outputs": [
    {
     "name": "stdout",
     "output_type": "stream",
     "text": [
      "Accuracy on training data = 0.698296\n",
      "Accuracy on test data = 0.798157\n"
     ]
    },
    {
     "name": "stderr",
     "output_type": "stream",
     "text": [
      "/Users/derrick/anaconda3/lib/python3.7/site-packages/sklearn/linear_model/sag.py:334: ConvergenceWarning: The max_iter was reached which means the coef_ did not converge\n",
      "  \"the coef_ did not converge\", ConvergenceWarning)\n"
     ]
    },
    {
     "name": "stdout",
     "output_type": "stream",
     "text": [
      "Accuracy on training data = 0.744314\n",
      "Accuracy on test data = 0.806512\n"
     ]
    },
    {
     "name": "stderr",
     "output_type": "stream",
     "text": [
      "/Users/derrick/anaconda3/lib/python3.7/site-packages/sklearn/linear_model/sag.py:334: ConvergenceWarning: The max_iter was reached which means the coef_ did not converge\n",
      "  \"the coef_ did not converge\", ConvergenceWarning)\n"
     ]
    },
    {
     "name": "stdout",
     "output_type": "stream",
     "text": [
      "Accuracy on training data = 0.750613\n",
      "Accuracy on test data = 0.803727\n"
     ]
    },
    {
     "name": "stderr",
     "output_type": "stream",
     "text": [
      "/Users/derrick/anaconda3/lib/python3.7/site-packages/sklearn/linear_model/sag.py:334: ConvergenceWarning: The max_iter was reached which means the coef_ did not converge\n",
      "  \"the coef_ did not converge\", ConvergenceWarning)\n"
     ]
    },
    {
     "name": "stdout",
     "output_type": "stream",
     "text": [
      "Accuracy on training data = 0.751343\n",
      "Accuracy on test data = 0.802732\n"
     ]
    },
    {
     "name": "stderr",
     "output_type": "stream",
     "text": [
      "/Users/derrick/anaconda3/lib/python3.7/site-packages/sklearn/linear_model/sag.py:334: ConvergenceWarning: The max_iter was reached which means the coef_ did not converge\n",
      "  \"the coef_ did not converge\", ConvergenceWarning)\n"
     ]
    },
    {
     "name": "stdout",
     "output_type": "stream",
     "text": [
      "Accuracy on training data = 0.751475\n",
      "Accuracy on test data = 0.802467\n"
     ]
    },
    {
     "name": "stderr",
     "output_type": "stream",
     "text": [
      "/Users/derrick/anaconda3/lib/python3.7/site-packages/sklearn/linear_model/sag.py:334: ConvergenceWarning: The max_iter was reached which means the coef_ did not converge\n",
      "  \"the coef_ did not converge\", ConvergenceWarning)\n"
     ]
    },
    {
     "name": "stdout",
     "output_type": "stream",
     "text": [
      "Accuracy on training data = 0.751409\n",
      "Accuracy on test data = 0.802467\n",
      "Accuracy on training data = 0.751343\n",
      "Accuracy on test data = 0.802400\n"
     ]
    },
    {
     "name": "stderr",
     "output_type": "stream",
     "text": [
      "/Users/derrick/anaconda3/lib/python3.7/site-packages/sklearn/linear_model/sag.py:334: ConvergenceWarning: The max_iter was reached which means the coef_ did not converge\n",
      "  \"the coef_ did not converge\", ConvergenceWarning)\n"
     ]
    },
    {
     "data": {
      "text/plain": [
       "<matplotlib.legend.Legend at 0x1a2dbffef0>"
      ]
     },
     "execution_count": 158,
     "metadata": {},
     "output_type": "execute_result"
    },
    {
     "data": {
      "image/png": "[encoded data removed]",
      "text/plain": [
       "<Figure size 432x288 with 1 Axes>"
      ]
     },
     "metadata": {
      "needs_background": "light"
     },
     "output_type": "display_data"
    }
   ],
   "source": [
    "acc_train_logreg = [] \n",
    "acc_test_logreg = []\n",
    "c_logreg = []\n",
    "\n",
    "#age, workclass, education.num, marital.status, occupation vs income\n",
    "X = df1.iloc[:,0:5]\n",
    "Y = df1.iloc[:,-1]\n",
    "# display(X)\n",
    "# display(Y)\n",
    "\n",
    "X_train = X[0:15081]\n",
    "Y_train = Y[0:15081]\n",
    "X_test = X[15081:]\n",
    "Y_test = Y[15081:]\n",
    "\n",
    "for c in cVals:\n",
    "    logreg_model(c, X_train, Y_train, X_test, Y_test)\n",
    "# Write code to plot 2 plots.\n",
    "# Plot training accuracy(Y-axis) v/s 'c' on X - Axis.\n",
    "# Plot test accuracy(Y-Axis) v/s 'c' on X - Axis.\n",
    "plt.plot(c_logreg, acc_train_logreg, 'ro-') \n",
    "plt.plot(c_logreg, acc_test_logreg,'bo-') \n",
    "plt.grid()\n",
    "plt.legend(['Training Accuracy', 'Test Accuracy'], loc='upper right')"
   ]
  },
  {
   "cell_type": "code",
   "execution_count": 159,
   "metadata": {
    "scrolled": false
   },
   "outputs": [
    {
     "name": "stderr",
     "output_type": "stream",
     "text": [
      "/Users/derrick/anaconda3/lib/python3.7/site-packages/sklearn/linear_model/sag.py:334: ConvergenceWarning: The max_iter was reached which means the coef_ did not converge\n",
      "  \"the coef_ did not converge\", ConvergenceWarning)\n"
     ]
    },
    {
     "name": "stdout",
     "output_type": "stream",
     "text": [
      "Accuracy on training data = 0.758239\n",
      "Accuracy on test data = 0.800809\n"
     ]
    },
    {
     "name": "stderr",
     "output_type": "stream",
     "text": [
      "/Users/derrick/anaconda3/lib/python3.7/site-packages/sklearn/linear_model/sag.py:334: ConvergenceWarning: The max_iter was reached which means the coef_ did not converge\n",
      "  \"the coef_ did not converge\", ConvergenceWarning)\n"
     ]
    },
    {
     "name": "stdout",
     "output_type": "stream",
     "text": [
      "Accuracy on training data = 0.759565\n",
      "Accuracy on test data = 0.800809\n"
     ]
    },
    {
     "name": "stderr",
     "output_type": "stream",
     "text": [
      "/Users/derrick/anaconda3/lib/python3.7/site-packages/sklearn/linear_model/sag.py:334: ConvergenceWarning: The max_iter was reached which means the coef_ did not converge\n",
      "  \"the coef_ did not converge\", ConvergenceWarning)\n"
     ]
    },
    {
     "name": "stdout",
     "output_type": "stream",
     "text": [
      "Accuracy on training data = 0.759764\n",
      "Accuracy on test data = 0.800809\n"
     ]
    },
    {
     "name": "stderr",
     "output_type": "stream",
     "text": [
      "/Users/derrick/anaconda3/lib/python3.7/site-packages/sklearn/linear_model/sag.py:334: ConvergenceWarning: The max_iter was reached which means the coef_ did not converge\n",
      "  \"the coef_ did not converge\", ConvergenceWarning)\n"
     ]
    },
    {
     "name": "stdout",
     "output_type": "stream",
     "text": [
      "Accuracy on training data = 0.759764\n",
      "Accuracy on test data = 0.800809\n"
     ]
    },
    {
     "name": "stderr",
     "output_type": "stream",
     "text": [
      "/Users/derrick/anaconda3/lib/python3.7/site-packages/sklearn/linear_model/sag.py:334: ConvergenceWarning: The max_iter was reached which means the coef_ did not converge\n",
      "  \"the coef_ did not converge\", ConvergenceWarning)\n"
     ]
    },
    {
     "name": "stdout",
     "output_type": "stream",
     "text": [
      "Accuracy on training data = 0.759764\n",
      "Accuracy on test data = 0.800809\n"
     ]
    },
    {
     "name": "stderr",
     "output_type": "stream",
     "text": [
      "/Users/derrick/anaconda3/lib/python3.7/site-packages/sklearn/linear_model/sag.py:334: ConvergenceWarning: The max_iter was reached which means the coef_ did not converge\n",
      "  \"the coef_ did not converge\", ConvergenceWarning)\n"
     ]
    },
    {
     "name": "stdout",
     "output_type": "stream",
     "text": [
      "Accuracy on training data = 0.759764\n",
      "Accuracy on test data = 0.800809\n",
      "Accuracy on training data = 0.759764\n",
      "Accuracy on test data = 0.800809\n"
     ]
    },
    {
     "name": "stderr",
     "output_type": "stream",
     "text": [
      "/Users/derrick/anaconda3/lib/python3.7/site-packages/sklearn/linear_model/sag.py:334: ConvergenceWarning: The max_iter was reached which means the coef_ did not converge\n",
      "  \"the coef_ did not converge\", ConvergenceWarning)\n"
     ]
    },
    {
     "data": {
      "text/plain": [
       "<matplotlib.legend.Legend at 0x1a2db14eb8>"
      ]
     },
     "execution_count": 159,
     "metadata": {},
     "output_type": "execute_result"
    },
    {
     "data": {
      "image/png": "[encoded data removed]",
      "text/plain": [
       "<Figure size 432x288 with 1 Axes>"
      ]
     },
     "metadata": {
      "needs_background": "light"
     },
     "output_type": "display_data"
    }
   ],
   "source": [
    "acc_train_logreg = [] \n",
    "acc_test_logreg = []\n",
    "c_logreg = []\n",
    "\n",
    "#age, workclass, education.num, marital.status, occupation, relationship,race,sex,capital.gain,capital.loss,hours.per.week vs income\n",
    "X = df1.iloc[:,0:11]\n",
    "Y = df1.iloc[:,-1]\n",
    "# display(X)\n",
    "# display(Y)\n",
    "\n",
    "X_train = X[0:15081]\n",
    "Y_train = Y[0:15081]\n",
    "X_test = X[15081:]\n",
    "Y_test = Y[15081:]\n",
    "\n",
    "for c in cVals:\n",
    "    logreg_model(c, X_train, Y_train, X_test, Y_test)\n",
    "# Write code to plot 2 plots.\n",
    "# Plot training accuracy(Y-axis) v/s 'c' on X - Axis.\n",
    "# Plot test accuracy(Y-Axis) v/s 'c' on X - Axis.\n",
    "plt.plot(c_logreg, acc_train_logreg, 'ro-') \n",
    "plt.plot(c_logreg, acc_test_logreg,'bo-') \n",
    "plt.grid()\n",
    "plt.legend(['Training Accuracy', 'Test Accuracy'], loc='upper right')"
   ]
  },
  {
   "cell_type": "markdown",
   "metadata": {},
   "source": [
    "# Logistic Regression with Ridge(L2) Regularization."
   ]
  },
  {
   "cell_type": "code",
   "execution_count": 160,
   "metadata": {},
   "outputs": [],
   "source": [
    "# Initialize an empty list to store values of training set accuracy.\n",
    "acc_train_logreg2 = []"
   ]
  },
  {
   "cell_type": "code",
   "execution_count": 161,
   "metadata": {},
   "outputs": [],
   "source": [
    "# Initialize an empty list to store values of test set accuracy.\n",
    "acc_test_logreg2 = []"
   ]
  },
  {
   "cell_type": "code",
   "execution_count": 162,
   "metadata": {},
   "outputs": [],
   "source": [
    "# Initialize an empty list to store different values of parameter 'c'.\n",
    "c_logreg2 = []"
   ]
  },
  {
   "cell_type": "code",
   "execution_count": 163,
   "metadata": {},
   "outputs": [],
   "source": [
    "def logreg2_model(c , X_train, Y_train, X_test, Y_test):\n",
    "    # Create an object of logistic regression model using linear_model.\n",
    "    # Pass the value of C=c.\n",
    "    # You need not pass other parameters as penalty is 'L2' by default.\n",
    "    \n",
    "    logreg2 = linear_model.LogisticRegression(C=c, warm_start=True)\n",
    "    \n",
    "    # Fit the model on the training set.\n",
    "    logreg2.fit(X_train, Y_train)\n",
    "    \n",
    "    # Find the prediction on training set.\n",
    "    Yhat_train = logreg2.predict(X_train)\n",
    "    acc_train = np.mean(Yhat_train == Y_train)\n",
    "    acc_train_logreg2.append(acc_train)\n",
    "    print(\"Accuracy on training data = %f\" % acc_train)\n",
    "    \n",
    "    # Find the prediction and accuracy on test set.\n",
    "    Yhat_test = logreg2.predict(X_test)\n",
    "    acc_test = np.mean(Yhat_test == Y_test)\n",
    "    acc_test_logreg2.append(acc_test)\n",
    "    print(\"Accuracy on test data = %f\" % acc_test)\n",
    "    \n",
    "    c_logreg2.append(c)"
   ]
  },
  {
   "cell_type": "code",
   "execution_count": 164,
   "metadata": {},
   "outputs": [
    {
     "name": "stderr",
     "output_type": "stream",
     "text": [
      "/Users/derrick/anaconda3/lib/python3.7/site-packages/sklearn/linear_model/logistic.py:433: FutureWarning: Default solver will be changed to 'lbfgs' in 0.22. Specify a solver to silence this warning.\n",
      "  FutureWarning)\n"
     ]
    },
    {
     "name": "stdout",
     "output_type": "stream",
     "text": [
      "Accuracy on training data = 0.701346\n",
      "Accuracy on test data = 0.800809\n",
      "Accuracy on training data = 0.701346\n",
      "Accuracy on test data = 0.800809\n",
      "Accuracy on training data = 0.701346\n",
      "Accuracy on test data = 0.800809\n",
      "Accuracy on training data = 0.701346\n",
      "Accuracy on test data = 0.800809\n",
      "Accuracy on training data = 0.701346\n",
      "Accuracy on test data = 0.800809\n",
      "Accuracy on training data = 0.701346\n",
      "Accuracy on test data = 0.800809\n",
      "Accuracy on training data = 0.701346\n",
      "Accuracy on test data = 0.800809\n"
     ]
    },
    {
     "name": "stderr",
     "output_type": "stream",
     "text": [
      "/Users/derrick/anaconda3/lib/python3.7/site-packages/sklearn/linear_model/logistic.py:433: FutureWarning: Default solver will be changed to 'lbfgs' in 0.22. Specify a solver to silence this warning.\n",
      "  FutureWarning)\n",
      "/Users/derrick/anaconda3/lib/python3.7/site-packages/sklearn/linear_model/logistic.py:433: FutureWarning: Default solver will be changed to 'lbfgs' in 0.22. Specify a solver to silence this warning.\n",
      "  FutureWarning)\n",
      "/Users/derrick/anaconda3/lib/python3.7/site-packages/sklearn/linear_model/logistic.py:433: FutureWarning: Default solver will be changed to 'lbfgs' in 0.22. Specify a solver to silence this warning.\n",
      "  FutureWarning)\n",
      "/Users/derrick/anaconda3/lib/python3.7/site-packages/sklearn/linear_model/logistic.py:433: FutureWarning: Default solver will be changed to 'lbfgs' in 0.22. Specify a solver to silence this warning.\n",
      "  FutureWarning)\n",
      "/Users/derrick/anaconda3/lib/python3.7/site-packages/sklearn/linear_model/logistic.py:433: FutureWarning: Default solver will be changed to 'lbfgs' in 0.22. Specify a solver to silence this warning.\n",
      "  FutureWarning)\n",
      "/Users/derrick/anaconda3/lib/python3.7/site-packages/sklearn/linear_model/logistic.py:433: FutureWarning: Default solver will be changed to 'lbfgs' in 0.22. Specify a solver to silence this warning.\n",
      "  FutureWarning)\n"
     ]
    },
    {
     "data": {
      "text/plain": [
       "<matplotlib.legend.Legend at 0x1a2e962fd0>"
      ]
     },
     "execution_count": 164,
     "metadata": {},
     "output_type": "execute_result"
    },
    {
     "data": {
      "image/png": "[encoded data removed]",
      "text/plain": [
       "<Figure size 432x288 with 1 Axes>"
      ]
     },
     "metadata": {
      "needs_background": "light"
     },
     "output_type": "display_data"
    }
   ],
   "source": [
    "#Occupation vs income\n",
    "acc_train_logreg = [] \n",
    "acc_test_logreg = []\n",
    "c_logreg = []\n",
    "\n",
    "X = df1.iloc[:,4:5]\n",
    "Y = df1.iloc[:,-1]\n",
    "# display(X)\n",
    "# display(Y)\n",
    "\n",
    "X_train = X[0:15081]\n",
    "Y_train = Y[0:15081]\n",
    "X_test = X[15081:]\n",
    "Y_test = Y[15081:]\n",
    "\n",
    "\n",
    "for c in cVals:\n",
    "    logreg2_model(c, X_train, Y_train, X_test, Y_test)\n",
    "# Write code to plot 2 plots.\n",
    "# Plot training accuracy(Y-axis) v/s 'c' on X - Axis.\n",
    "# Plot test accuracy(Y-Axis) v/s 'c' on X - Axis.\n",
    "plt.plot(c_logreg2, acc_train_logreg2, 'ro-') \n",
    "plt.plot(c_logreg2, acc_test_logreg2,'bo-') \n",
    "plt.grid()\n",
    "plt.legend(['Training Accuracy', 'Test Accuracy'], loc='upper right')"
   ]
  },
  {
   "cell_type": "code",
   "execution_count": 165,
   "metadata": {},
   "outputs": [
    {
     "name": "stdout",
     "output_type": "stream",
     "text": [
      "Accuracy on training data = 0.698760\n",
      "Accuracy on test data = 0.798621\n"
     ]
    },
    {
     "name": "stderr",
     "output_type": "stream",
     "text": [
      "/Users/derrick/anaconda3/lib/python3.7/site-packages/sklearn/linear_model/sag.py:334: ConvergenceWarning: The max_iter was reached which means the coef_ did not converge\n",
      "  \"the coef_ did not converge\", ConvergenceWarning)\n"
     ]
    },
    {
     "name": "stdout",
     "output_type": "stream",
     "text": [
      "Accuracy on training data = 0.744314\n",
      "Accuracy on test data = 0.806512\n"
     ]
    },
    {
     "name": "stderr",
     "output_type": "stream",
     "text": [
      "/Users/derrick/anaconda3/lib/python3.7/site-packages/sklearn/linear_model/sag.py:334: ConvergenceWarning: The max_iter was reached which means the coef_ did not converge\n",
      "  \"the coef_ did not converge\", ConvergenceWarning)\n"
     ]
    },
    {
     "name": "stdout",
     "output_type": "stream",
     "text": [
      "Accuracy on training data = 0.750746\n",
      "Accuracy on test data = 0.803727\n"
     ]
    },
    {
     "name": "stderr",
     "output_type": "stream",
     "text": [
      "/Users/derrick/anaconda3/lib/python3.7/site-packages/sklearn/linear_model/sag.py:334: ConvergenceWarning: The max_iter was reached which means the coef_ did not converge\n",
      "  \"the coef_ did not converge\", ConvergenceWarning)\n"
     ]
    },
    {
     "name": "stdout",
     "output_type": "stream",
     "text": [
      "Accuracy on training data = 0.751276\n",
      "Accuracy on test data = 0.802400\n"
     ]
    },
    {
     "name": "stderr",
     "output_type": "stream",
     "text": [
      "/Users/derrick/anaconda3/lib/python3.7/site-packages/sklearn/linear_model/sag.py:334: ConvergenceWarning: The max_iter was reached which means the coef_ did not converge\n",
      "  \"the coef_ did not converge\", ConvergenceWarning)\n"
     ]
    },
    {
     "name": "stdout",
     "output_type": "stream",
     "text": [
      "Accuracy on training data = 0.751475\n",
      "Accuracy on test data = 0.802467\n"
     ]
    },
    {
     "name": "stderr",
     "output_type": "stream",
     "text": [
      "/Users/derrick/anaconda3/lib/python3.7/site-packages/sklearn/linear_model/sag.py:334: ConvergenceWarning: The max_iter was reached which means the coef_ did not converge\n",
      "  \"the coef_ did not converge\", ConvergenceWarning)\n"
     ]
    },
    {
     "name": "stdout",
     "output_type": "stream",
     "text": [
      "Accuracy on training data = 0.751144\n",
      "Accuracy on test data = 0.802400\n",
      "Accuracy on training data = 0.751542\n",
      "Accuracy on test data = 0.802334\n"
     ]
    },
    {
     "name": "stderr",
     "output_type": "stream",
     "text": [
      "/Users/derrick/anaconda3/lib/python3.7/site-packages/sklearn/linear_model/sag.py:334: ConvergenceWarning: The max_iter was reached which means the coef_ did not converge\n",
      "  \"the coef_ did not converge\", ConvergenceWarning)\n"
     ]
    },
    {
     "data": {
      "text/plain": [
       "<matplotlib.legend.Legend at 0x1a2a95e5c0>"
      ]
     },
     "execution_count": 165,
     "metadata": {},
     "output_type": "execute_result"
    },
    {
     "data": {
      "image/png": "[encoded data removed]",
      "text/plain": [
       "<Figure size 432x288 with 1 Axes>"
      ]
     },
     "metadata": {
      "needs_background": "light"
     },
     "output_type": "display_data"
    }
   ],
   "source": [
    "acc_train_logreg = [] \n",
    "acc_test_logreg = []\n",
    "c_logreg = []\n",
    "\n",
    "#age, workclass, education.num, marital.status, occupation vs income\n",
    "X = df1.iloc[:,0:5]\n",
    "Y = df1.iloc[:,-1]\n",
    "# display(X)\n",
    "# display(Y)\n",
    "\n",
    "X_train = X[0:15081]\n",
    "Y_train = Y[0:15081]\n",
    "X_test = X[15081:]\n",
    "Y_test = Y[15081:]\n",
    "\n",
    "for c in cVals:\n",
    "    logreg_model(c, X_train, Y_train, X_test, Y_test)\n",
    "# Write code to plot 2 plots.\n",
    "# Plot training accuracy(Y-axis) v/s 'c' on X - Axis.\n",
    "# Plot test accuracy(Y-Axis) v/s 'c' on X - Axis.\n",
    "plt.plot(c_logreg, acc_train_logreg, 'ro-') \n",
    "plt.plot(c_logreg, acc_test_logreg,'bo-') \n",
    "plt.grid()\n",
    "plt.legend(['Training Accuracy', 'Test Accuracy'], loc='upper right')"
   ]
  },
  {
   "cell_type": "code",
   "execution_count": 166,
   "metadata": {},
   "outputs": [
    {
     "name": "stderr",
     "output_type": "stream",
     "text": [
      "/Users/derrick/anaconda3/lib/python3.7/site-packages/sklearn/linear_model/sag.py:334: ConvergenceWarning: The max_iter was reached which means the coef_ did not converge\n",
      "  \"the coef_ did not converge\", ConvergenceWarning)\n"
     ]
    },
    {
     "name": "stdout",
     "output_type": "stream",
     "text": [
      "Accuracy on training data = 0.758239\n",
      "Accuracy on test data = 0.800809\n"
     ]
    },
    {
     "name": "stderr",
     "output_type": "stream",
     "text": [
      "/Users/derrick/anaconda3/lib/python3.7/site-packages/sklearn/linear_model/sag.py:334: ConvergenceWarning: The max_iter was reached which means the coef_ did not converge\n",
      "  \"the coef_ did not converge\", ConvergenceWarning)\n"
     ]
    },
    {
     "name": "stdout",
     "output_type": "stream",
     "text": [
      "Accuracy on training data = 0.759565\n",
      "Accuracy on test data = 0.800809\n"
     ]
    },
    {
     "name": "stderr",
     "output_type": "stream",
     "text": [
      "/Users/derrick/anaconda3/lib/python3.7/site-packages/sklearn/linear_model/sag.py:334: ConvergenceWarning: The max_iter was reached which means the coef_ did not converge\n",
      "  \"the coef_ did not converge\", ConvergenceWarning)\n"
     ]
    },
    {
     "name": "stdout",
     "output_type": "stream",
     "text": [
      "Accuracy on training data = 0.759764\n",
      "Accuracy on test data = 0.800809\n"
     ]
    },
    {
     "name": "stderr",
     "output_type": "stream",
     "text": [
      "/Users/derrick/anaconda3/lib/python3.7/site-packages/sklearn/linear_model/sag.py:334: ConvergenceWarning: The max_iter was reached which means the coef_ did not converge\n",
      "  \"the coef_ did not converge\", ConvergenceWarning)\n"
     ]
    },
    {
     "name": "stdout",
     "output_type": "stream",
     "text": [
      "Accuracy on training data = 0.759764\n",
      "Accuracy on test data = 0.800809\n"
     ]
    },
    {
     "name": "stderr",
     "output_type": "stream",
     "text": [
      "/Users/derrick/anaconda3/lib/python3.7/site-packages/sklearn/linear_model/sag.py:334: ConvergenceWarning: The max_iter was reached which means the coef_ did not converge\n",
      "  \"the coef_ did not converge\", ConvergenceWarning)\n"
     ]
    },
    {
     "name": "stdout",
     "output_type": "stream",
     "text": [
      "Accuracy on training data = 0.759764\n",
      "Accuracy on test data = 0.800809\n"
     ]
    },
    {
     "name": "stderr",
     "output_type": "stream",
     "text": [
      "/Users/derrick/anaconda3/lib/python3.7/site-packages/sklearn/linear_model/sag.py:334: ConvergenceWarning: The max_iter was reached which means the coef_ did not converge\n",
      "  \"the coef_ did not converge\", ConvergenceWarning)\n"
     ]
    },
    {
     "name": "stdout",
     "output_type": "stream",
     "text": [
      "Accuracy on training data = 0.759764\n",
      "Accuracy on test data = 0.800809\n",
      "Accuracy on training data = 0.759764\n",
      "Accuracy on test data = 0.800809\n"
     ]
    },
    {
     "name": "stderr",
     "output_type": "stream",
     "text": [
      "/Users/derrick/anaconda3/lib/python3.7/site-packages/sklearn/linear_model/sag.py:334: ConvergenceWarning: The max_iter was reached which means the coef_ did not converge\n",
      "  \"the coef_ did not converge\", ConvergenceWarning)\n"
     ]
    },
    {
     "data": {
      "text/plain": [
       "<matplotlib.legend.Legend at 0x1a2a8c6f60>"
      ]
     },
     "execution_count": 166,
     "metadata": {},
     "output_type": "execute_result"
    },
    {
     "data": {
      "image/png": "[encoded data removed]",
      "text/plain": [
       "<Figure size 432x288 with 1 Axes>"
      ]
     },
     "metadata": {
      "needs_background": "light"
     },
     "output_type": "display_data"
    }
   ],
   "source": [
    "acc_train_logreg = [] \n",
    "acc_test_logreg = []\n",
    "c_logreg = []\n",
    "\n",
    "#age, workclass, education.num, marital.status, occupation, relationship,race,sex,capital.gain,capital.loss,hours.per.week vs income\n",
    "X = df1.iloc[:,0:11]\n",
    "Y = df1.iloc[:,-1]\n",
    "# display(X)\n",
    "# display(Y)\n",
    "\n",
    "X_train = X[0:15081]\n",
    "Y_train = Y[0:15081]\n",
    "X_test = X[15081:]\n",
    "Y_test = Y[15081:]\n",
    "\n",
    "for c in cVals:\n",
    "    logreg_model(c, X_train, Y_train, X_test, Y_test)\n",
    "# Write code to plot 2 plots.\n",
    "# Plot training accuracy(Y-axis) v/s 'c' on X - Axis.\n",
    "# Plot test accuracy(Y-Axis) v/s 'c' on X - Axis.\n",
    "plt.plot(c_logreg, acc_train_logreg, 'ro-') \n",
    "plt.plot(c_logreg, acc_test_logreg,'bo-') \n",
    "plt.grid()\n",
    "plt.legend(['Training Accuracy', 'Test Accuracy'], loc='upper right')"
   ]
  },
  {
   "cell_type": "markdown",
   "metadata": {},
   "source": [
    "# Logistic Regression Using Polynomial Feature Transformation"
   ]
  },
  {
   "cell_type": "code",
   "execution_count": 167,
   "metadata": {},
   "outputs": [],
   "source": [
    "poly = PolynomialFeatures(degree=2)"
   ]
  },
  {
   "cell_type": "code",
   "execution_count": 168,
   "metadata": {},
   "outputs": [],
   "source": [
    "#Occupation vs income\n",
    "X = df1.iloc[:,4:5]\n",
    "Y = df1.iloc[:,-1]\n",
    "# display(X)\n",
    "# display(Y)\n",
    "\n",
    "X_train = X[0:15081]\n",
    "Y_train = Y[0:15081]\n",
    "X_test = X[15081:]\n",
    "Y_test = Y[15081:]\n",
    "\n",
    "X_transformed_train = poly.fit_transform(X_train)\n",
    "X_transformed_test = poly.fit_transform(X_test)"
   ]
  },
  {
   "cell_type": "code",
   "execution_count": 169,
   "metadata": {},
   "outputs": [
    {
     "data": {
      "text/plain": [
       "(15081, 3)"
      ]
     },
     "execution_count": 169,
     "metadata": {},
     "output_type": "execute_result"
    }
   ],
   "source": [
    "X_transformed_train.shape\n",
    "X_transformed_test.shape"
   ]
  },
  {
   "cell_type": "code",
   "execution_count": 170,
   "metadata": {},
   "outputs": [
    {
     "name": "stdout",
     "output_type": "stream",
     "text": [
      "Accuracy on training data = 0.701346\n",
      "Accuracy on test data = 0.800809\n",
      "Accuracy on training data = 0.701346\n",
      "Accuracy on test data = 0.800809\n"
     ]
    },
    {
     "name": "stderr",
     "output_type": "stream",
     "text": [
      "/Users/derrick/anaconda3/lib/python3.7/site-packages/sklearn/linear_model/sag.py:334: ConvergenceWarning: The max_iter was reached which means the coef_ did not converge\n",
      "  \"the coef_ did not converge\", ConvergenceWarning)\n"
     ]
    },
    {
     "name": "stdout",
     "output_type": "stream",
     "text": [
      "Accuracy on training data = 0.701346\n",
      "Accuracy on test data = 0.800809\n"
     ]
    },
    {
     "name": "stderr",
     "output_type": "stream",
     "text": [
      "/Users/derrick/anaconda3/lib/python3.7/site-packages/sklearn/linear_model/sag.py:334: ConvergenceWarning: The max_iter was reached which means the coef_ did not converge\n",
      "  \"the coef_ did not converge\", ConvergenceWarning)\n"
     ]
    },
    {
     "name": "stdout",
     "output_type": "stream",
     "text": [
      "Accuracy on training data = 0.701346\n",
      "Accuracy on test data = 0.800809\n",
      "Accuracy on training data = 0.701346\n",
      "Accuracy on test data = 0.800809\n",
      "Accuracy on training data = 0.701346\n",
      "Accuracy on test data = 0.800809\n",
      "Accuracy on training data = 0.701346\n",
      "Accuracy on test data = 0.800809\n"
     ]
    },
    {
     "data": {
      "text/plain": [
       "<matplotlib.legend.Legend at 0x1a2b414a58>"
      ]
     },
     "execution_count": 170,
     "metadata": {},
     "output_type": "execute_result"
    },
    {
     "data": {
      "image/png": "[encoded data removed]",
      "text/plain": [
       "<Figure size 432x288 with 1 Axes>"
      ]
     },
     "metadata": {
      "needs_background": "light"
     },
     "output_type": "display_data"
    }
   ],
   "source": [
    "acc_train_logreg = []\n",
    "acc_test_logreg = []\n",
    "c_logreg = []\n",
    "# Call the function logreg_model.\n",
    "for c in cVals:\n",
    "    logreg_model(c, X_transformed_train, Y_train, X_transformed_test, Y_test)\n",
    "# Write code to plot 2 plots.\n",
    "# Plot training accuracy(Y-axis) v/s 'c' on X - Axis.\n",
    "# Plot test accuracy(Y-Axis) v/s 'c' on X - Axis.\n",
    "plt.plot(c_logreg, acc_train_logreg, 'ro-') \n",
    "plt.plot(c_logreg, acc_test_logreg,'bo-') \n",
    "plt.grid()\n",
    "plt.legend(['Training Accuracy', 'Test Accuracy'], loc='upper right')"
   ]
  },
  {
   "cell_type": "code",
   "execution_count": 171,
   "metadata": {},
   "outputs": [
    {
     "name": "stdout",
     "output_type": "stream",
     "text": [
      "Accuracy on training data = 0.701346\n",
      "Accuracy on test data = 0.800809\n",
      "Accuracy on training data = 0.701346\n",
      "Accuracy on test data = 0.800809\n",
      "Accuracy on training data = 0.701346\n",
      "Accuracy on test data = 0.800809\n",
      "Accuracy on training data = 0.701346\n",
      "Accuracy on test data = 0.800809\n",
      "Accuracy on training data = 0.701346\n",
      "Accuracy on test data = 0.800809\n",
      "Accuracy on training data = 0.701346\n",
      "Accuracy on test data = 0.800809\n",
      "Accuracy on training data = 0.701346\n",
      "Accuracy on test data = 0.800809\n"
     ]
    },
    {
     "name": "stderr",
     "output_type": "stream",
     "text": [
      "/Users/derrick/anaconda3/lib/python3.7/site-packages/sklearn/linear_model/logistic.py:433: FutureWarning: Default solver will be changed to 'lbfgs' in 0.22. Specify a solver to silence this warning.\n",
      "  FutureWarning)\n",
      "/Users/derrick/anaconda3/lib/python3.7/site-packages/sklearn/linear_model/logistic.py:433: FutureWarning: Default solver will be changed to 'lbfgs' in 0.22. Specify a solver to silence this warning.\n",
      "  FutureWarning)\n",
      "/Users/derrick/anaconda3/lib/python3.7/site-packages/sklearn/linear_model/logistic.py:433: FutureWarning: Default solver will be changed to 'lbfgs' in 0.22. Specify a solver to silence this warning.\n",
      "  FutureWarning)\n",
      "/Users/derrick/anaconda3/lib/python3.7/site-packages/sklearn/linear_model/logistic.py:433: FutureWarning: Default solver will be changed to 'lbfgs' in 0.22. Specify a solver to silence this warning.\n",
      "  FutureWarning)\n",
      "/Users/derrick/anaconda3/lib/python3.7/site-packages/sklearn/linear_model/logistic.py:433: FutureWarning: Default solver will be changed to 'lbfgs' in 0.22. Specify a solver to silence this warning.\n",
      "  FutureWarning)\n",
      "/Users/derrick/anaconda3/lib/python3.7/site-packages/sklearn/linear_model/logistic.py:433: FutureWarning: Default solver will be changed to 'lbfgs' in 0.22. Specify a solver to silence this warning.\n",
      "  FutureWarning)\n",
      "/Users/derrick/anaconda3/lib/python3.7/site-packages/sklearn/linear_model/logistic.py:433: FutureWarning: Default solver will be changed to 'lbfgs' in 0.22. Specify a solver to silence this warning.\n",
      "  FutureWarning)\n"
     ]
    },
    {
     "data": {
      "text/plain": [
       "<matplotlib.legend.Legend at 0x1a2c65dda0>"
      ]
     },
     "execution_count": 171,
     "metadata": {},
     "output_type": "execute_result"
    },
    {
     "data": {
      "image/png": "[encoded data removed]",
      "text/plain": [
       "<Figure size 432x288 with 1 Axes>"
      ]
     },
     "metadata": {
      "needs_background": "light"
     },
     "output_type": "display_data"
    }
   ],
   "source": [
    "# Calling the logreg2_model(..) using transformed features.\n",
    "# Pass c, X_transformed_train , Y_train, X_transformed_test, Y_test\n",
    "# Before calling the function, we need to re-initialize the 3 lists in which we append the \n",
    "# results (accuracy) beacause these list are global varibles.\n",
    "acc_train_logreg2 = []\n",
    "acc_test_logreg2 = []\n",
    "c_logreg2 = []\n",
    "# Call the function logreg2_model.\n",
    "for c in cVals:\n",
    "    logreg2_model(c, X_transformed_train, Y_train, X_transformed_test, Y_test)\n",
    "# Write code to plot 2 plots.\n",
    "# Plot training accuracy(Y-axis) v/s 'c' on X - Axis.\n",
    "# Plot test accuracy(Y-Axis) v/s 'c' on X - Axis.\n",
    "plt.plot(c_logreg2, acc_train_logreg2, 'ro-') \n",
    "plt.plot(c_logreg2, acc_test_logreg2,'bo-') \n",
    "plt.grid()\n",
    "plt.legend(['Training Accuracy', 'Test Accuracy'], loc='upper right')"
   ]
  },
  {
   "cell_type": "code",
   "execution_count": 172,
   "metadata": {},
   "outputs": [
    {
     "name": "stderr",
     "output_type": "stream",
     "text": [
      "/Users/derrick/anaconda3/lib/python3.7/site-packages/sklearn/linear_model/sag.py:334: ConvergenceWarning: The max_iter was reached which means the coef_ did not converge\n",
      "  \"the coef_ did not converge\", ConvergenceWarning)\n"
     ]
    },
    {
     "name": "stdout",
     "output_type": "stream",
     "text": [
      "Accuracy on training data = 0.705855\n",
      "Accuracy on test data = 0.768716\n"
     ]
    },
    {
     "name": "stderr",
     "output_type": "stream",
     "text": [
      "/Users/derrick/anaconda3/lib/python3.7/site-packages/sklearn/linear_model/sag.py:334: ConvergenceWarning: The max_iter was reached which means the coef_ did not converge\n",
      "  \"the coef_ did not converge\", ConvergenceWarning)\n"
     ]
    },
    {
     "name": "stdout",
     "output_type": "stream",
     "text": [
      "Accuracy on training data = 0.757244\n",
      "Accuracy on test data = 0.805318\n"
     ]
    },
    {
     "name": "stderr",
     "output_type": "stream",
     "text": [
      "/Users/derrick/anaconda3/lib/python3.7/site-packages/sklearn/linear_model/sag.py:334: ConvergenceWarning: The max_iter was reached which means the coef_ did not converge\n",
      "  \"the coef_ did not converge\", ConvergenceWarning)\n"
     ]
    },
    {
     "name": "stdout",
     "output_type": "stream",
     "text": [
      "Accuracy on training data = 0.759764\n",
      "Accuracy on test data = 0.809098\n"
     ]
    },
    {
     "name": "stderr",
     "output_type": "stream",
     "text": [
      "/Users/derrick/anaconda3/lib/python3.7/site-packages/sklearn/linear_model/sag.py:334: ConvergenceWarning: The max_iter was reached which means the coef_ did not converge\n",
      "  \"the coef_ did not converge\", ConvergenceWarning)\n"
     ]
    },
    {
     "name": "stdout",
     "output_type": "stream",
     "text": [
      "Accuracy on training data = 0.759764\n",
      "Accuracy on test data = 0.808832\n"
     ]
    },
    {
     "name": "stderr",
     "output_type": "stream",
     "text": [
      "/Users/derrick/anaconda3/lib/python3.7/site-packages/sklearn/linear_model/sag.py:334: ConvergenceWarning: The max_iter was reached which means the coef_ did not converge\n",
      "  \"the coef_ did not converge\", ConvergenceWarning)\n"
     ]
    },
    {
     "name": "stdout",
     "output_type": "stream",
     "text": [
      "Accuracy on training data = 0.759631\n",
      "Accuracy on test data = 0.808832\n"
     ]
    },
    {
     "name": "stderr",
     "output_type": "stream",
     "text": [
      "/Users/derrick/anaconda3/lib/python3.7/site-packages/sklearn/linear_model/sag.py:334: ConvergenceWarning: The max_iter was reached which means the coef_ did not converge\n",
      "  \"the coef_ did not converge\", ConvergenceWarning)\n"
     ]
    },
    {
     "name": "stdout",
     "output_type": "stream",
     "text": [
      "Accuracy on training data = 0.759631\n",
      "Accuracy on test data = 0.808899\n",
      "Accuracy on training data = 0.759631\n",
      "Accuracy on test data = 0.808965\n"
     ]
    },
    {
     "name": "stderr",
     "output_type": "stream",
     "text": [
      "/Users/derrick/anaconda3/lib/python3.7/site-packages/sklearn/linear_model/sag.py:334: ConvergenceWarning: The max_iter was reached which means the coef_ did not converge\n",
      "  \"the coef_ did not converge\", ConvergenceWarning)\n"
     ]
    },
    {
     "data": {
      "text/plain": [
       "<matplotlib.legend.Legend at 0x1a2bf6f7b8>"
      ]
     },
     "execution_count": 172,
     "metadata": {},
     "output_type": "execute_result"
    },
    {
     "data": {
      "image/png": "[encoded data removed]",
      "text/plain": [
       "<Figure size 432x288 with 1 Axes>"
      ]
     },
     "metadata": {
      "needs_background": "light"
     },
     "output_type": "display_data"
    }
   ],
   "source": [
    "#age, workclass, education.num, marital.status, occupation vs income\n",
    "X = df1.iloc[:,0:5]\n",
    "Y = df1.iloc[:,-1]\n",
    "# display(X)\n",
    "# display(Y)\n",
    "\n",
    "X_train = X[0:15081]\n",
    "Y_train = Y[0:15081]\n",
    "X_test = X[15081:]\n",
    "Y_test = Y[15081:]\n",
    "\n",
    "X_transformed_train = poly.fit_transform(X_train)\n",
    "X_transformed_test = poly.fit_transform(X_test)\n",
    "\n",
    "acc_train_logreg = []\n",
    "acc_test_logreg = []\n",
    "c_logreg = []\n",
    "# Call the function logreg_model.\n",
    "for c in cVals:\n",
    "    logreg_model(c, X_transformed_train, Y_train, X_transformed_test, Y_test)\n",
    "# Write code to plot 2 plots.\n",
    "# Plot training accuracy(Y-axis) v/s 'c' on X - Axis.\n",
    "# Plot test accuracy(Y-Axis) v/s 'c' on X - Axis.\n",
    "plt.plot(c_logreg, acc_train_logreg, 'ro-') \n",
    "plt.plot(c_logreg, acc_test_logreg,'bo-') \n",
    "plt.grid()\n",
    "plt.legend(['Training Accuracy', 'Test Accuracy'], loc='upper right')"
   ]
  },
  {
   "cell_type": "code",
   "execution_count": 173,
   "metadata": {},
   "outputs": [
    {
     "name": "stderr",
     "output_type": "stream",
     "text": [
      "/Users/derrick/anaconda3/lib/python3.7/site-packages/sklearn/linear_model/logistic.py:433: FutureWarning: Default solver will be changed to 'lbfgs' in 0.22. Specify a solver to silence this warning.\n",
      "  FutureWarning)\n",
      "/Users/derrick/anaconda3/lib/python3.7/site-packages/sklearn/linear_model/logistic.py:433: FutureWarning: Default solver will be changed to 'lbfgs' in 0.22. Specify a solver to silence this warning.\n",
      "  FutureWarning)\n"
     ]
    },
    {
     "name": "stdout",
     "output_type": "stream",
     "text": [
      "Accuracy on training data = 0.786685\n",
      "Accuracy on test data = 0.834825\n",
      "Accuracy on training data = 0.790929\n",
      "Accuracy on test data = 0.836748\n"
     ]
    },
    {
     "name": "stderr",
     "output_type": "stream",
     "text": [
      "/Users/derrick/anaconda3/lib/python3.7/site-packages/sklearn/linear_model/logistic.py:433: FutureWarning: Default solver will be changed to 'lbfgs' in 0.22. Specify a solver to silence this warning.\n",
      "  FutureWarning)\n"
     ]
    },
    {
     "name": "stdout",
     "output_type": "stream",
     "text": [
      "Accuracy on training data = 0.794045\n",
      "Accuracy on test data = 0.836350\n"
     ]
    },
    {
     "name": "stderr",
     "output_type": "stream",
     "text": [
      "/Users/derrick/anaconda3/lib/python3.7/site-packages/sklearn/linear_model/logistic.py:433: FutureWarning: Default solver will be changed to 'lbfgs' in 0.22. Specify a solver to silence this warning.\n",
      "  FutureWarning)\n"
     ]
    },
    {
     "name": "stdout",
     "output_type": "stream",
     "text": [
      "Accuracy on training data = 0.794178\n",
      "Accuracy on test data = 0.837743\n"
     ]
    },
    {
     "name": "stderr",
     "output_type": "stream",
     "text": [
      "/Users/derrick/anaconda3/lib/python3.7/site-packages/sklearn/linear_model/logistic.py:433: FutureWarning: Default solver will be changed to 'lbfgs' in 0.22. Specify a solver to silence this warning.\n",
      "  FutureWarning)\n"
     ]
    },
    {
     "name": "stdout",
     "output_type": "stream",
     "text": [
      "Accuracy on training data = 0.794642\n",
      "Accuracy on test data = 0.837610\n"
     ]
    },
    {
     "name": "stderr",
     "output_type": "stream",
     "text": [
      "/Users/derrick/anaconda3/lib/python3.7/site-packages/sklearn/linear_model/logistic.py:433: FutureWarning: Default solver will be changed to 'lbfgs' in 0.22. Specify a solver to silence this warning.\n",
      "  FutureWarning)\n"
     ]
    },
    {
     "name": "stdout",
     "output_type": "stream",
     "text": [
      "Accuracy on training data = 0.796963\n",
      "Accuracy on test data = 0.838207\n"
     ]
    },
    {
     "name": "stderr",
     "output_type": "stream",
     "text": [
      "/Users/derrick/anaconda3/lib/python3.7/site-packages/sklearn/linear_model/logistic.py:433: FutureWarning: Default solver will be changed to 'lbfgs' in 0.22. Specify a solver to silence this warning.\n",
      "  FutureWarning)\n"
     ]
    },
    {
     "name": "stdout",
     "output_type": "stream",
     "text": [
      "Accuracy on training data = 0.794510\n",
      "Accuracy on test data = 0.837279\n"
     ]
    },
    {
     "data": {
      "text/plain": [
       "<matplotlib.legend.Legend at 0x1a2b151978>"
      ]
     },
     "execution_count": 173,
     "metadata": {},
     "output_type": "execute_result"
    },
    {
     "data": {
      "image/png": "[encoded data removed]",
      "text/plain": [
       "<Figure size 432x288 with 1 Axes>"
      ]
     },
     "metadata": {
      "needs_background": "light"
     },
     "output_type": "display_data"
    }
   ],
   "source": [
    "# Calling the logreg2_model(..) using transformed features.\n",
    "# Pass c, X_transformed_train , Y_train, X_transformed_test, Y_test\n",
    "# Before calling the function, we need to re-initialize the 3 lists in which we append the \n",
    "# results (accuracy) beacause these list are global varibles.\n",
    "acc_train_logreg2 = []\n",
    "acc_test_logreg2 = []\n",
    "c_logreg2 = []\n",
    "# Call the function logreg2_model.\n",
    "for c in cVals:\n",
    "    logreg2_model(c, X_transformed_train, Y_train, X_transformed_test, Y_test)\n",
    "# Write code to plot 2 plots.\n",
    "# Plot training accuracy(Y-axis) v/s 'c' on X - Axis.\n",
    "# Plot test accuracy(Y-Axis) v/s 'c' on X - Axis.\n",
    "plt.plot(c_logreg2, acc_train_logreg2, 'ro-') \n",
    "plt.plot(c_logreg2, acc_test_logreg2,'bo-') \n",
    "plt.grid()\n",
    "plt.legend(['Training Accuracy', 'Test Accuracy'], loc='upper right')"
   ]
  },
  {
   "cell_type": "code",
   "execution_count": 174,
   "metadata": {},
   "outputs": [
    {
     "name": "stderr",
     "output_type": "stream",
     "text": [
      "/Users/derrick/anaconda3/lib/python3.7/site-packages/sklearn/linear_model/sag.py:334: ConvergenceWarning: The max_iter was reached which means the coef_ did not converge\n",
      "  \"the coef_ did not converge\", ConvergenceWarning)\n"
     ]
    },
    {
     "name": "stdout",
     "output_type": "stream",
     "text": [
      "Accuracy on training data = 0.747696\n",
      "Accuracy on test data = 0.800809\n"
     ]
    },
    {
     "name": "stderr",
     "output_type": "stream",
     "text": [
      "/Users/derrick/anaconda3/lib/python3.7/site-packages/sklearn/linear_model/sag.py:334: ConvergenceWarning: The max_iter was reached which means the coef_ did not converge\n",
      "  \"the coef_ did not converge\", ConvergenceWarning)\n"
     ]
    },
    {
     "name": "stdout",
     "output_type": "stream",
     "text": [
      "Accuracy on training data = 0.747696\n",
      "Accuracy on test data = 0.800809\n"
     ]
    },
    {
     "name": "stderr",
     "output_type": "stream",
     "text": [
      "/Users/derrick/anaconda3/lib/python3.7/site-packages/sklearn/linear_model/sag.py:334: ConvergenceWarning: The max_iter was reached which means the coef_ did not converge\n",
      "  \"the coef_ did not converge\", ConvergenceWarning)\n"
     ]
    },
    {
     "name": "stdout",
     "output_type": "stream",
     "text": [
      "Accuracy on training data = 0.747696\n",
      "Accuracy on test data = 0.800809\n"
     ]
    },
    {
     "name": "stderr",
     "output_type": "stream",
     "text": [
      "/Users/derrick/anaconda3/lib/python3.7/site-packages/sklearn/linear_model/sag.py:334: ConvergenceWarning: The max_iter was reached which means the coef_ did not converge\n",
      "  \"the coef_ did not converge\", ConvergenceWarning)\n"
     ]
    },
    {
     "name": "stdout",
     "output_type": "stream",
     "text": [
      "Accuracy on training data = 0.747696\n",
      "Accuracy on test data = 0.800809\n"
     ]
    },
    {
     "name": "stderr",
     "output_type": "stream",
     "text": [
      "/Users/derrick/anaconda3/lib/python3.7/site-packages/sklearn/linear_model/sag.py:334: ConvergenceWarning: The max_iter was reached which means the coef_ did not converge\n",
      "  \"the coef_ did not converge\", ConvergenceWarning)\n"
     ]
    },
    {
     "name": "stdout",
     "output_type": "stream",
     "text": [
      "Accuracy on training data = 0.747696\n",
      "Accuracy on test data = 0.800809\n"
     ]
    },
    {
     "name": "stderr",
     "output_type": "stream",
     "text": [
      "/Users/derrick/anaconda3/lib/python3.7/site-packages/sklearn/linear_model/sag.py:334: ConvergenceWarning: The max_iter was reached which means the coef_ did not converge\n",
      "  \"the coef_ did not converge\", ConvergenceWarning)\n"
     ]
    },
    {
     "name": "stdout",
     "output_type": "stream",
     "text": [
      "Accuracy on training data = 0.747696\n",
      "Accuracy on test data = 0.800809\n",
      "Accuracy on training data = 0.747696\n",
      "Accuracy on test data = 0.800809\n"
     ]
    },
    {
     "name": "stderr",
     "output_type": "stream",
     "text": [
      "/Users/derrick/anaconda3/lib/python3.7/site-packages/sklearn/linear_model/sag.py:334: ConvergenceWarning: The max_iter was reached which means the coef_ did not converge\n",
      "  \"the coef_ did not converge\", ConvergenceWarning)\n"
     ]
    },
    {
     "data": {
      "text/plain": [
       "<matplotlib.legend.Legend at 0x1a2a112780>"
      ]
     },
     "execution_count": 174,
     "metadata": {},
     "output_type": "execute_result"
    },
    {
     "data": {
      "image/png": "[encoded data removed]",
      "text/plain": [
       "<Figure size 432x288 with 1 Axes>"
      ]
     },
     "metadata": {
      "needs_background": "light"
     },
     "output_type": "display_data"
    }
   ],
   "source": [
    "#age, workclass, education.num, marital.status, occupation, relationship,race,sex,capital.gain,capital.loss,hours.per.week vs income\n",
    "X = df1.iloc[:,0:11]\n",
    "Y = df1.iloc[:,-1]\n",
    "# display(X)\n",
    "# display(Y)\n",
    "\n",
    "X_train = X[0:15081]\n",
    "Y_train = Y[0:15081]\n",
    "X_test = X[15081:]\n",
    "Y_test = Y[15081:]\n",
    "\n",
    "X_transformed_train = poly.fit_transform(X_train)\n",
    "X_transformed_test = poly.fit_transform(X_test)\n",
    "\n",
    "acc_train_logreg = []\n",
    "acc_test_logreg = []\n",
    "c_logreg = []\n",
    "# Call the function logreg_model.\n",
    "for c in cVals:\n",
    "    logreg_model(c, X_transformed_train, Y_train, X_transformed_test, Y_test)\n",
    "# Write code to plot 2 plots.\n",
    "# Plot training accuracy(Y-axis) v/s 'c' on X - Axis.\n",
    "# Plot test accuracy(Y-Axis) v/s 'c' on X - Axis.\n",
    "plt.plot(c_logreg, acc_train_logreg, 'ro-') \n",
    "plt.plot(c_logreg, acc_test_logreg,'bo-') \n",
    "plt.grid()\n",
    "plt.legend(['Training Accuracy', 'Test Accuracy'], loc='upper right')"
   ]
  },
  {
   "cell_type": "code",
   "execution_count": 175,
   "metadata": {},
   "outputs": [
    {
     "name": "stderr",
     "output_type": "stream",
     "text": [
      "/Users/derrick/anaconda3/lib/python3.7/site-packages/sklearn/linear_model/logistic.py:433: FutureWarning: Default solver will be changed to 'lbfgs' in 0.22. Specify a solver to silence this warning.\n",
      "  FutureWarning)\n",
      "/Users/derrick/anaconda3/lib/python3.7/site-packages/sklearn/linear_model/logistic.py:433: FutureWarning: Default solver will be changed to 'lbfgs' in 0.22. Specify a solver to silence this warning.\n",
      "  FutureWarning)\n",
      "/Users/derrick/anaconda3/lib/python3.7/site-packages/sklearn/linear_model/logistic.py:433: FutureWarning: Default solver will be changed to 'lbfgs' in 0.22. Specify a solver to silence this warning.\n",
      "  FutureWarning)\n"
     ]
    },
    {
     "name": "stdout",
     "output_type": "stream",
     "text": [
      "Accuracy on training data = 0.747696\n",
      "Accuracy on test data = 0.800809\n",
      "Accuracy on training data = 0.747696\n",
      "Accuracy on test data = 0.800809\n",
      "Accuracy on training data = 0.747696\n",
      "Accuracy on test data = 0.800809\n"
     ]
    },
    {
     "name": "stderr",
     "output_type": "stream",
     "text": [
      "/Users/derrick/anaconda3/lib/python3.7/site-packages/sklearn/linear_model/logistic.py:433: FutureWarning: Default solver will be changed to 'lbfgs' in 0.22. Specify a solver to silence this warning.\n",
      "  FutureWarning)\n",
      "/Users/derrick/anaconda3/lib/python3.7/site-packages/sklearn/linear_model/logistic.py:433: FutureWarning: Default solver will be changed to 'lbfgs' in 0.22. Specify a solver to silence this warning.\n",
      "  FutureWarning)\n"
     ]
    },
    {
     "name": "stdout",
     "output_type": "stream",
     "text": [
      "Accuracy on training data = 0.747696\n",
      "Accuracy on test data = 0.800809\n",
      "Accuracy on training data = 0.747696\n",
      "Accuracy on test data = 0.800809\n"
     ]
    },
    {
     "name": "stderr",
     "output_type": "stream",
     "text": [
      "/Users/derrick/anaconda3/lib/python3.7/site-packages/sklearn/linear_model/logistic.py:433: FutureWarning: Default solver will be changed to 'lbfgs' in 0.22. Specify a solver to silence this warning.\n",
      "  FutureWarning)\n",
      "/Users/derrick/anaconda3/lib/python3.7/site-packages/sklearn/linear_model/logistic.py:433: FutureWarning: Default solver will be changed to 'lbfgs' in 0.22. Specify a solver to silence this warning.\n",
      "  FutureWarning)\n"
     ]
    },
    {
     "name": "stdout",
     "output_type": "stream",
     "text": [
      "Accuracy on training data = 0.747696\n",
      "Accuracy on test data = 0.800809\n",
      "Accuracy on training data = 0.747696\n",
      "Accuracy on test data = 0.800809\n"
     ]
    },
    {
     "data": {
      "text/plain": [
       "<matplotlib.legend.Legend at 0x1a28a6c400>"
      ]
     },
     "execution_count": 175,
     "metadata": {},
     "output_type": "execute_result"
    },
    {
     "data": {
      "image/png": "[encoded data removed]",
      "text/plain": [
       "<Figure size 432x288 with 1 Axes>"
      ]
     },
     "metadata": {
      "needs_background": "light"
     },
     "output_type": "display_data"
    }
   ],
   "source": [
    "# Calling the logreg2_model(..) using transformed features.\n",
    "# Pass c, X_transformed_train , Y_train, X_transformed_test, Y_test\n",
    "# Before calling the function, we need to re-initialize the 3 lists in which we append the \n",
    "# results (accuracy) beacause these list are global varibles.\n",
    "acc_train_logreg2 = []\n",
    "acc_test_logreg2 = []\n",
    "c_logreg2 = []\n",
    "# Call the function logreg2_model.\n",
    "for c in cVals:\n",
    "    logreg2_model(c, X_transformed_train, Y_train, X_transformed_test, Y_test)\n",
    "# Write code to plot 2 plots.\n",
    "# Plot training accuracy(Y-axis) v/s 'c' on X - Axis.\n",
    "# Plot test accuracy(Y-Axis) v/s 'c' on X - Axis.\n",
    "plt.plot(c_logreg2, acc_train_logreg2, 'ro-') \n",
    "plt.plot(c_logreg2, acc_test_logreg2,'bo-') \n",
    "plt.grid()\n",
    "plt.legend(['Training Accuracy', 'Test Accuracy'], loc='upper right')"
   ]
  },
  {
   "cell_type": "markdown",
   "metadata": {},
   "source": [
    "# Neural Network"
   ]
  },
  {
   "cell_type": "markdown",
   "metadata": {},
   "source": [
    "# Unscaled Sigmoid"
   ]
  },
  {
   "cell_type": "code",
   "execution_count": 176,
   "metadata": {},
   "outputs": [],
   "source": [
    "import keras\n",
    "import tensorflow as tf\n",
    "from sklearn.preprocessing import StandardScaler  # It is important in neural networks to scale the date\n",
    "from sklearn.model_selection import train_test_split  # The standard - train/test to prevent overfitting and choose hyperparameters\n",
    "from sklearn.metrics import accuracy_score # \n",
    "import numpy as np\n",
    "import numpy.random as r # We will randomly initialize our weights\n",
    "\n",
    "from keras.models import Model, Sequential\n",
    "from keras.layers import Dense, Activation"
   ]
  },
  {
   "cell_type": "code",
   "execution_count": 177,
   "metadata": {},
   "outputs": [
    {
     "name": "stdout",
     "output_type": "stream",
     "text": [
      "(30162, 11)\n",
      "[[0]\n",
      " [0]\n",
      " [0]\n",
      " ...\n",
      " [1]\n",
      " [0]\n",
      " [0]]\n"
     ]
    }
   ],
   "source": [
    "X = np.array(df1.iloc[:,:11])\n",
    "Y = np.array(df1.iloc[:,-1]).reshape(np.array(df1.iloc[:,-1]).shape[0],1)\n",
    "print(X.shape)\n",
    "print(Y)"
   ]
  },
  {
   "cell_type": "code",
   "execution_count": 178,
   "metadata": {},
   "outputs": [
    {
     "name": "stdout",
     "output_type": "stream",
     "text": [
      "(18097, 11)\n"
     ]
    }
   ],
   "source": [
    "# Split the data into training and test set.  60% training and %40 test\n",
    "X_train, X_test, Y_train, Y_test = train_test_split(X, Y, test_size=0.4)\n",
    "\n",
    "print(X_train.shape)"
   ]
  },
  {
   "cell_type": "code",
   "execution_count": 179,
   "metadata": {},
   "outputs": [
    {
     "name": "stdout",
     "output_type": "stream",
     "text": [
      "Model: \"sequential_10\"\n",
      "_________________________________________________________________\n",
      "Layer (type)                 Output Shape              Param #   \n",
      "=================================================================\n",
      "dense_19 (Dense)             (None, 9)                 108       \n",
      "_________________________________________________________________\n",
      "dense_20 (Dense)             (None, 1)                 10        \n",
      "=================================================================\n",
      "Total params: 118\n",
      "Trainable params: 118\n",
      "Non-trainable params: 0\n",
      "_________________________________________________________________\n"
     ]
    },
    {
     "name": "stderr",
     "output_type": "stream",
     "text": [
      "/Users/derrick/anaconda3/lib/python3.7/site-packages/ipykernel_launcher.py:3: UserWarning: Update your `Dense` call to the Keras 2 API: `Dense(activation=\"sigmoid\", input_dim=11, units=9)`\n",
      "  This is separate from the ipykernel package so we can avoid doing imports until\n",
      "/Users/derrick/anaconda3/lib/python3.7/site-packages/ipykernel_launcher.py:4: UserWarning: Update your `Dense` call to the Keras 2 API: `Dense(activation=\"sigmoid\", input_dim=9, units=1)`\n",
      "  after removing the cwd from sys.path.\n"
     ]
    }
   ],
   "source": [
    "model = keras.Sequential()\n",
    "\n",
    "model.add(Dense(output_dim=9, activation='sigmoid', input_dim=11))\n",
    "model.add(Dense(output_dim=1, activation='sigmoid', input_dim=9))\n",
    "\n",
    "model.compile(loss='binary_crossentropy', optimizer='rmsprop', metrics=['acc'])\n",
    "\n",
    "model.summary()"
   ]
  },
  {
   "cell_type": "code",
   "execution_count": 180,
   "metadata": {},
   "outputs": [
    {
     "name": "stderr",
     "output_type": "stream",
     "text": [
      "/Users/derrick/anaconda3/lib/python3.7/site-packages/ipykernel_launcher.py:1: UserWarning: The `nb_epoch` argument in `fit` has been renamed `epochs`.\n",
      "  \"\"\"Entry point for launching an IPython kernel.\n"
     ]
    },
    {
     "name": "stdout",
     "output_type": "stream",
     "text": [
      "Train on 18097 samples, validate on 12065 samples\n",
      "Epoch 1/50\n",
      "18097/18097 [==============================] - 0s 26us/step - loss: 1.1086 - acc: 0.2479 - val_loss: 1.0647 - val_acc: 0.2482\n",
      "Epoch 2/50\n",
      "18097/18097 [==============================] - 0s 2us/step - loss: 1.0432 - acc: 0.2468 - val_loss: 1.0160 - val_acc: 0.2482\n",
      "Epoch 3/50\n",
      "18097/18097 [==============================] - 0s 2us/step - loss: 0.9979 - acc: 0.2468 - val_loss: 0.9736 - val_acc: 0.2482\n",
      "Epoch 4/50\n",
      "18097/18097 [==============================] - 0s 2us/step - loss: 0.9560 - acc: 0.2468 - val_loss: 0.9312 - val_acc: 0.2482\n",
      "Epoch 5/50\n",
      "18097/18097 [==============================] - 0s 2us/step - loss: 0.9137 - acc: 0.2468 - val_loss: 0.8892 - val_acc: 0.2482\n",
      "Epoch 6/50\n",
      "18097/18097 [==============================] - 0s 2us/step - loss: 0.8701 - acc: 0.2468 - val_loss: 0.8445 - val_acc: 0.2482\n",
      "Epoch 7/50\n",
      "18097/18097 [==============================] - 0s 2us/step - loss: 0.8269 - acc: 0.2553 - val_loss: 0.8029 - val_acc: 0.2821\n",
      "Epoch 8/50\n",
      "18097/18097 [==============================] - 0s 2us/step - loss: 0.7864 - acc: 0.3266 - val_loss: 0.7642 - val_acc: 0.3804\n",
      "Epoch 9/50\n",
      "18097/18097 [==============================] - 0s 2us/step - loss: 0.7501 - acc: 0.4218 - val_loss: 0.7300 - val_acc: 0.4724\n",
      "Epoch 10/50\n",
      "18097/18097 [==============================] - 0s 2us/step - loss: 0.7168 - acc: 0.5072 - val_loss: 0.6993 - val_acc: 0.5452\n",
      "Epoch 11/50\n",
      "18097/18097 [==============================] - 0s 2us/step - loss: 0.6881 - acc: 0.5764 - val_loss: 0.6731 - val_acc: 0.6086\n",
      "Epoch 12/50\n",
      "18097/18097 [==============================] - 0s 2us/step - loss: 0.6623 - acc: 0.6317 - val_loss: 0.6487 - val_acc: 0.6592\n",
      "Epoch 13/50\n",
      "18097/18097 [==============================] - 0s 2us/step - loss: 0.6378 - acc: 0.6837 - val_loss: 0.6223 - val_acc: 0.7140\n",
      "Epoch 14/50\n",
      "18097/18097 [==============================] - 0s 2us/step - loss: 0.6098 - acc: 0.7328 - val_loss: 0.5934 - val_acc: 0.7571\n",
      "Epoch 15/50\n",
      "18097/18097 [==============================] - 0s 2us/step - loss: 0.5801 - acc: 0.7678 - val_loss: 0.5652 - val_acc: 0.7712\n",
      "Epoch 16/50\n",
      "18097/18097 [==============================] - 0s 2us/step - loss: 0.5545 - acc: 0.7717 - val_loss: 0.5438 - val_acc: 0.7718\n",
      "Epoch 17/50\n",
      "18097/18097 [==============================] - 0s 2us/step - loss: 0.5377 - acc: 0.7737 - val_loss: 0.5325 - val_acc: 0.7884\n",
      "Epoch 18/50\n",
      "18097/18097 [==============================] - 0s 2us/step - loss: 0.5272 - acc: 0.7844 - val_loss: 0.5228 - val_acc: 0.7892\n",
      "Epoch 19/50\n",
      "18097/18097 [==============================] - 0s 2us/step - loss: 0.5213 - acc: 0.7894 - val_loss: 0.5188 - val_acc: 0.7907\n",
      "Epoch 20/50\n",
      "18097/18097 [==============================] - 0s 2us/step - loss: 0.5181 - acc: 0.7884 - val_loss: 0.5152 - val_acc: 0.7924\n",
      "Epoch 21/50\n",
      "18097/18097 [==============================] - 0s 2us/step - loss: 0.5147 - acc: 0.7892 - val_loss: 0.5127 - val_acc: 0.7912\n",
      "Epoch 22/50\n",
      "18097/18097 [==============================] - 0s 2us/step - loss: 0.5114 - acc: 0.7907 - val_loss: 0.5112 - val_acc: 0.7843\n",
      "Epoch 23/50\n",
      "18097/18097 [==============================] - 0s 2us/step - loss: 0.5084 - acc: 0.7898 - val_loss: 0.5063 - val_acc: 0.7908\n",
      "Epoch 24/50\n",
      "18097/18097 [==============================] - 0s 2us/step - loss: 0.5050 - acc: 0.7905 - val_loss: 0.5047 - val_acc: 0.7878\n",
      "Epoch 25/50\n",
      "18097/18097 [==============================] - 0s 2us/step - loss: 0.5028 - acc: 0.7899 - val_loss: 0.5021 - val_acc: 0.7928\n",
      "Epoch 26/50\n",
      "18097/18097 [==============================] - 0s 2us/step - loss: 0.5004 - acc: 0.7896 - val_loss: 0.4987 - val_acc: 0.7917\n",
      "Epoch 27/50\n",
      "18097/18097 [==============================] - 0s 2us/step - loss: 0.4981 - acc: 0.7898 - val_loss: 0.4966 - val_acc: 0.7910\n",
      "Epoch 28/50\n",
      "18097/18097 [==============================] - 0s 2us/step - loss: 0.4958 - acc: 0.7898 - val_loss: 0.4945 - val_acc: 0.7925\n",
      "Epoch 29/50\n",
      "18097/18097 [==============================] - 0s 2us/step - loss: 0.4938 - acc: 0.7906 - val_loss: 0.4940 - val_acc: 0.7885\n",
      "Epoch 30/50\n",
      "18097/18097 [==============================] - 0s 2us/step - loss: 0.4920 - acc: 0.7909 - val_loss: 0.4911 - val_acc: 0.7915\n",
      "Epoch 31/50\n",
      "18097/18097 [==============================] - 0s 2us/step - loss: 0.4907 - acc: 0.7902 - val_loss: 0.4902 - val_acc: 0.7913\n",
      "Epoch 32/50\n",
      "18097/18097 [==============================] - 0s 2us/step - loss: 0.4896 - acc: 0.7902 - val_loss: 0.4879 - val_acc: 0.7908\n",
      "Epoch 33/50\n",
      "18097/18097 [==============================] - 0s 2us/step - loss: 0.4878 - acc: 0.7905 - val_loss: 0.4867 - val_acc: 0.7926\n",
      "Epoch 34/50\n",
      "18097/18097 [==============================] - 0s 2us/step - loss: 0.4867 - acc: 0.7906 - val_loss: 0.4855 - val_acc: 0.7925\n",
      "Epoch 35/50\n",
      "18097/18097 [==============================] - 0s 2us/step - loss: 0.4861 - acc: 0.7908 - val_loss: 0.4849 - val_acc: 0.7915\n",
      "Epoch 36/50\n",
      "18097/18097 [==============================] - 0s 2us/step - loss: 0.4847 - acc: 0.7907 - val_loss: 0.4845 - val_acc: 0.7906\n",
      "Epoch 37/50\n",
      "18097/18097 [==============================] - 0s 2us/step - loss: 0.4836 - acc: 0.7902 - val_loss: 0.4828 - val_acc: 0.7925\n",
      "Epoch 38/50\n",
      "18097/18097 [==============================] - 0s 2us/step - loss: 0.4824 - acc: 0.7910 - val_loss: 0.4847 - val_acc: 0.7896\n",
      "Epoch 39/50\n",
      "18097/18097 [==============================] - 0s 2us/step - loss: 0.4823 - acc: 0.7905 - val_loss: 0.4805 - val_acc: 0.7923\n",
      "Epoch 40/50\n",
      "18097/18097 [==============================] - 0s 1us/step - loss: 0.4810 - acc: 0.7905 - val_loss: 0.4803 - val_acc: 0.7912\n",
      "Epoch 41/50\n",
      "18097/18097 [==============================] - 0s 1us/step - loss: 0.4798 - acc: 0.7907 - val_loss: 0.4787 - val_acc: 0.7920\n",
      "Epoch 42/50\n",
      "18097/18097 [==============================] - 0s 1us/step - loss: 0.4794 - acc: 0.7904 - val_loss: 0.4781 - val_acc: 0.7927\n",
      "Epoch 43/50\n",
      "18097/18097 [==============================] - 0s 1us/step - loss: 0.4788 - acc: 0.7907 - val_loss: 0.4772 - val_acc: 0.7930\n",
      "Epoch 44/50\n",
      "18097/18097 [==============================] - 0s 1us/step - loss: 0.4773 - acc: 0.7915 - val_loss: 0.4774 - val_acc: 0.7908\n",
      "Epoch 45/50\n",
      "18097/18097 [==============================] - 0s 1us/step - loss: 0.4767 - acc: 0.7911 - val_loss: 0.4771 - val_acc: 0.7919\n",
      "Epoch 46/50\n",
      "18097/18097 [==============================] - 0s 1us/step - loss: 0.4765 - acc: 0.7899 - val_loss: 0.4746 - val_acc: 0.7927\n",
      "Epoch 47/50\n",
      "18097/18097 [==============================] - 0s 1us/step - loss: 0.4758 - acc: 0.7905 - val_loss: 0.4745 - val_acc: 0.7917\n",
      "Epoch 48/50\n",
      "18097/18097 [==============================] - 0s 1us/step - loss: 0.4745 - acc: 0.7912 - val_loss: 0.4731 - val_acc: 0.7925\n",
      "Epoch 49/50\n",
      "18097/18097 [==============================] - 0s 1us/step - loss: 0.4737 - acc: 0.7911 - val_loss: 0.4732 - val_acc: 0.7930\n",
      "Epoch 50/50\n",
      "18097/18097 [==============================] - 0s 1us/step - loss: 0.4733 - acc: 0.7911 - val_loss: 0.4717 - val_acc: 0.7925\n"
     ]
    }
   ],
   "source": [
    "training_model = model.fit(X_train, Y_train, nb_epoch=50, batch_size=1810, validation_data=(X_test,Y_test),verbose=1)"
   ]
  },
  {
   "cell_type": "code",
   "execution_count": 181,
   "metadata": {},
   "outputs": [
    {
     "name": "stdout",
     "output_type": "stream",
     "text": [
      "12065/12065 [==============================] - 0s 11us/step\n",
      "[0.47165964181078357, 0.7924575217571488]\n"
     ]
    }
   ],
   "source": [
    "results = model.evaluate(X_test, Y_test)\n",
    "print(results)"
   ]
  },
  {
   "cell_type": "code",
   "execution_count": 182,
   "metadata": {},
   "outputs": [
    {
     "data": {
      "image/png": "[encoded data removed]",
      "text/plain": [
       "<Figure size 432x288 with 1 Axes>"
      ]
     },
     "metadata": {
      "needs_background": "light"
     },
     "output_type": "display_data"
    }
   ],
   "source": [
    "acc = training_model.history['acc']\n",
    "value_acc = training_model.history['val_acc']\n",
    "num_epochs = range(1, len(acc) + 1)\n",
    "plt.figure()\n",
    "plt.plot(num_epochs, acc, 'b.-', label='Training acc')\n",
    "plt.plot(num_epochs, value_acc, 'r.-', label='Validation acc')\n",
    "plt.title('Unscaled Training and Validation Accuracy for Income Prediction')\n",
    "plt.xlabel('Epochs')\n",
    "plt.ylabel('Accuracy')\n",
    "plt.legend()\n",
    "\n",
    "plt.show()"
   ]
  },
  {
   "cell_type": "markdown",
   "metadata": {},
   "source": [
    "# Unscaled L1 Regularization"
   ]
  },
  {
   "cell_type": "code",
   "execution_count": 192,
   "metadata": {},
   "outputs": [
    {
     "name": "stderr",
     "output_type": "stream",
     "text": [
      "/Users/derrick/anaconda3/lib/python3.7/site-packages/ipykernel_launcher.py:5: UserWarning: Update your `Dense` call to the Keras 2 API: `Dense(activation=\"sigmoid\", input_dim=11, units=9)`\n",
      "  \"\"\"\n",
      "/Users/derrick/anaconda3/lib/python3.7/site-packages/ipykernel_launcher.py:6: UserWarning: Update your `Dense` call to the Keras 2 API: `Dense(activation=\"sigmoid\", input_dim=9, units=1)`\n",
      "  \n",
      "/Users/derrick/anaconda3/lib/python3.7/site-packages/ipykernel_launcher.py:12: UserWarning: The `nb_epoch` argument in `fit` has been renamed `epochs`.\n",
      "  if sys.path[0] == '':\n"
     ]
    },
    {
     "name": "stdout",
     "output_type": "stream",
     "text": [
      "Model: \"sequential_24\"\n",
      "_________________________________________________________________\n",
      "Layer (type)                 Output Shape              Param #   \n",
      "=================================================================\n",
      "dense_47 (Dense)             (None, 9)                 108       \n",
      "_________________________________________________________________\n",
      "dense_48 (Dense)             (None, 1)                 10        \n",
      "=================================================================\n",
      "Total params: 118\n",
      "Trainable params: 118\n",
      "Non-trainable params: 0\n",
      "_________________________________________________________________\n",
      "Train on 18097 samples, validate on 12065 samples\n",
      "Epoch 1/50\n",
      "18097/18097 [==============================] - 1s 44us/step - loss: 0.8170 - acc: 0.2446 - val_loss: 0.7969 - val_acc: 0.2431\n",
      "Epoch 2/50\n",
      "18097/18097 [==============================] - 0s 2us/step - loss: 0.7826 - acc: 0.2555 - val_loss: 0.7690 - val_acc: 0.2705\n",
      "Epoch 3/50\n",
      "18097/18097 [==============================] - 0s 2us/step - loss: 0.7568 - acc: 0.3029 - val_loss: 0.7449 - val_acc: 0.3454\n",
      "Epoch 4/50\n",
      "18097/18097 [==============================] - 0s 2us/step - loss: 0.7336 - acc: 0.3968 - val_loss: 0.7226 - val_acc: 0.4458\n",
      "Epoch 5/50\n",
      "18097/18097 [==============================] - 0s 2us/step - loss: 0.7120 - acc: 0.4922 - val_loss: 0.7016 - val_acc: 0.5345\n",
      "Epoch 6/50\n",
      "18097/18097 [==============================] - 0s 2us/step - loss: 0.6918 - acc: 0.5670 - val_loss: 0.6821 - val_acc: 0.5910\n",
      "Epoch 7/50\n",
      "18097/18097 [==============================] - 0s 2us/step - loss: 0.6729 - acc: 0.6128 - val_loss: 0.6637 - val_acc: 0.6264\n",
      "Epoch 8/50\n",
      "18097/18097 [==============================] - 0s 2us/step - loss: 0.6550 - acc: 0.6432 - val_loss: 0.6463 - val_acc: 0.6574\n",
      "Epoch 9/50\n",
      "18097/18097 [==============================] - 0s 2us/step - loss: 0.6383 - acc: 0.6737 - val_loss: 0.6301 - val_acc: 0.6908\n",
      "Epoch 10/50\n",
      "18097/18097 [==============================] - 0s 2us/step - loss: 0.6226 - acc: 0.7023 - val_loss: 0.6150 - val_acc: 0.7155\n",
      "Epoch 11/50\n",
      "18097/18097 [==============================] - 0s 2us/step - loss: 0.6081 - acc: 0.7234 - val_loss: 0.6010 - val_acc: 0.7329\n",
      "Epoch 12/50\n",
      "18097/18097 [==============================] - 0s 2us/step - loss: 0.5946 - acc: 0.7370 - val_loss: 0.5879 - val_acc: 0.7463\n",
      "Epoch 13/50\n",
      "18097/18097 [==============================] - 0s 2us/step - loss: 0.5820 - acc: 0.7461 - val_loss: 0.5758 - val_acc: 0.7523\n",
      "Epoch 14/50\n",
      "18097/18097 [==============================] - 0s 2us/step - loss: 0.5704 - acc: 0.7533 - val_loss: 0.5646 - val_acc: 0.7563\n",
      "Epoch 15/50\n",
      "18097/18097 [==============================] - 0s 2us/step - loss: 0.5596 - acc: 0.7590 - val_loss: 0.5542 - val_acc: 0.7603\n",
      "Epoch 16/50\n",
      "18097/18097 [==============================] - 0s 2us/step - loss: 0.5498 - acc: 0.7613 - val_loss: 0.5448 - val_acc: 0.7614\n",
      "Epoch 17/50\n",
      "18097/18097 [==============================] - 0s 2us/step - loss: 0.5408 - acc: 0.7627 - val_loss: 0.5362 - val_acc: 0.7620\n",
      "Epoch 18/50\n",
      "18097/18097 [==============================] - 0s 2us/step - loss: 0.5326 - acc: 0.7636 - val_loss: 0.5283 - val_acc: 0.7627\n",
      "Epoch 19/50\n",
      "18097/18097 [==============================] - 0s 2us/step - loss: 0.5251 - acc: 0.7632 - val_loss: 0.5212 - val_acc: 0.7638\n",
      "Epoch 20/50\n",
      "18097/18097 [==============================] - 0s 2us/step - loss: 0.5184 - acc: 0.7628 - val_loss: 0.5147 - val_acc: 0.7639\n",
      "Epoch 21/50\n",
      "18097/18097 [==============================] - 0s 2us/step - loss: 0.5123 - acc: 0.7619 - val_loss: 0.5090 - val_acc: 0.7638\n",
      "Epoch 22/50\n",
      "18097/18097 [==============================] - 0s 2us/step - loss: 0.5069 - acc: 0.7603 - val_loss: 0.5039 - val_acc: 0.7628\n",
      "Epoch 23/50\n",
      "18097/18097 [==============================] - 0s 2us/step - loss: 0.5021 - acc: 0.7597 - val_loss: 0.4992 - val_acc: 0.7611\n",
      "Epoch 24/50\n",
      "18097/18097 [==============================] - 0s 2us/step - loss: 0.4977 - acc: 0.7596 - val_loss: 0.4950 - val_acc: 0.7607\n",
      "Epoch 25/50\n",
      "18097/18097 [==============================] - 0s 2us/step - loss: 0.4937 - acc: 0.7593 - val_loss: 0.4912 - val_acc: 0.7608\n",
      "Epoch 26/50\n",
      "18097/18097 [==============================] - 0s 2us/step - loss: 0.4900 - acc: 0.7598 - val_loss: 0.4876 - val_acc: 0.7622\n",
      "Epoch 27/50\n",
      "18097/18097 [==============================] - 0s 2us/step - loss: 0.4865 - acc: 0.7606 - val_loss: 0.4841 - val_acc: 0.7635\n",
      "Epoch 28/50\n",
      "18097/18097 [==============================] - 0s 2us/step - loss: 0.4831 - acc: 0.7612 - val_loss: 0.4808 - val_acc: 0.7649\n",
      "Epoch 29/50\n",
      "18097/18097 [==============================] - 0s 2us/step - loss: 0.4798 - acc: 0.7622 - val_loss: 0.4776 - val_acc: 0.7657\n",
      "Epoch 30/50\n",
      "18097/18097 [==============================] - 0s 2us/step - loss: 0.4766 - acc: 0.7638 - val_loss: 0.4744 - val_acc: 0.7660\n",
      "Epoch 31/50\n",
      "18097/18097 [==============================] - 0s 3us/step - loss: 0.4735 - acc: 0.7654 - val_loss: 0.4713 - val_acc: 0.7684\n",
      "Epoch 32/50\n",
      "18097/18097 [==============================] - 0s 2us/step - loss: 0.4704 - acc: 0.7674 - val_loss: 0.4683 - val_acc: 0.7692\n",
      "Epoch 33/50\n",
      "18097/18097 [==============================] - 0s 2us/step - loss: 0.4674 - acc: 0.7694 - val_loss: 0.4654 - val_acc: 0.7717\n",
      "Epoch 34/50\n",
      "18097/18097 [==============================] - 0s 2us/step - loss: 0.4646 - acc: 0.7721 - val_loss: 0.4626 - val_acc: 0.7736\n",
      "Epoch 35/50\n",
      "18097/18097 [==============================] - 0s 2us/step - loss: 0.4618 - acc: 0.7756 - val_loss: 0.4599 - val_acc: 0.7760\n",
      "Epoch 36/50\n",
      "18097/18097 [==============================] - 0s 2us/step - loss: 0.4590 - acc: 0.7782 - val_loss: 0.4572 - val_acc: 0.7769\n",
      "Epoch 37/50\n",
      "18097/18097 [==============================] - 0s 2us/step - loss: 0.4564 - acc: 0.7808 - val_loss: 0.4547 - val_acc: 0.7798\n",
      "Epoch 38/50\n",
      "18097/18097 [==============================] - 0s 2us/step - loss: 0.4539 - acc: 0.7834 - val_loss: 0.4522 - val_acc: 0.7816\n",
      "Epoch 39/50\n",
      "18097/18097 [==============================] - 0s 2us/step - loss: 0.4514 - acc: 0.7853 - val_loss: 0.4499 - val_acc: 0.7842\n",
      "Epoch 40/50\n",
      "18097/18097 [==============================] - 0s 2us/step - loss: 0.4491 - acc: 0.7866 - val_loss: 0.4476 - val_acc: 0.7862\n",
      "Epoch 41/50\n",
      "18097/18097 [==============================] - 0s 2us/step - loss: 0.4468 - acc: 0.7883 - val_loss: 0.4454 - val_acc: 0.7865\n",
      "Epoch 42/50\n",
      "18097/18097 [==============================] - 0s 2us/step - loss: 0.4446 - acc: 0.7901 - val_loss: 0.4433 - val_acc: 0.7886\n",
      "Epoch 43/50\n",
      "18097/18097 [==============================] - 0s 2us/step - loss: 0.4424 - acc: 0.7917 - val_loss: 0.4413 - val_acc: 0.7902\n",
      "Epoch 44/50\n",
      "18097/18097 [==============================] - 0s 2us/step - loss: 0.4404 - acc: 0.7934 - val_loss: 0.4393 - val_acc: 0.7927\n",
      "Epoch 45/50\n",
      "18097/18097 [==============================] - 0s 2us/step - loss: 0.4384 - acc: 0.7945 - val_loss: 0.4374 - val_acc: 0.7960\n",
      "Epoch 46/50\n",
      "18097/18097 [==============================] - 0s 2us/step - loss: 0.4365 - acc: 0.7970 - val_loss: 0.4356 - val_acc: 0.7965\n",
      "Epoch 47/50\n",
      "18097/18097 [==============================] - 0s 2us/step - loss: 0.4347 - acc: 0.7980 - val_loss: 0.4339 - val_acc: 0.7970\n",
      "Epoch 48/50\n",
      "18097/18097 [==============================] - 0s 2us/step - loss: 0.4329 - acc: 0.7996 - val_loss: 0.4322 - val_acc: 0.7978\n",
      "Epoch 49/50\n",
      "18097/18097 [==============================] - 0s 2us/step - loss: 0.4311 - acc: 0.8008 - val_loss: 0.4306 - val_acc: 0.7973\n",
      "Epoch 50/50\n",
      "18097/18097 [==============================] - 0s 2us/step - loss: 0.4294 - acc: 0.8020 - val_loss: 0.4290 - val_acc: 0.7975\n",
      "12065/12065 [==============================] - 0s 14us/step\n",
      "[0.42898635837580223, 0.7975134687111479]\n"
     ]
    },
    {
     "data": {
      "image/png": "[encoded data removed]",
      "text/plain": [
       "<Figure size 432x288 with 1 Axes>"
      ]
     },
     "metadata": {
      "needs_background": "light"
     },
     "output_type": "display_data"
    },
    {
     "name": "stdout",
     "output_type": "stream",
     "text": [
      "Model: \"sequential_25\"\n",
      "_________________________________________________________________\n",
      "Layer (type)                 Output Shape              Param #   \n",
      "=================================================================\n",
      "dense_49 (Dense)             (None, 9)                 108       \n",
      "_________________________________________________________________\n",
      "dense_50 (Dense)             (None, 1)                 10        \n",
      "=================================================================\n",
      "Total params: 118\n",
      "Trainable params: 118\n",
      "Non-trainable params: 0\n",
      "_________________________________________________________________\n",
      "Train on 18097 samples, validate on 12065 samples\n",
      "Epoch 1/50\n",
      "18097/18097 [==============================] - 1s 47us/step - loss: 0.6204 - acc: 0.7290 - val_loss: 0.6089 - val_acc: 0.7387\n",
      "Epoch 2/50\n",
      "18097/18097 [==============================] - 0s 2us/step - loss: 0.6023 - acc: 0.7464 - val_loss: 0.5945 - val_acc: 0.7503\n",
      "Epoch 3/50\n",
      "18097/18097 [==============================] - 0s 2us/step - loss: 0.5891 - acc: 0.7537 - val_loss: 0.5822 - val_acc: 0.7565\n",
      "Epoch 4/50\n",
      "18097/18097 [==============================] - 0s 2us/step - loss: 0.5776 - acc: 0.7581 - val_loss: 0.5714 - val_acc: 0.7586\n",
      "Epoch 5/50\n",
      "18097/18097 [==============================] - 0s 2us/step - loss: 0.5671 - acc: 0.7600 - val_loss: 0.5614 - val_acc: 0.7587\n",
      "Epoch 6/50\n",
      "18097/18097 [==============================] - 0s 2us/step - loss: 0.5576 - acc: 0.7596 - val_loss: 0.5522 - val_acc: 0.7586\n",
      "Epoch 7/50\n",
      "18097/18097 [==============================] - 0s 2us/step - loss: 0.5488 - acc: 0.7590 - val_loss: 0.5438 - val_acc: 0.7573\n",
      "Epoch 8/50\n",
      "18097/18097 [==============================] - 0s 2us/step - loss: 0.5408 - acc: 0.7577 - val_loss: 0.5361 - val_acc: 0.7564\n",
      "Epoch 9/50\n",
      "18097/18097 [==============================] - 0s 2us/step - loss: 0.5335 - acc: 0.7568 - val_loss: 0.5291 - val_acc: 0.7556\n",
      "Epoch 10/50\n",
      "18097/18097 [==============================] - 0s 2us/step - loss: 0.5268 - acc: 0.7559 - val_loss: 0.5228 - val_acc: 0.7550\n",
      "Epoch 11/50\n",
      "18097/18097 [==============================] - 0s 2us/step - loss: 0.5207 - acc: 0.7553 - val_loss: 0.5169 - val_acc: 0.7547\n",
      "Epoch 12/50\n",
      "18097/18097 [==============================] - 0s 2us/step - loss: 0.5152 - acc: 0.7546 - val_loss: 0.5117 - val_acc: 0.7543\n",
      "Epoch 13/50\n",
      "18097/18097 [==============================] - 0s 2us/step - loss: 0.5101 - acc: 0.7545 - val_loss: 0.5068 - val_acc: 0.7547\n",
      "Epoch 14/50\n",
      "18097/18097 [==============================] - 0s 2us/step - loss: 0.5054 - acc: 0.7549 - val_loss: 0.5021 - val_acc: 0.7552\n",
      "Epoch 15/50\n",
      "18097/18097 [==============================] - 0s 2us/step - loss: 0.5007 - acc: 0.7561 - val_loss: 0.4976 - val_acc: 0.7562\n",
      "Epoch 16/50\n",
      "18097/18097 [==============================] - 0s 2us/step - loss: 0.4962 - acc: 0.7581 - val_loss: 0.4932 - val_acc: 0.7572\n",
      "Epoch 17/50\n",
      "18097/18097 [==============================] - 0s 2us/step - loss: 0.4918 - acc: 0.7596 - val_loss: 0.4889 - val_acc: 0.7596\n",
      "Epoch 18/50\n",
      "18097/18097 [==============================] - 0s 2us/step - loss: 0.4876 - acc: 0.7606 - val_loss: 0.4848 - val_acc: 0.7609\n",
      "Epoch 19/50\n",
      "18097/18097 [==============================] - 0s 2us/step - loss: 0.4835 - acc: 0.7618 - val_loss: 0.4808 - val_acc: 0.7616\n",
      "Epoch 20/50\n",
      "18097/18097 [==============================] - 0s 2us/step - loss: 0.4796 - acc: 0.7623 - val_loss: 0.4770 - val_acc: 0.7631\n",
      "Epoch 21/50\n",
      "18097/18097 [==============================] - 0s 2us/step - loss: 0.4757 - acc: 0.7636 - val_loss: 0.4733 - val_acc: 0.7641\n",
      "Epoch 22/50\n",
      "18097/18097 [==============================] - 0s 2us/step - loss: 0.4720 - acc: 0.7649 - val_loss: 0.4697 - val_acc: 0.7644\n",
      "Epoch 23/50\n",
      "18097/18097 [==============================] - 0s 2us/step - loss: 0.4685 - acc: 0.7662 - val_loss: 0.4663 - val_acc: 0.7662\n",
      "Epoch 24/50\n",
      "18097/18097 [==============================] - 0s 2us/step - loss: 0.4651 - acc: 0.7674 - val_loss: 0.4630 - val_acc: 0.7678\n",
      "Epoch 25/50\n",
      "18097/18097 [==============================] - 0s 2us/step - loss: 0.4617 - acc: 0.7690 - val_loss: 0.4598 - val_acc: 0.7689\n",
      "Epoch 26/50\n",
      "18097/18097 [==============================] - 0s 2us/step - loss: 0.4586 - acc: 0.7702 - val_loss: 0.4567 - val_acc: 0.7710\n",
      "Epoch 27/50\n",
      "18097/18097 [==============================] - 0s 2us/step - loss: 0.4556 - acc: 0.7727 - val_loss: 0.4538 - val_acc: 0.7722\n",
      "Epoch 28/50\n",
      "18097/18097 [==============================] - ETA: 0s - loss: 0.4509 - acc: 0.780 - 0s 2us/step - loss: 0.4526 - acc: 0.7757 - val_loss: 0.4510 - val_acc: 0.7741\n",
      "Epoch 29/50\n",
      "18097/18097 [==============================] - 0s 2us/step - loss: 0.4499 - acc: 0.7794 - val_loss: 0.4483 - val_acc: 0.7771\n",
      "Epoch 30/50\n",
      "18097/18097 [==============================] - 0s 2us/step - loss: 0.4472 - acc: 0.7812 - val_loss: 0.4457 - val_acc: 0.7796\n",
      "Epoch 31/50\n",
      "18097/18097 [==============================] - 0s 2us/step - loss: 0.4446 - acc: 0.7845 - val_loss: 0.4433 - val_acc: 0.7824\n",
      "Epoch 32/50\n",
      "18097/18097 [==============================] - 0s 2us/step - loss: 0.4422 - acc: 0.7869 - val_loss: 0.4409 - val_acc: 0.7840\n",
      "Epoch 33/50\n",
      "18097/18097 [==============================] - 0s 2us/step - loss: 0.4398 - acc: 0.7885 - val_loss: 0.4386 - val_acc: 0.7862\n",
      "Epoch 34/50\n",
      "18097/18097 [==============================] - 0s 2us/step - loss: 0.4375 - acc: 0.7911 - val_loss: 0.4364 - val_acc: 0.7881\n",
      "Epoch 35/50\n",
      "18097/18097 [==============================] - 0s 2us/step - loss: 0.4354 - acc: 0.7925 - val_loss: 0.4344 - val_acc: 0.7897\n",
      "Epoch 36/50\n",
      "18097/18097 [==============================] - 0s 2us/step - loss: 0.4333 - acc: 0.7931 - val_loss: 0.4324 - val_acc: 0.7921\n",
      "Epoch 37/50\n",
      "18097/18097 [==============================] - 0s 2us/step - loss: 0.4313 - acc: 0.7948 - val_loss: 0.4305 - val_acc: 0.7932\n",
      "Epoch 38/50\n",
      "18097/18097 [==============================] - 0s 2us/step - loss: 0.4293 - acc: 0.7963 - val_loss: 0.4286 - val_acc: 0.7939\n",
      "Epoch 39/50\n",
      "18097/18097 [==============================] - 0s 2us/step - loss: 0.4275 - acc: 0.7981 - val_loss: 0.4269 - val_acc: 0.7946\n",
      "Epoch 40/50\n",
      "18097/18097 [==============================] - 0s 2us/step - loss: 0.4257 - acc: 0.7992 - val_loss: 0.4252 - val_acc: 0.7957\n",
      "Epoch 41/50\n",
      "18097/18097 [==============================] - 0s 2us/step - loss: 0.4240 - acc: 0.8005 - val_loss: 0.4236 - val_acc: 0.7969\n",
      "Epoch 42/50\n",
      "18097/18097 [==============================] - 0s 2us/step - loss: 0.4223 - acc: 0.8013 - val_loss: 0.4220 - val_acc: 0.7980\n",
      "Epoch 43/50\n",
      "18097/18097 [==============================] - 0s 2us/step - loss: 0.4207 - acc: 0.8018 - val_loss: 0.4204 - val_acc: 0.7988\n",
      "Epoch 44/50\n",
      "18097/18097 [==============================] - 0s 2us/step - loss: 0.4191 - acc: 0.8023 - val_loss: 0.4189 - val_acc: 0.7996\n",
      "Epoch 45/50\n",
      "18097/18097 [==============================] - 0s 2us/step - loss: 0.4175 - acc: 0.8033 - val_loss: 0.4174 - val_acc: 0.8005\n",
      "Epoch 46/50\n",
      "18097/18097 [==============================] - 0s 2us/step - loss: 0.4160 - acc: 0.8039 - val_loss: 0.4160 - val_acc: 0.8012\n",
      "Epoch 47/50\n",
      "18097/18097 [==============================] - 0s 2us/step - loss: 0.4145 - acc: 0.8052 - val_loss: 0.4145 - val_acc: 0.8019\n",
      "Epoch 48/50\n",
      "18097/18097 [==============================] - 0s 2us/step - loss: 0.4130 - acc: 0.8063 - val_loss: 0.4131 - val_acc: 0.8028\n",
      "Epoch 49/50\n",
      "18097/18097 [==============================] - 0s 2us/step - loss: 0.4116 - acc: 0.8076 - val_loss: 0.4118 - val_acc: 0.8036\n",
      "Epoch 50/50\n",
      "18097/18097 [==============================] - 0s 2us/step - loss: 0.4102 - acc: 0.8084 - val_loss: 0.4105 - val_acc: 0.8046\n",
      "12065/12065 [==============================] - 0s 14us/step\n",
      "[0.41050721460291817, 0.8045586406962287]\n"
     ]
    },
    {
     "data": {
      "image/png": "[encoded data removed]",
      "text/plain": [
       "<Figure size 432x288 with 1 Axes>"
      ]
     },
     "metadata": {
      "needs_background": "light"
     },
     "output_type": "display_data"
    },
    {
     "name": "stdout",
     "output_type": "stream",
     "text": [
      "Model: \"sequential_26\"\n",
      "_________________________________________________________________\n",
      "Layer (type)                 Output Shape              Param #   \n",
      "=================================================================\n",
      "dense_51 (Dense)             (None, 9)                 108       \n",
      "_________________________________________________________________\n",
      "dense_52 (Dense)             (None, 1)                 10        \n",
      "=================================================================\n",
      "Total params: 118\n",
      "Trainable params: 118\n",
      "Non-trainable params: 0\n",
      "_________________________________________________________________\n",
      "Train on 18097 samples, validate on 12065 samples\n",
      "Epoch 1/50\n",
      "18097/18097 [==============================] - 1s 52us/step - loss: 0.7040 - acc: 0.4957 - val_loss: 0.6873 - val_acc: 0.5343\n",
      "Epoch 2/50\n",
      "18097/18097 [==============================] - 0s 2us/step - loss: 0.6775 - acc: 0.5577 - val_loss: 0.6659 - val_acc: 0.5850\n",
      "Epoch 3/50\n",
      "18097/18097 [==============================] - 0s 2us/step - loss: 0.6577 - acc: 0.6096 - val_loss: 0.6474 - val_acc: 0.6346\n",
      "Epoch 4/50\n",
      "18097/18097 [==============================] - 0s 2us/step - loss: 0.6399 - acc: 0.6606 - val_loss: 0.6303 - val_acc: 0.6850\n",
      "Epoch 5/50\n",
      "18097/18097 [==============================] - 0s 2us/step - loss: 0.6235 - acc: 0.7098 - val_loss: 0.6146 - val_acc: 0.7312\n",
      "Epoch 6/50\n",
      "18097/18097 [==============================] - 0s 2us/step - loss: 0.6082 - acc: 0.7508 - val_loss: 0.5998 - val_acc: 0.7675\n",
      "Epoch 7/50\n",
      "18097/18097 [==============================] - 0s 2us/step - loss: 0.5939 - acc: 0.7781 - val_loss: 0.5860 - val_acc: 0.7823\n",
      "Epoch 8/50\n",
      "18097/18097 [==============================] - 0s 2us/step - loss: 0.5806 - acc: 0.7816 - val_loss: 0.5731 - val_acc: 0.7829\n",
      "Epoch 9/50\n",
      "18097/18097 [==============================] - 0s 2us/step - loss: 0.5682 - acc: 0.7790 - val_loss: 0.5612 - val_acc: 0.7801\n",
      "Epoch 10/50\n",
      "18097/18097 [==============================] - 0s 2us/step - loss: 0.5566 - acc: 0.7749 - val_loss: 0.5501 - val_acc: 0.7734\n",
      "Epoch 11/50\n",
      "18097/18097 [==============================] - 0s 2us/step - loss: 0.5460 - acc: 0.7722 - val_loss: 0.5399 - val_acc: 0.7701\n",
      "Epoch 12/50\n",
      "18097/18097 [==============================] - 0s 2us/step - loss: 0.5362 - acc: 0.7671 - val_loss: 0.5306 - val_acc: 0.7650\n",
      "Epoch 13/50\n",
      "18097/18097 [==============================] - 0s 2us/step - loss: 0.5272 - acc: 0.7626 - val_loss: 0.5220 - val_acc: 0.7619\n",
      "Epoch 14/50\n",
      "18097/18097 [==============================] - 0s 2us/step - loss: 0.5190 - acc: 0.7591 - val_loss: 0.5142 - val_acc: 0.7592\n",
      "Epoch 15/50\n",
      "18097/18097 [==============================] - 0s 2us/step - loss: 0.5116 - acc: 0.7578 - val_loss: 0.5071 - val_acc: 0.7576\n",
      "Epoch 16/50\n",
      "18097/18097 [==============================] - 0s 2us/step - loss: 0.5048 - acc: 0.7563 - val_loss: 0.5007 - val_acc: 0.7567\n",
      "Epoch 17/50\n",
      "18097/18097 [==============================] - 0s 2us/step - loss: 0.4987 - acc: 0.7553 - val_loss: 0.4949 - val_acc: 0.7557\n",
      "Epoch 18/50\n",
      "18097/18097 [==============================] - 0s 1us/step - loss: 0.4932 - acc: 0.7550 - val_loss: 0.4896 - val_acc: 0.7557\n",
      "Epoch 19/50\n",
      "18097/18097 [==============================] - 0s 2us/step - loss: 0.4882 - acc: 0.7550 - val_loss: 0.4848 - val_acc: 0.7561\n",
      "Epoch 20/50\n",
      "18097/18097 [==============================] - 0s 2us/step - loss: 0.4835 - acc: 0.7552 - val_loss: 0.4804 - val_acc: 0.7563\n",
      "Epoch 21/50\n",
      "18097/18097 [==============================] - 0s 2us/step - loss: 0.4792 - acc: 0.7561 - val_loss: 0.4762 - val_acc: 0.7572\n",
      "Epoch 22/50\n",
      "18097/18097 [==============================] - 0s 2us/step - loss: 0.4751 - acc: 0.7568 - val_loss: 0.4723 - val_acc: 0.7596\n",
      "Epoch 23/50\n",
      "18097/18097 [==============================] - 0s 2us/step - loss: 0.4713 - acc: 0.7594 - val_loss: 0.4686 - val_acc: 0.7615\n",
      "Epoch 24/50\n",
      "18097/18097 [==============================] - 0s 2us/step - loss: 0.4676 - acc: 0.7616 - val_loss: 0.4650 - val_acc: 0.7631\n",
      "Epoch 25/50\n",
      "18097/18097 [==============================] - 0s 2us/step - loss: 0.4641 - acc: 0.7649 - val_loss: 0.4616 - val_acc: 0.7669\n",
      "Epoch 26/50\n",
      "18097/18097 [==============================] - 0s 2us/step - loss: 0.4606 - acc: 0.7684 - val_loss: 0.4583 - val_acc: 0.7721\n",
      "Epoch 27/50\n",
      "18097/18097 [==============================] - 0s 2us/step - loss: 0.4574 - acc: 0.7738 - val_loss: 0.4551 - val_acc: 0.7765\n",
      "Epoch 28/50\n",
      "18097/18097 [==============================] - 0s 2us/step - loss: 0.4542 - acc: 0.7779 - val_loss: 0.4520 - val_acc: 0.7806\n",
      "Epoch 29/50\n",
      "18097/18097 [==============================] - 0s 2us/step - loss: 0.4511 - acc: 0.7822 - val_loss: 0.4490 - val_acc: 0.7853\n",
      "Epoch 30/50\n",
      "18097/18097 [==============================] - 0s 2us/step - loss: 0.4482 - acc: 0.7857 - val_loss: 0.4462 - val_acc: 0.7884\n",
      "Epoch 31/50\n",
      "18097/18097 [==============================] - 0s 2us/step - loss: 0.4454 - acc: 0.7895 - val_loss: 0.4435 - val_acc: 0.7913\n",
      "Epoch 32/50\n",
      "18097/18097 [==============================] - 0s 2us/step - loss: 0.4427 - acc: 0.7923 - val_loss: 0.4409 - val_acc: 0.7940\n",
      "Epoch 33/50\n",
      "18097/18097 [==============================] - 0s 2us/step - loss: 0.4401 - acc: 0.7949 - val_loss: 0.4384 - val_acc: 0.7966\n",
      "Epoch 34/50\n",
      "18097/18097 [==============================] - 0s 2us/step - loss: 0.4376 - acc: 0.7969 - val_loss: 0.4361 - val_acc: 0.7984\n",
      "Epoch 35/50\n",
      "18097/18097 [==============================] - 0s 2us/step - loss: 0.4352 - acc: 0.8004 - val_loss: 0.4338 - val_acc: 0.8008\n",
      "Epoch 36/50\n",
      "18097/18097 [==============================] - 0s 2us/step - loss: 0.4329 - acc: 0.8017 - val_loss: 0.4316 - val_acc: 0.8027\n",
      "Epoch 37/50\n",
      "18097/18097 [==============================] - 0s 2us/step - loss: 0.4307 - acc: 0.8040 - val_loss: 0.4295 - val_acc: 0.8036\n",
      "Epoch 38/50\n",
      "18097/18097 [==============================] - 0s 2us/step - loss: 0.4286 - acc: 0.8051 - val_loss: 0.4275 - val_acc: 0.8039\n",
      "Epoch 39/50\n",
      "18097/18097 [==============================] - 0s 2us/step - loss: 0.4265 - acc: 0.8073 - val_loss: 0.4256 - val_acc: 0.8059\n",
      "Epoch 40/50\n",
      "18097/18097 [==============================] - 0s 2us/step - loss: 0.4245 - acc: 0.8089 - val_loss: 0.4237 - val_acc: 0.8059\n",
      "Epoch 41/50\n",
      "18097/18097 [==============================] - 0s 2us/step - loss: 0.4227 - acc: 0.8101 - val_loss: 0.4220 - val_acc: 0.8068\n",
      "Epoch 42/50\n",
      "18097/18097 [==============================] - 0s 2us/step - loss: 0.4209 - acc: 0.8110 - val_loss: 0.4203 - val_acc: 0.8068\n",
      "Epoch 43/50\n",
      "18097/18097 [==============================] - 0s 2us/step - loss: 0.4192 - acc: 0.8121 - val_loss: 0.4187 - val_acc: 0.8075\n",
      "Epoch 44/50\n",
      "18097/18097 [==============================] - 0s 2us/step - loss: 0.4176 - acc: 0.8134 - val_loss: 0.4172 - val_acc: 0.8076\n",
      "Epoch 45/50\n",
      "18097/18097 [==============================] - 0s 2us/step - loss: 0.4160 - acc: 0.8136 - val_loss: 0.4157 - val_acc: 0.8090\n",
      "Epoch 46/50\n",
      "18097/18097 [==============================] - 0s 2us/step - loss: 0.4145 - acc: 0.8150 - val_loss: 0.4144 - val_acc: 0.8087\n",
      "Epoch 47/50\n",
      "18097/18097 [==============================] - 0s 2us/step - loss: 0.4131 - acc: 0.8163 - val_loss: 0.4131 - val_acc: 0.8092\n",
      "Epoch 48/50\n",
      "18097/18097 [==============================] - 0s 2us/step - loss: 0.4117 - acc: 0.8170 - val_loss: 0.4118 - val_acc: 0.8094\n",
      "Epoch 49/50\n",
      "18097/18097 [==============================] - 0s 2us/step - loss: 0.4104 - acc: 0.8173 - val_loss: 0.4106 - val_acc: 0.8100\n",
      "Epoch 50/50\n",
      "18097/18097 [==============================] - 0s 2us/step - loss: 0.4091 - acc: 0.8175 - val_loss: 0.4094 - val_acc: 0.8102\n",
      "12065/12065 [==============================] - 0s 16us/step\n",
      "[0.4093957467391389, 0.8101947782842934]\n"
     ]
    },
    {
     "data": {
      "image/png": "[encoded data removed]",
      "text/plain": [
       "<Figure size 432x288 with 1 Axes>"
      ]
     },
     "metadata": {
      "needs_background": "light"
     },
     "output_type": "display_data"
    },
    {
     "name": "stdout",
     "output_type": "stream",
     "text": [
      "Model: \"sequential_27\"\n",
      "_________________________________________________________________\n",
      "Layer (type)                 Output Shape              Param #   \n",
      "=================================================================\n",
      "dense_53 (Dense)             (None, 9)                 108       \n",
      "_________________________________________________________________\n",
      "dense_54 (Dense)             (None, 1)                 10        \n",
      "=================================================================\n",
      "Total params: 118\n",
      "Trainable params: 118\n",
      "Non-trainable params: 0\n",
      "_________________________________________________________________\n",
      "Train on 18097 samples, validate on 12065 samples\n",
      "Epoch 1/50\n",
      "18097/18097 [==============================] - 1s 55us/step - loss: 0.7977 - acc: 0.2609 - val_loss: 0.7772 - val_acc: 0.2734\n",
      "Epoch 2/50\n",
      "18097/18097 [==============================] - 0s 2us/step - loss: 0.7644 - acc: 0.3007 - val_loss: 0.7501 - val_acc: 0.3339\n",
      "Epoch 3/50\n",
      "18097/18097 [==============================] - 0s 2us/step - loss: 0.7392 - acc: 0.3641 - val_loss: 0.7266 - val_acc: 0.3961\n",
      "Epoch 4/50\n",
      "18097/18097 [==============================] - 0s 2us/step - loss: 0.7166 - acc: 0.4217 - val_loss: 0.7047 - val_acc: 0.4547\n",
      "Epoch 5/50\n",
      "18097/18097 [==============================] - 0s 2us/step - loss: 0.6955 - acc: 0.5000 - val_loss: 0.6843 - val_acc: 0.5557\n",
      "Epoch 6/50\n",
      "18097/18097 [==============================] - 0s 2us/step - loss: 0.6757 - acc: 0.5912 - val_loss: 0.6650 - val_acc: 0.6319\n",
      "Epoch 7/50\n",
      "18097/18097 [==============================] - 0s 2us/step - loss: 0.6570 - acc: 0.6591 - val_loss: 0.6469 - val_acc: 0.6954\n",
      "Epoch 8/50\n",
      "18097/18097 [==============================] - 0s 2us/step - loss: 0.6395 - acc: 0.7175 - val_loss: 0.6299 - val_acc: 0.7373\n",
      "Epoch 9/50\n",
      "18097/18097 [==============================] - 0s 2us/step - loss: 0.6231 - acc: 0.7527 - val_loss: 0.6140 - val_acc: 0.7615\n",
      "Epoch 10/50\n",
      "18097/18097 [==============================] - 0s 2us/step - loss: 0.6076 - acc: 0.7721 - val_loss: 0.5991 - val_acc: 0.7736\n",
      "Epoch 11/50\n",
      "18097/18097 [==============================] - 0s 2us/step - loss: 0.5933 - acc: 0.7777 - val_loss: 0.5852 - val_acc: 0.7745\n",
      "Epoch 12/50\n",
      "18097/18097 [==============================] - 0s 2us/step - loss: 0.5799 - acc: 0.7780 - val_loss: 0.5724 - val_acc: 0.7755\n",
      "Epoch 13/50\n",
      "18097/18097 [==============================] - 0s 2us/step - loss: 0.5675 - acc: 0.7770 - val_loss: 0.5604 - val_acc: 0.7742\n",
      "Epoch 14/50\n",
      "18097/18097 [==============================] - 0s 2us/step - loss: 0.5561 - acc: 0.7743 - val_loss: 0.5494 - val_acc: 0.7729\n",
      "Epoch 15/50\n",
      "18097/18097 [==============================] - 0s 2us/step - loss: 0.5455 - acc: 0.7708 - val_loss: 0.5393 - val_acc: 0.7712\n",
      "Epoch 16/50\n",
      "18097/18097 [==============================] - 0s 2us/step - loss: 0.5358 - acc: 0.7695 - val_loss: 0.5301 - val_acc: 0.7698\n",
      "Epoch 17/50\n",
      "18097/18097 [==============================] - 0s 2us/step - loss: 0.5270 - acc: 0.7676 - val_loss: 0.5216 - val_acc: 0.7684\n",
      "Epoch 18/50\n",
      "18097/18097 [==============================] - 0s 2us/step - loss: 0.5189 - acc: 0.7663 - val_loss: 0.5139 - val_acc: 0.7663\n",
      "Epoch 19/50\n",
      "18097/18097 [==============================] - 0s 2us/step - loss: 0.5116 - acc: 0.7644 - val_loss: 0.5070 - val_acc: 0.7654\n",
      "Epoch 20/50\n",
      "18097/18097 [==============================] - 0s 2us/step - loss: 0.5050 - acc: 0.7633 - val_loss: 0.5007 - val_acc: 0.7646\n",
      "Epoch 21/50\n",
      "18097/18097 [==============================] - 0s 2us/step - loss: 0.4991 - acc: 0.7626 - val_loss: 0.4951 - val_acc: 0.7639\n",
      "Epoch 22/50\n",
      "18097/18097 [==============================] - 0s 2us/step - loss: 0.4937 - acc: 0.7624 - val_loss: 0.4900 - val_acc: 0.7639\n",
      "Epoch 23/50\n",
      "18097/18097 [==============================] - 0s 1us/step - loss: 0.4888 - acc: 0.7624 - val_loss: 0.4853 - val_acc: 0.7649\n",
      "Epoch 24/50\n",
      "18097/18097 [==============================] - 0s 2us/step - loss: 0.4843 - acc: 0.7642 - val_loss: 0.4809 - val_acc: 0.7673\n",
      "Epoch 25/50\n",
      "18097/18097 [==============================] - 0s 2us/step - loss: 0.4799 - acc: 0.7664 - val_loss: 0.4767 - val_acc: 0.7689\n",
      "Epoch 26/50\n",
      "18097/18097 [==============================] - 0s 2us/step - loss: 0.4758 - acc: 0.7685 - val_loss: 0.4727 - val_acc: 0.7725\n",
      "Epoch 27/50\n",
      "18097/18097 [==============================] - 0s 2us/step - loss: 0.4718 - acc: 0.7705 - val_loss: 0.4688 - val_acc: 0.7746\n",
      "Epoch 28/50\n",
      "18097/18097 [==============================] - 0s 2us/step - loss: 0.4680 - acc: 0.7724 - val_loss: 0.4652 - val_acc: 0.7773\n",
      "Epoch 29/50\n",
      "18097/18097 [==============================] - 0s 2us/step - loss: 0.4644 - acc: 0.7755 - val_loss: 0.4618 - val_acc: 0.7789\n",
      "Epoch 30/50\n",
      "18097/18097 [==============================] - 0s 2us/step - loss: 0.4610 - acc: 0.7782 - val_loss: 0.4585 - val_acc: 0.7805\n",
      "Epoch 31/50\n",
      "18097/18097 [==============================] - 0s 2us/step - loss: 0.4577 - acc: 0.7815 - val_loss: 0.4554 - val_acc: 0.7832\n",
      "Epoch 32/50\n",
      "18097/18097 [==============================] - 0s 2us/step - loss: 0.4546 - acc: 0.7846 - val_loss: 0.4524 - val_acc: 0.7849\n",
      "Epoch 33/50\n",
      "18097/18097 [==============================] - 0s 2us/step - loss: 0.4516 - acc: 0.7863 - val_loss: 0.4496 - val_acc: 0.7881\n",
      "Epoch 34/50\n",
      "18097/18097 [==============================] - 0s 2us/step - loss: 0.4488 - acc: 0.7896 - val_loss: 0.4469 - val_acc: 0.7910\n",
      "Epoch 35/50\n",
      "18097/18097 [==============================] - 0s 2us/step - loss: 0.4461 - acc: 0.7932 - val_loss: 0.4443 - val_acc: 0.7934\n",
      "Epoch 36/50\n",
      "18097/18097 [==============================] - 0s 2us/step - loss: 0.4435 - acc: 0.7952 - val_loss: 0.4419 - val_acc: 0.7954\n",
      "Epoch 37/50\n",
      "18097/18097 [==============================] - 0s 2us/step - loss: 0.4410 - acc: 0.7974 - val_loss: 0.4395 - val_acc: 0.7966\n",
      "Epoch 38/50\n",
      "18097/18097 [==============================] - 0s 2us/step - loss: 0.4386 - acc: 0.8002 - val_loss: 0.4373 - val_acc: 0.7984\n",
      "Epoch 39/50\n",
      "18097/18097 [==============================] - 0s 2us/step - loss: 0.4364 - acc: 0.8020 - val_loss: 0.4352 - val_acc: 0.7993\n",
      "Epoch 40/50\n",
      "18097/18097 [==============================] - 0s 2us/step - loss: 0.4342 - acc: 0.8042 - val_loss: 0.4332 - val_acc: 0.8012\n",
      "Epoch 41/50\n",
      "18097/18097 [==============================] - 0s 2us/step - loss: 0.4322 - acc: 0.8041 - val_loss: 0.4313 - val_acc: 0.8033\n",
      "Epoch 42/50\n",
      "18097/18097 [==============================] - 0s 2us/step - loss: 0.4302 - acc: 0.8070 - val_loss: 0.4295 - val_acc: 0.8036\n",
      "Epoch 43/50\n",
      "18097/18097 [==============================] - 0s 2us/step - loss: 0.4283 - acc: 0.8085 - val_loss: 0.4278 - val_acc: 0.8046\n",
      "Epoch 44/50\n",
      "18097/18097 [==============================] - 0s 2us/step - loss: 0.4266 - acc: 0.8094 - val_loss: 0.4261 - val_acc: 0.8050\n",
      "Epoch 45/50\n",
      "18097/18097 [==============================] - 0s 2us/step - loss: 0.4249 - acc: 0.8105 - val_loss: 0.4246 - val_acc: 0.8062\n",
      "Epoch 46/50\n",
      "18097/18097 [==============================] - 0s 2us/step - loss: 0.4233 - acc: 0.8111 - val_loss: 0.4231 - val_acc: 0.8067\n",
      "Epoch 47/50\n",
      "18097/18097 [==============================] - 0s 2us/step - loss: 0.4217 - acc: 0.8117 - val_loss: 0.4217 - val_acc: 0.8074\n",
      "Epoch 48/50\n",
      "18097/18097 [==============================] - 0s 2us/step - loss: 0.4203 - acc: 0.8120 - val_loss: 0.4204 - val_acc: 0.8076\n",
      "Epoch 49/50\n",
      "18097/18097 [==============================] - 0s 2us/step - loss: 0.4189 - acc: 0.8128 - val_loss: 0.4191 - val_acc: 0.8084\n",
      "Epoch 50/50\n",
      "18097/18097 [==============================] - 0s 2us/step - loss: 0.4175 - acc: 0.8133 - val_loss: 0.4179 - val_acc: 0.8081\n",
      "12065/12065 [==============================] - 0s 14us/step\n",
      "[0.41786701997384657, 0.8081226688769167]\n"
     ]
    },
    {
     "data": {
      "image/png": "[encoded data removed]",
      "text/plain": [
       "<Figure size 432x288 with 1 Axes>"
      ]
     },
     "metadata": {
      "needs_background": "light"
     },
     "output_type": "display_data"
    },
    {
     "name": "stdout",
     "output_type": "stream",
     "text": [
      "Model: \"sequential_28\"\n",
      "_________________________________________________________________\n",
      "Layer (type)                 Output Shape              Param #   \n",
      "=================================================================\n",
      "dense_55 (Dense)             (None, 9)                 108       \n",
      "_________________________________________________________________\n",
      "dense_56 (Dense)             (None, 1)                 10        \n",
      "=================================================================\n",
      "Total params: 118\n",
      "Trainable params: 118\n",
      "Non-trainable params: 0\n",
      "_________________________________________________________________\n",
      "Train on 18097 samples, validate on 12065 samples\n",
      "Epoch 1/50\n",
      "18097/18097 [==============================] - 1s 56us/step - loss: 0.6374 - acc: 0.7357 - val_loss: 0.6223 - val_acc: 0.7510\n",
      "Epoch 2/50\n",
      "18097/18097 [==============================] - 0s 2us/step - loss: 0.6165 - acc: 0.7494 - val_loss: 0.6058 - val_acc: 0.7522\n",
      "Epoch 3/50\n",
      "18097/18097 [==============================] - 0s 2us/step - loss: 0.6013 - acc: 0.7503 - val_loss: 0.5919 - val_acc: 0.7523\n",
      "Epoch 4/50\n",
      "18097/18097 [==============================] - 0s 2us/step - loss: 0.5881 - acc: 0.7503 - val_loss: 0.5795 - val_acc: 0.7523\n",
      "Epoch 5/50\n",
      "18097/18097 [==============================] - 0s 2us/step - loss: 0.5761 - acc: 0.7503 - val_loss: 0.5681 - val_acc: 0.7523\n",
      "Epoch 6/50\n",
      "18097/18097 [==============================] - 0s 2us/step - loss: 0.5651 - acc: 0.7503 - val_loss: 0.5577 - val_acc: 0.7523\n",
      "Epoch 7/50\n",
      "18097/18097 [==============================] - 0s 2us/step - loss: 0.5551 - acc: 0.7503 - val_loss: 0.5482 - val_acc: 0.7523\n",
      "Epoch 8/50\n",
      "18097/18097 [==============================] - 0s 2us/step - loss: 0.5459 - acc: 0.7503 - val_loss: 0.5396 - val_acc: 0.7523\n",
      "Epoch 9/50\n",
      "18097/18097 [==============================] - 0s 2us/step - loss: 0.5376 - acc: 0.7503 - val_loss: 0.5316 - val_acc: 0.7523\n",
      "Epoch 10/50\n",
      "18097/18097 [==============================] - 0s 2us/step - loss: 0.5299 - acc: 0.7503 - val_loss: 0.5243 - val_acc: 0.7523\n",
      "Epoch 11/50\n",
      "18097/18097 [==============================] - 0s 2us/step - loss: 0.5228 - acc: 0.7503 - val_loss: 0.5176 - val_acc: 0.7523\n",
      "Epoch 12/50\n",
      "18097/18097 [==============================] - 0s 2us/step - loss: 0.5161 - acc: 0.7503 - val_loss: 0.5113 - val_acc: 0.7523\n",
      "Epoch 13/50\n",
      "18097/18097 [==============================] - 0s 2us/step - loss: 0.5099 - acc: 0.7503 - val_loss: 0.5053 - val_acc: 0.7523\n",
      "Epoch 14/50\n",
      "18097/18097 [==============================] - 0s 2us/step - loss: 0.5040 - acc: 0.7503 - val_loss: 0.4996 - val_acc: 0.7523\n",
      "Epoch 15/50\n",
      "18097/18097 [==============================] - 0s 2us/step - loss: 0.4983 - acc: 0.7504 - val_loss: 0.4941 - val_acc: 0.7527\n",
      "Epoch 16/50\n",
      "18097/18097 [==============================] - 0s 2us/step - loss: 0.4927 - acc: 0.7507 - val_loss: 0.4887 - val_acc: 0.7530\n",
      "Epoch 17/50\n",
      "18097/18097 [==============================] - 0s 2us/step - loss: 0.4873 - acc: 0.7516 - val_loss: 0.4835 - val_acc: 0.7547\n",
      "Epoch 18/50\n",
      "18097/18097 [==============================] - 0s 2us/step - loss: 0.4820 - acc: 0.7527 - val_loss: 0.4785 - val_acc: 0.7556\n",
      "Epoch 19/50\n",
      "18097/18097 [==============================] - 0s 2us/step - loss: 0.4770 - acc: 0.7550 - val_loss: 0.4737 - val_acc: 0.7574\n",
      "Epoch 20/50\n",
      "18097/18097 [==============================] - 0s 2us/step - loss: 0.4722 - acc: 0.7576 - val_loss: 0.4691 - val_acc: 0.7595\n",
      "Epoch 21/50\n",
      "18097/18097 [==============================] - 0s 2us/step - loss: 0.4675 - acc: 0.7610 - val_loss: 0.4647 - val_acc: 0.7631\n",
      "Epoch 22/50\n",
      "18097/18097 [==============================] - 0s 2us/step - loss: 0.4630 - acc: 0.7650 - val_loss: 0.4604 - val_acc: 0.7675\n",
      "Epoch 23/50\n",
      "18097/18097 [==============================] - 0s 2us/step - loss: 0.4587 - acc: 0.7687 - val_loss: 0.4563 - val_acc: 0.7730\n",
      "Epoch 24/50\n",
      "18097/18097 [==============================] - 0s 2us/step - loss: 0.4546 - acc: 0.7741 - val_loss: 0.4524 - val_acc: 0.7773\n",
      "Epoch 25/50\n",
      "18097/18097 [==============================] - 0s 2us/step - loss: 0.4507 - acc: 0.7807 - val_loss: 0.4487 - val_acc: 0.7815\n",
      "Epoch 26/50\n",
      "18097/18097 [==============================] - 0s 2us/step - loss: 0.4470 - acc: 0.7840 - val_loss: 0.4452 - val_acc: 0.7867\n",
      "Epoch 27/50\n",
      "18097/18097 [==============================] - 0s 2us/step - loss: 0.4435 - acc: 0.7896 - val_loss: 0.4418 - val_acc: 0.7891\n",
      "Epoch 28/50\n",
      "18097/18097 [==============================] - 0s 2us/step - loss: 0.4401 - acc: 0.7924 - val_loss: 0.4387 - val_acc: 0.7944\n",
      "Epoch 29/50\n",
      "18097/18097 [==============================] - 0s 2us/step - loss: 0.4370 - acc: 0.7959 - val_loss: 0.4357 - val_acc: 0.7975\n",
      "Epoch 30/50\n",
      "18097/18097 [==============================] - 0s 2us/step - loss: 0.4340 - acc: 0.7975 - val_loss: 0.4329 - val_acc: 0.7991\n",
      "Epoch 31/50\n",
      "18097/18097 [==============================] - 0s 2us/step - loss: 0.4312 - acc: 0.7998 - val_loss: 0.4303 - val_acc: 0.8007\n",
      "Epoch 32/50\n",
      "18097/18097 [==============================] - 0s 2us/step - loss: 0.4286 - acc: 0.8023 - val_loss: 0.4279 - val_acc: 0.8030\n",
      "Epoch 33/50\n",
      "18097/18097 [==============================] - 0s 2us/step - loss: 0.4261 - acc: 0.8046 - val_loss: 0.4255 - val_acc: 0.8039\n",
      "Epoch 34/50\n",
      "18097/18097 [==============================] - 0s 2us/step - loss: 0.4237 - acc: 0.8057 - val_loss: 0.4233 - val_acc: 0.8057\n",
      "Epoch 35/50\n",
      "18097/18097 [==============================] - 0s 2us/step - loss: 0.4215 - acc: 0.8073 - val_loss: 0.4213 - val_acc: 0.8059\n",
      "Epoch 36/50\n",
      "18097/18097 [==============================] - 0s 2us/step - loss: 0.4194 - acc: 0.8091 - val_loss: 0.4193 - val_acc: 0.8065\n",
      "Epoch 37/50\n",
      "18097/18097 [==============================] - 0s 2us/step - loss: 0.4174 - acc: 0.8103 - val_loss: 0.4174 - val_acc: 0.8074\n",
      "Epoch 38/50\n",
      "18097/18097 [==============================] - 0s 2us/step - loss: 0.4155 - acc: 0.8114 - val_loss: 0.4157 - val_acc: 0.8065\n",
      "Epoch 39/50\n",
      "18097/18097 [==============================] - 0s 2us/step - loss: 0.4137 - acc: 0.8126 - val_loss: 0.4141 - val_acc: 0.8074\n",
      "Epoch 40/50\n",
      "18097/18097 [==============================] - 0s 2us/step - loss: 0.4121 - acc: 0.8141 - val_loss: 0.4126 - val_acc: 0.8075\n",
      "Epoch 41/50\n",
      "18097/18097 [==============================] - 0s 2us/step - loss: 0.4105 - acc: 0.8146 - val_loss: 0.4111 - val_acc: 0.8082\n",
      "Epoch 42/50\n",
      "18097/18097 [==============================] - 0s 2us/step - loss: 0.4090 - acc: 0.8152 - val_loss: 0.4098 - val_acc: 0.8087\n",
      "Epoch 43/50\n",
      "18097/18097 [==============================] - 0s 2us/step - loss: 0.4076 - acc: 0.8153 - val_loss: 0.4085 - val_acc: 0.8092\n",
      "Epoch 44/50\n",
      "18097/18097 [==============================] - 0s 2us/step - loss: 0.4062 - acc: 0.8154 - val_loss: 0.4072 - val_acc: 0.8102\n",
      "Epoch 45/50\n",
      "18097/18097 [==============================] - 0s 2us/step - loss: 0.4049 - acc: 0.8165 - val_loss: 0.4061 - val_acc: 0.8106\n",
      "Epoch 46/50\n",
      "18097/18097 [==============================] - 0s 2us/step - loss: 0.4038 - acc: 0.8167 - val_loss: 0.4050 - val_acc: 0.8104\n",
      "Epoch 47/50\n",
      "18097/18097 [==============================] - 0s 2us/step - loss: 0.4026 - acc: 0.8176 - val_loss: 0.4040 - val_acc: 0.8105\n",
      "Epoch 48/50\n",
      "18097/18097 [==============================] - 0s 2us/step - loss: 0.4015 - acc: 0.8180 - val_loss: 0.4030 - val_acc: 0.8105\n",
      "Epoch 49/50\n",
      "18097/18097 [==============================] - 0s 2us/step - loss: 0.4005 - acc: 0.8175 - val_loss: 0.4021 - val_acc: 0.8090\n",
      "Epoch 50/50\n",
      "18097/18097 [==============================] - 0s 2us/step - loss: 0.3996 - acc: 0.8190 - val_loss: 0.4012 - val_acc: 0.8102\n",
      "12065/12065 [==============================] - 0s 18us/step\n",
      "[0.4012194695237559, 0.8101947782842934]\n"
     ]
    },
    {
     "data": {
      "image/png": "[encoded data removed]",
      "text/plain": [
       "<Figure size 432x288 with 1 Axes>"
      ]
     },
     "metadata": {
      "needs_background": "light"
     },
     "output_type": "display_data"
    },
    {
     "name": "stdout",
     "output_type": "stream",
     "text": [
      "Model: \"sequential_29\"\n",
      "_________________________________________________________________\n",
      "Layer (type)                 Output Shape              Param #   \n",
      "=================================================================\n",
      "dense_57 (Dense)             (None, 9)                 108       \n",
      "_________________________________________________________________\n",
      "dense_58 (Dense)             (None, 1)                 10        \n",
      "=================================================================\n",
      "Total params: 118\n",
      "Trainable params: 118\n",
      "Non-trainable params: 0\n",
      "_________________________________________________________________\n",
      "Train on 18097 samples, validate on 12065 samples\n",
      "Epoch 1/50\n",
      "18097/18097 [==============================] - 1s 58us/step - loss: 0.7276 - acc: 0.3917 - val_loss: 0.7099 - val_acc: 0.4514\n",
      "Epoch 2/50\n",
      "18097/18097 [==============================] - 0s 2us/step - loss: 0.6990 - acc: 0.4964 - val_loss: 0.6866 - val_acc: 0.5483\n",
      "Epoch 3/50\n",
      "18097/18097 [==============================] - 0s 2us/step - loss: 0.6773 - acc: 0.5843 - val_loss: 0.6665 - val_acc: 0.6270\n",
      "Epoch 4/50\n",
      "18097/18097 [==============================] - 0s 2us/step - loss: 0.6581 - acc: 0.6551 - val_loss: 0.6480 - val_acc: 0.6855\n",
      "Epoch 5/50\n",
      "18097/18097 [==============================] - 0s 2us/step - loss: 0.6401 - acc: 0.7025 - val_loss: 0.6307 - val_acc: 0.7212\n",
      "Epoch 6/50\n",
      "18097/18097 [==============================] - 0s 2us/step - loss: 0.6233 - acc: 0.7349 - val_loss: 0.6145 - val_acc: 0.7416\n",
      "Epoch 7/50\n",
      "18097/18097 [==============================] - 0s 2us/step - loss: 0.6075 - acc: 0.7517 - val_loss: 0.5993 - val_acc: 0.7571\n",
      "Epoch 8/50\n",
      "18097/18097 [==============================] - 0s 2us/step - loss: 0.5927 - acc: 0.7605 - val_loss: 0.5850 - val_acc: 0.7644\n",
      "Epoch 9/50\n",
      "18097/18097 [==============================] - 0s 2us/step - loss: 0.5790 - acc: 0.7640 - val_loss: 0.5718 - val_acc: 0.7674\n",
      "Epoch 10/50\n",
      "18097/18097 [==============================] - 0s 2us/step - loss: 0.5662 - acc: 0.7664 - val_loss: 0.5595 - val_acc: 0.7693\n",
      "Epoch 11/50\n",
      "18097/18097 [==============================] - 0s 2us/step - loss: 0.5543 - acc: 0.7685 - val_loss: 0.5481 - val_acc: 0.7701\n",
      "Epoch 12/50\n",
      "18097/18097 [==============================] - 0s 2us/step - loss: 0.5433 - acc: 0.7696 - val_loss: 0.5376 - val_acc: 0.7703\n",
      "Epoch 13/50\n",
      "18097/18097 [==============================] - 0s 2us/step - loss: 0.5332 - acc: 0.7715 - val_loss: 0.5280 - val_acc: 0.7712\n",
      "Epoch 14/50\n",
      "18097/18097 [==============================] - 0s 2us/step - loss: 0.5240 - acc: 0.7710 - val_loss: 0.5192 - val_acc: 0.7708\n",
      "Epoch 15/50\n",
      "18097/18097 [==============================] - 0s 2us/step - loss: 0.5156 - acc: 0.7715 - val_loss: 0.5112 - val_acc: 0.7712\n",
      "Epoch 16/50\n",
      "18097/18097 [==============================] - 0s 2us/step - loss: 0.5080 - acc: 0.7711 - val_loss: 0.5040 - val_acc: 0.7706\n",
      "Epoch 17/50\n",
      "18097/18097 [==============================] - 0s 2us/step - loss: 0.5010 - acc: 0.7708 - val_loss: 0.4974 - val_acc: 0.7702\n",
      "Epoch 18/50\n",
      "18097/18097 [==============================] - 0s 2us/step - loss: 0.4948 - acc: 0.7710 - val_loss: 0.4915 - val_acc: 0.7709\n",
      "Epoch 19/50\n",
      "18097/18097 [==============================] - 0s 2us/step - loss: 0.4892 - acc: 0.7712 - val_loss: 0.4861 - val_acc: 0.7709\n",
      "Epoch 20/50\n",
      "18097/18097 [==============================] - 0s 2us/step - loss: 0.4840 - acc: 0.7715 - val_loss: 0.4811 - val_acc: 0.7714\n",
      "Epoch 21/50\n",
      "18097/18097 [==============================] - 0s 2us/step - loss: 0.4792 - acc: 0.7726 - val_loss: 0.4765 - val_acc: 0.7724\n",
      "Epoch 22/50\n",
      "18097/18097 [==============================] - 0s 2us/step - loss: 0.4746 - acc: 0.7737 - val_loss: 0.4721 - val_acc: 0.7739\n",
      "Epoch 23/50\n",
      "18097/18097 [==============================] - 0s 2us/step - loss: 0.4704 - acc: 0.7752 - val_loss: 0.4681 - val_acc: 0.7746\n",
      "Epoch 24/50\n",
      "18097/18097 [==============================] - 0s 2us/step - loss: 0.4665 - acc: 0.7766 - val_loss: 0.4643 - val_acc: 0.7765\n",
      "Epoch 25/50\n",
      "18097/18097 [==============================] - 0s 2us/step - loss: 0.4628 - acc: 0.7779 - val_loss: 0.4608 - val_acc: 0.7779\n",
      "Epoch 26/50\n",
      "18097/18097 [==============================] - 0s 2us/step - loss: 0.4593 - acc: 0.7793 - val_loss: 0.4574 - val_acc: 0.7787\n",
      "Epoch 27/50\n",
      "18097/18097 [==============================] - 0s 2us/step - loss: 0.4561 - acc: 0.7812 - val_loss: 0.4543 - val_acc: 0.7798\n",
      "Epoch 28/50\n",
      "18097/18097 [==============================] - 0s 2us/step - loss: 0.4530 - acc: 0.7822 - val_loss: 0.4513 - val_acc: 0.7814\n",
      "Epoch 29/50\n",
      "18097/18097 [==============================] - 0s 2us/step - loss: 0.4500 - acc: 0.7834 - val_loss: 0.4485 - val_acc: 0.7830\n",
      "Epoch 30/50\n",
      "18097/18097 [==============================] - 0s 2us/step - loss: 0.4472 - acc: 0.7843 - val_loss: 0.4458 - val_acc: 0.7836\n",
      "Epoch 31/50\n",
      "18097/18097 [==============================] - 0s 2us/step - loss: 0.4446 - acc: 0.7864 - val_loss: 0.4433 - val_acc: 0.7845\n",
      "Epoch 32/50\n",
      "18097/18097 [==============================] - 0s 2us/step - loss: 0.4421 - acc: 0.7884 - val_loss: 0.4408 - val_acc: 0.7842\n",
      "Epoch 33/50\n",
      "18097/18097 [==============================] - 0s 2us/step - loss: 0.4396 - acc: 0.7897 - val_loss: 0.4385 - val_acc: 0.7859\n",
      "Epoch 34/50\n",
      "18097/18097 [==============================] - 0s 2us/step - loss: 0.4374 - acc: 0.7910 - val_loss: 0.4363 - val_acc: 0.7875\n",
      "Epoch 35/50\n",
      "18097/18097 [==============================] - 0s 2us/step - loss: 0.4352 - acc: 0.7925 - val_loss: 0.4343 - val_acc: 0.7891\n",
      "Epoch 36/50\n",
      "18097/18097 [==============================] - 0s 2us/step - loss: 0.4331 - acc: 0.7942 - val_loss: 0.4323 - val_acc: 0.7905\n",
      "Epoch 37/50\n",
      "18097/18097 [==============================] - 0s 2us/step - loss: 0.4312 - acc: 0.7950 - val_loss: 0.4304 - val_acc: 0.7912\n",
      "Epoch 38/50\n",
      "18097/18097 [==============================] - 0s 2us/step - loss: 0.4293 - acc: 0.7962 - val_loss: 0.4286 - val_acc: 0.7935\n",
      "Epoch 39/50\n",
      "18097/18097 [==============================] - 0s 2us/step - loss: 0.4274 - acc: 0.7975 - val_loss: 0.4269 - val_acc: 0.7939\n",
      "Epoch 40/50\n",
      "18097/18097 [==============================] - 0s 2us/step - loss: 0.4257 - acc: 0.7979 - val_loss: 0.4252 - val_acc: 0.7946\n",
      "Epoch 41/50\n",
      "18097/18097 [==============================] - 0s 2us/step - loss: 0.4239 - acc: 0.7988 - val_loss: 0.4235 - val_acc: 0.7961\n",
      "Epoch 42/50\n",
      "18097/18097 [==============================] - 0s 2us/step - loss: 0.4223 - acc: 0.8007 - val_loss: 0.4219 - val_acc: 0.7975\n",
      "Epoch 43/50\n",
      "18097/18097 [==============================] - 0s 2us/step - loss: 0.4206 - acc: 0.8023 - val_loss: 0.4204 - val_acc: 0.7985\n",
      "Epoch 44/50\n",
      "18097/18097 [==============================] - 0s 2us/step - loss: 0.4190 - acc: 0.8036 - val_loss: 0.4189 - val_acc: 0.7999\n",
      "Epoch 45/50\n",
      "18097/18097 [==============================] - 0s 2us/step - loss: 0.4175 - acc: 0.8047 - val_loss: 0.4174 - val_acc: 0.8008\n",
      "Epoch 46/50\n",
      "18097/18097 [==============================] - 0s 2us/step - loss: 0.4160 - acc: 0.8052 - val_loss: 0.4160 - val_acc: 0.8018\n",
      "Epoch 47/50\n",
      "18097/18097 [==============================] - 0s 2us/step - loss: 0.4145 - acc: 0.8065 - val_loss: 0.4146 - val_acc: 0.8030\n",
      "Epoch 48/50\n",
      "18097/18097 [==============================] - 0s 2us/step - loss: 0.4131 - acc: 0.8073 - val_loss: 0.4132 - val_acc: 0.8041\n",
      "Epoch 49/50\n",
      "18097/18097 [==============================] - 0s 2us/step - loss: 0.4117 - acc: 0.8085 - val_loss: 0.4119 - val_acc: 0.8046\n",
      "Epoch 50/50\n",
      "18097/18097 [==============================] - 0s 2us/step - loss: 0.4103 - acc: 0.8098 - val_loss: 0.4107 - val_acc: 0.8050\n",
      "12065/12065 [==============================] - 0s 17us/step\n",
      "[0.41066742922525606, 0.8049730625777041]\n"
     ]
    },
    {
     "data": {
      "image/png": "[encoded data removed]",
      "text/plain": [
       "<Figure size 432x288 with 1 Axes>"
      ]
     },
     "metadata": {
      "needs_background": "light"
     },
     "output_type": "display_data"
    }
   ],
   "source": [
    "cVals = [0.001, 0.01, 0.1, 1, 10, 100]\n",
    "for c in cVals:\n",
    "    model = keras.Sequential()\n",
    "\n",
    "    model.add(Dense(output_dim=9, activation='sigmoid', input_dim=11))\n",
    "    model.add(Dense(output_dim=1, activation='sigmoid', input_dim=9))\n",
    "\n",
    "    model.compile(loss='binary_crossentropy', optimizer='rmsprop', metrics=['acc'])\n",
    "\n",
    "    model.summary()\n",
    "                 \n",
    "    training_model = model.fit(X_train, Y_train, nb_epoch=50, batch_size=1810, validation_data=(X_test,Y_test),verbose=1)\n",
    "    \n",
    "    results = model.evaluate(X_test, Y_test)\n",
    "    print(results)\n",
    "\n",
    "    acc = training_model.history['acc']\n",
    "    value_acc = training_model.history['val_acc']\n",
    "    num_epochs = range(1, len(acc) + 1)\n",
    "    plt.figure()\n",
    "    plt.plot(num_epochs, acc, 'b.-', label='Training acc')\n",
    "    plt.plot(num_epochs, value_acc, 'r.-', label='Validation acc')\n",
    "    plt.title('Unscaled Training and Validation Accuracy for Income Prediction with C:{}'.format(c))\n",
    "    plt.xlabel('Epochs')\n",
    "    plt.ylabel('Accuracy')\n",
    "    plt.legend()\n",
    "\n",
    "    plt.show()"
   ]
  },
  {
   "cell_type": "markdown",
   "metadata": {},
   "source": [
    "# Sigmoid Scaled"
   ]
  },
  {
   "cell_type": "code",
   "execution_count": 185,
   "metadata": {},
   "outputs": [
    {
     "name": "stderr",
     "output_type": "stream",
     "text": [
      "/Users/derrick/anaconda3/lib/python3.7/site-packages/sklearn/utils/validation.py:595: DataConversionWarning: Data with input dtype int64 was converted to float64 by StandardScaler.\n",
      "  warnings.warn(msg, DataConversionWarning)\n",
      "/Users/derrick/anaconda3/lib/python3.7/site-packages/sklearn/utils/validation.py:595: DataConversionWarning: Data with input dtype int64 was converted to float64 by StandardScaler.\n",
      "  warnings.warn(msg, DataConversionWarning)\n"
     ]
    },
    {
     "data": {
      "text/plain": [
       "array([ 3.31662977, -0.20895464, -0.4397382 ,  2.28296868, -0.73454534,\n",
       "       -0.26124893,  0.3850479 , -1.44340518, -0.14744462, 10.55581365,\n",
       "       -1.91416096])"
      ]
     },
     "execution_count": 185,
     "metadata": {},
     "output_type": "execute_result"
    }
   ],
   "source": [
    "X_scale = StandardScaler()\n",
    "X = X_scale.fit_transform(X)\n",
    "\n",
    "X[0,:] # Looking the new features after scaling"
   ]
  },
  {
   "cell_type": "code",
   "execution_count": 186,
   "metadata": {},
   "outputs": [
    {
     "name": "stdout",
     "output_type": "stream",
     "text": [
      "(18097, 11)\n"
     ]
    }
   ],
   "source": [
    "# Split the data into training and test set.  60% training and %40 test\n",
    "X_train, X_test, Y_train, Y_test = train_test_split(X, Y, test_size=0.4)\n",
    "\n",
    "print(X_train.shape)"
   ]
  },
  {
   "cell_type": "code",
   "execution_count": 187,
   "metadata": {},
   "outputs": [
    {
     "name": "stdout",
     "output_type": "stream",
     "text": [
      "Model: \"sequential_17\"\n",
      "_________________________________________________________________\n",
      "Layer (type)                 Output Shape              Param #   \n",
      "=================================================================\n",
      "dense_33 (Dense)             (None, 9)                 108       \n",
      "_________________________________________________________________\n",
      "dense_34 (Dense)             (None, 1)                 10        \n",
      "=================================================================\n",
      "Total params: 118\n",
      "Trainable params: 118\n",
      "Non-trainable params: 0\n",
      "_________________________________________________________________\n"
     ]
    },
    {
     "name": "stderr",
     "output_type": "stream",
     "text": [
      "/Users/derrick/anaconda3/lib/python3.7/site-packages/ipykernel_launcher.py:3: UserWarning: Update your `Dense` call to the Keras 2 API: `Dense(activation=\"sigmoid\", input_dim=11, units=9)`\n",
      "  This is separate from the ipykernel package so we can avoid doing imports until\n",
      "/Users/derrick/anaconda3/lib/python3.7/site-packages/ipykernel_launcher.py:4: UserWarning: Update your `Dense` call to the Keras 2 API: `Dense(activation=\"sigmoid\", input_dim=9, units=1)`\n",
      "  after removing the cwd from sys.path.\n"
     ]
    }
   ],
   "source": [
    "model = keras.Sequential()\n",
    "\n",
    "model.add(Dense(output_dim=9, activation='sigmoid', input_dim=11))\n",
    "model.add(Dense(output_dim=1, activation='sigmoid', input_dim=9))\n",
    "\n",
    "model.compile(loss='binary_crossentropy', optimizer='rmsprop', metrics=['acc'])\n",
    "\n",
    "model.summary()"
   ]
  },
  {
   "cell_type": "code",
   "execution_count": 188,
   "metadata": {},
   "outputs": [
    {
     "name": "stderr",
     "output_type": "stream",
     "text": [
      "/Users/derrick/anaconda3/lib/python3.7/site-packages/ipykernel_launcher.py:1: UserWarning: The `nb_epoch` argument in `fit` has been renamed `epochs`.\n",
      "  \"\"\"Entry point for launching an IPython kernel.\n"
     ]
    },
    {
     "name": "stdout",
     "output_type": "stream",
     "text": [
      "Train on 18097 samples, validate on 12065 samples\n",
      "Epoch 1/50\n",
      "18097/18097 [==============================] - 1s 37us/step - loss: 0.7503 - acc: 0.3890 - val_loss: 0.7310 - val_acc: 0.4211\n",
      "Epoch 2/50\n",
      "18097/18097 [==============================] - 0s 1us/step - loss: 0.7181 - acc: 0.4480 - val_loss: 0.7050 - val_acc: 0.4773\n",
      "Epoch 3/50\n",
      "18097/18097 [==============================] - 0s 1us/step - loss: 0.6940 - acc: 0.5113 - val_loss: 0.6825 - val_acc: 0.5428\n",
      "Epoch 4/50\n",
      "18097/18097 [==============================] - 0s 1us/step - loss: 0.6725 - acc: 0.5782 - val_loss: 0.6618 - val_acc: 0.6089\n",
      "Epoch 5/50\n",
      "18097/18097 [==============================] - 0s 1us/step - loss: 0.6525 - acc: 0.6443 - val_loss: 0.6426 - val_acc: 0.6729\n",
      "Epoch 6/50\n",
      "18097/18097 [==============================] - 0s 1us/step - loss: 0.6339 - acc: 0.6981 - val_loss: 0.6245 - val_acc: 0.7165\n",
      "Epoch 7/50\n",
      "18097/18097 [==============================] - 0s 2us/step - loss: 0.6165 - acc: 0.7348 - val_loss: 0.6076 - val_acc: 0.7427\n",
      "Epoch 8/50\n",
      "18097/18097 [==============================] - 0s 2us/step - loss: 0.6002 - acc: 0.7565 - val_loss: 0.5919 - val_acc: 0.7575\n",
      "Epoch 9/50\n",
      "18097/18097 [==============================] - 0s 1us/step - loss: 0.5850 - acc: 0.7676 - val_loss: 0.5772 - val_acc: 0.7677\n",
      "Epoch 10/50\n",
      "18097/18097 [==============================] - 0s 1us/step - loss: 0.5709 - acc: 0.7763 - val_loss: 0.5636 - val_acc: 0.7739\n",
      "Epoch 11/50\n",
      "18097/18097 [==============================] - 0s 1us/step - loss: 0.5578 - acc: 0.7826 - val_loss: 0.5510 - val_acc: 0.7786\n",
      "Epoch 12/50\n",
      "18097/18097 [==============================] - 0s 1us/step - loss: 0.5458 - acc: 0.7868 - val_loss: 0.5395 - val_acc: 0.7836\n",
      "Epoch 13/50\n",
      "18097/18097 [==============================] - 0s 1us/step - loss: 0.5347 - acc: 0.7877 - val_loss: 0.5288 - val_acc: 0.7855\n",
      "Epoch 14/50\n",
      "18097/18097 [==============================] - 0s 1us/step - loss: 0.5246 - acc: 0.7876 - val_loss: 0.5192 - val_acc: 0.7843\n",
      "Epoch 15/50\n",
      "18097/18097 [==============================] - 0s 2us/step - loss: 0.5153 - acc: 0.7855 - val_loss: 0.5103 - val_acc: 0.7832\n",
      "Epoch 16/50\n",
      "18097/18097 [==============================] - 0s 1us/step - loss: 0.5069 - acc: 0.7845 - val_loss: 0.5023 - val_acc: 0.7824\n",
      "Epoch 17/50\n",
      "18097/18097 [==============================] - 0s 2us/step - loss: 0.4993 - acc: 0.7841 - val_loss: 0.4951 - val_acc: 0.7809\n",
      "Epoch 18/50\n",
      "18097/18097 [==============================] - 0s 1us/step - loss: 0.4925 - acc: 0.7831 - val_loss: 0.4887 - val_acc: 0.7802\n",
      "Epoch 19/50\n",
      "18097/18097 [==============================] - 0s 1us/step - loss: 0.4865 - acc: 0.7826 - val_loss: 0.4829 - val_acc: 0.7807\n",
      "Epoch 20/50\n",
      "18097/18097 [==============================] - 0s 2us/step - loss: 0.4810 - acc: 0.7820 - val_loss: 0.4778 - val_acc: 0.7802\n",
      "Epoch 21/50\n",
      "18097/18097 [==============================] - 0s 1us/step - loss: 0.4762 - acc: 0.7811 - val_loss: 0.4732 - val_acc: 0.7804\n",
      "Epoch 22/50\n",
      "18097/18097 [==============================] - 0s 1us/step - loss: 0.4718 - acc: 0.7817 - val_loss: 0.4690 - val_acc: 0.7809\n",
      "Epoch 23/50\n",
      "18097/18097 [==============================] - 0s 1us/step - loss: 0.4678 - acc: 0.7824 - val_loss: 0.4652 - val_acc: 0.7815\n",
      "Epoch 24/50\n",
      "18097/18097 [==============================] - 0s 1us/step - loss: 0.4640 - acc: 0.7833 - val_loss: 0.4615 - val_acc: 0.7832\n",
      "Epoch 25/50\n",
      "18097/18097 [==============================] - 0s 1us/step - loss: 0.4603 - acc: 0.7848 - val_loss: 0.4580 - val_acc: 0.7847\n",
      "Epoch 26/50\n",
      "18097/18097 [==============================] - 0s 1us/step - loss: 0.4569 - acc: 0.7867 - val_loss: 0.4546 - val_acc: 0.7857\n",
      "Epoch 27/50\n",
      "18097/18097 [==============================] - 0s 1us/step - loss: 0.4535 - acc: 0.7885 - val_loss: 0.4514 - val_acc: 0.7879\n",
      "Epoch 28/50\n",
      "18097/18097 [==============================] - 0s 1us/step - loss: 0.4503 - acc: 0.7915 - val_loss: 0.4483 - val_acc: 0.7897\n",
      "Epoch 29/50\n",
      "18097/18097 [==============================] - 0s 1us/step - loss: 0.4472 - acc: 0.7937 - val_loss: 0.4454 - val_acc: 0.7908\n",
      "Epoch 30/50\n",
      "18097/18097 [==============================] - 0s 1us/step - loss: 0.4443 - acc: 0.7957 - val_loss: 0.4425 - val_acc: 0.7926\n",
      "Epoch 31/50\n",
      "18097/18097 [==============================] - 0s 2us/step - loss: 0.4415 - acc: 0.7979 - val_loss: 0.4398 - val_acc: 0.7947\n",
      "Epoch 32/50\n",
      "18097/18097 [==============================] - 0s 1us/step - loss: 0.4387 - acc: 0.7994 - val_loss: 0.4372 - val_acc: 0.7970\n",
      "Epoch 33/50\n",
      "18097/18097 [==============================] - 0s 1us/step - loss: 0.4362 - acc: 0.8022 - val_loss: 0.4348 - val_acc: 0.7998\n",
      "Epoch 34/50\n",
      "18097/18097 [==============================] - 0s 1us/step - loss: 0.4337 - acc: 0.8041 - val_loss: 0.4325 - val_acc: 0.8010\n",
      "Epoch 35/50\n",
      "18097/18097 [==============================] - 0s 1us/step - loss: 0.4314 - acc: 0.8052 - val_loss: 0.4303 - val_acc: 0.8022\n",
      "Epoch 36/50\n",
      "18097/18097 [==============================] - 0s 1us/step - loss: 0.4291 - acc: 0.8060 - val_loss: 0.4281 - val_acc: 0.8023\n",
      "Epoch 37/50\n",
      "18097/18097 [==============================] - 0s 1us/step - loss: 0.4270 - acc: 0.8068 - val_loss: 0.4262 - val_acc: 0.8043\n",
      "Epoch 38/50\n",
      "18097/18097 [==============================] - 0s 1us/step - loss: 0.4249 - acc: 0.8078 - val_loss: 0.4242 - val_acc: 0.8050\n",
      "Epoch 39/50\n",
      "18097/18097 [==============================] - 0s 1us/step - loss: 0.4230 - acc: 0.8092 - val_loss: 0.4225 - val_acc: 0.8056\n",
      "Epoch 40/50\n",
      "18097/18097 [==============================] - 0s 1us/step - loss: 0.4212 - acc: 0.8105 - val_loss: 0.4208 - val_acc: 0.8051\n",
      "Epoch 41/50\n",
      "18097/18097 [==============================] - 0s 1us/step - loss: 0.4195 - acc: 0.8116 - val_loss: 0.4192 - val_acc: 0.8057\n",
      "Epoch 42/50\n",
      "18097/18097 [==============================] - 0s 2us/step - loss: 0.4178 - acc: 0.8121 - val_loss: 0.4177 - val_acc: 0.8061\n",
      "Epoch 43/50\n",
      "18097/18097 [==============================] - 0s 1us/step - loss: 0.4162 - acc: 0.8131 - val_loss: 0.4162 - val_acc: 0.8070\n",
      "Epoch 44/50\n",
      "18097/18097 [==============================] - 0s 1us/step - loss: 0.4147 - acc: 0.8130 - val_loss: 0.4148 - val_acc: 0.8072\n",
      "Epoch 45/50\n",
      "18097/18097 [==============================] - 0s 1us/step - loss: 0.4133 - acc: 0.8140 - val_loss: 0.4135 - val_acc: 0.8084\n",
      "Epoch 46/50\n",
      "18097/18097 [==============================] - 0s 1us/step - loss: 0.4119 - acc: 0.8142 - val_loss: 0.4123 - val_acc: 0.8084\n",
      "Epoch 47/50\n",
      "18097/18097 [==============================] - 0s 2us/step - loss: 0.4106 - acc: 0.8151 - val_loss: 0.4111 - val_acc: 0.8091\n",
      "Epoch 48/50\n",
      "18097/18097 [==============================] - 0s 1us/step - loss: 0.4094 - acc: 0.8157 - val_loss: 0.4100 - val_acc: 0.8100\n",
      "Epoch 49/50\n",
      "18097/18097 [==============================] - 0s 1us/step - loss: 0.4082 - acc: 0.8159 - val_loss: 0.4089 - val_acc: 0.8092\n",
      "Epoch 50/50\n",
      "18097/18097 [==============================] - 0s 1us/step - loss: 0.4070 - acc: 0.8163 - val_loss: 0.4078 - val_acc: 0.8094\n"
     ]
    }
   ],
   "source": [
    "training_model = model.fit(X_train, Y_train, nb_epoch=50, batch_size=1810, validation_data=(X_test,Y_test),verbose=1)"
   ]
  },
  {
   "cell_type": "code",
   "execution_count": 189,
   "metadata": {},
   "outputs": [
    {
     "name": "stdout",
     "output_type": "stream",
     "text": [
      "12065/12065 [==============================] - 0s 12us/step\n",
      "[0.40783849338550465, 0.8094488188976378]\n"
     ]
    }
   ],
   "source": [
    "results = model.evaluate(X_test, Y_test)\n",
    "print(results)"
   ]
  },
  {
   "cell_type": "code",
   "execution_count": 190,
   "metadata": {},
   "outputs": [
    {
     "data": {
      "image/png": "[encoded data removed]",
      "text/plain": [
       "<Figure size 432x288 with 1 Axes>"
      ]
     },
     "metadata": {
      "needs_background": "light"
     },
     "output_type": "display_data"
    }
   ],
   "source": [
    "acc = training_model.history['acc']\n",
    "value_acc = training_model.history['val_acc']\n",
    "num_epochs = range(1, len(acc) + 1)\n",
    "plt.figure()\n",
    "plt.plot(num_epochs, acc, 'b.-', label='Training acc')\n",
    "plt.plot(num_epochs, value_acc, 'r.-', label='Validation acc')\n",
    "plt.title('Scaled Training and Validation Accuracy for Income Prediction')\n",
    "plt.xlabel('Epochs')\n",
    "plt.ylabel('Accuracy')\n",
    "plt.legend()\n",
    "\n",
    "plt.show()"
   ]
  },
  {
   "cell_type": "markdown",
   "metadata": {},
   "source": [
    "# Scaled L1 Regularization "
   ]
  },
  {
   "cell_type": "code",
   "execution_count": 191,
   "metadata": {},
   "outputs": [
    {
     "name": "stdout",
     "output_type": "stream",
     "text": [
      "Model: \"sequential_18\"\n",
      "_________________________________________________________________\n",
      "Layer (type)                 Output Shape              Param #   \n",
      "=================================================================\n",
      "dense_35 (Dense)             (None, 9)                 108       \n",
      "_________________________________________________________________\n",
      "dense_36 (Dense)             (None, 1)                 10        \n",
      "=================================================================\n",
      "Total params: 118\n",
      "Trainable params: 118\n",
      "Non-trainable params: 0\n",
      "_________________________________________________________________\n"
     ]
    },
    {
     "name": "stderr",
     "output_type": "stream",
     "text": [
      "/Users/derrick/anaconda3/lib/python3.7/site-packages/ipykernel_launcher.py:4: UserWarning: Update your `Dense` call to the Keras 2 API: `Dense(activation=\"sigmoid\", input_dim=11, units=9)`\n",
      "  after removing the cwd from sys.path.\n",
      "/Users/derrick/anaconda3/lib/python3.7/site-packages/ipykernel_launcher.py:5: UserWarning: Update your `Dense` call to the Keras 2 API: `Dense(activation=\"sigmoid\", input_dim=9, units=1)`\n",
      "  \"\"\"\n",
      "/Users/derrick/anaconda3/lib/python3.7/site-packages/ipykernel_launcher.py:11: UserWarning: The `nb_epoch` argument in `fit` has been renamed `epochs`.\n",
      "  # This is added back by InteractiveShellApp.init_path()\n"
     ]
    },
    {
     "name": "stdout",
     "output_type": "stream",
     "text": [
      "Train on 18097 samples, validate on 12065 samples\n",
      "Epoch 1/50\n",
      "18097/18097 [==============================] - 1s 43us/step - loss: 1.0085 - acc: 0.2514 - val_loss: 0.9829 - val_acc: 0.2498\n",
      "Epoch 2/50\n",
      "18097/18097 [==============================] - 0s 1us/step - loss: 0.9622 - acc: 0.2535 - val_loss: 0.9451 - val_acc: 0.2525\n",
      "Epoch 3/50\n",
      "18097/18097 [==============================] - 0s 1us/step - loss: 0.9266 - acc: 0.2582 - val_loss: 0.9115 - val_acc: 0.2581\n",
      "Epoch 4/50\n",
      "18097/18097 [==============================] - 0s 1us/step - loss: 0.8943 - acc: 0.2651 - val_loss: 0.8803 - val_acc: 0.2694\n",
      "Epoch 5/50\n",
      "18097/18097 [==============================] - 0s 1us/step - loss: 0.8638 - acc: 0.2827 - val_loss: 0.8506 - val_acc: 0.2956\n",
      "Epoch 6/50\n",
      "18097/18097 [==============================] - 0s 1us/step - loss: 0.8348 - acc: 0.3117 - val_loss: 0.8223 - val_acc: 0.3289\n",
      "Epoch 7/50\n",
      "18097/18097 [==============================] - 0s 1us/step - loss: 0.8071 - acc: 0.3428 - val_loss: 0.7953 - val_acc: 0.3654\n",
      "Epoch 8/50\n",
      "18097/18097 [==============================] - 0s 1us/step - loss: 0.7807 - acc: 0.3763 - val_loss: 0.7695 - val_acc: 0.4012\n",
      "Epoch 9/50\n",
      "18097/18097 [==============================] - 0s 1us/step - loss: 0.7556 - acc: 0.4167 - val_loss: 0.7450 - val_acc: 0.4466\n",
      "Epoch 10/50\n",
      "18097/18097 [==============================] - 0s 1us/step - loss: 0.7317 - acc: 0.4634 - val_loss: 0.7218 - val_acc: 0.4928\n",
      "Epoch 11/50\n",
      "18097/18097 [==============================] - 0s 1us/step - loss: 0.7091 - acc: 0.5144 - val_loss: 0.6997 - val_acc: 0.5378\n",
      "Epoch 12/50\n",
      "18097/18097 [==============================] - 0s 1us/step - loss: 0.6876 - acc: 0.5604 - val_loss: 0.6788 - val_acc: 0.5765\n",
      "Epoch 13/50\n",
      "18097/18097 [==============================] - 0s 2us/step - loss: 0.6672 - acc: 0.5945 - val_loss: 0.6590 - val_acc: 0.6079\n",
      "Epoch 14/50\n",
      "18097/18097 [==============================] - 0s 2us/step - loss: 0.6480 - acc: 0.6263 - val_loss: 0.6403 - val_acc: 0.6382\n",
      "Epoch 15/50\n",
      "18097/18097 [==============================] - 0s 2us/step - loss: 0.6299 - acc: 0.6551 - val_loss: 0.6228 - val_acc: 0.6673\n",
      "Epoch 16/50\n",
      "18097/18097 [==============================] - 0s 2us/step - loss: 0.6129 - acc: 0.6836 - val_loss: 0.6062 - val_acc: 0.6952\n",
      "Epoch 17/50\n",
      "18097/18097 [==============================] - 0s 2us/step - loss: 0.5969 - acc: 0.7103 - val_loss: 0.5907 - val_acc: 0.7194\n",
      "Epoch 18/50\n",
      "18097/18097 [==============================] - 0s 2us/step - loss: 0.5819 - acc: 0.7311 - val_loss: 0.5761 - val_acc: 0.7409\n",
      "Epoch 19/50\n",
      "18097/18097 [==============================] - 0s 2us/step - loss: 0.5678 - acc: 0.7510 - val_loss: 0.5624 - val_acc: 0.7563\n",
      "Epoch 20/50\n",
      "18097/18097 [==============================] - 0s 2us/step - loss: 0.5547 - acc: 0.7655 - val_loss: 0.5497 - val_acc: 0.7699\n",
      "Epoch 21/50\n",
      "18097/18097 [==============================] - 0s 2us/step - loss: 0.5425 - acc: 0.7788 - val_loss: 0.5379 - val_acc: 0.7811\n",
      "Epoch 22/50\n",
      "18097/18097 [==============================] - 0s 2us/step - loss: 0.5311 - acc: 0.7896 - val_loss: 0.5269 - val_acc: 0.7880\n",
      "Epoch 23/50\n",
      "18097/18097 [==============================] - 0s 2us/step - loss: 0.5205 - acc: 0.7967 - val_loss: 0.5167 - val_acc: 0.7939\n",
      "Epoch 24/50\n",
      "18097/18097 [==============================] - 0s 2us/step - loss: 0.5108 - acc: 0.8027 - val_loss: 0.5073 - val_acc: 0.7985\n",
      "Epoch 25/50\n",
      "18097/18097 [==============================] - 0s 2us/step - loss: 0.5018 - acc: 0.8063 - val_loss: 0.4986 - val_acc: 0.7995\n",
      "Epoch 26/50\n",
      "18097/18097 [==============================] - 0s 1us/step - loss: 0.4936 - acc: 0.8098 - val_loss: 0.4907 - val_acc: 0.8027\n",
      "Epoch 27/50\n",
      "18097/18097 [==============================] - 0s 2us/step - loss: 0.4860 - acc: 0.8106 - val_loss: 0.4835 - val_acc: 0.8012\n",
      "Epoch 28/50\n",
      "18097/18097 [==============================] - 0s 1us/step - loss: 0.4792 - acc: 0.8116 - val_loss: 0.4769 - val_acc: 0.8021\n",
      "Epoch 29/50\n",
      "18097/18097 [==============================] - 0s 1us/step - loss: 0.4730 - acc: 0.8115 - val_loss: 0.4710 - val_acc: 0.8017\n",
      "Epoch 30/50\n",
      "18097/18097 [==============================] - 0s 2us/step - loss: 0.4675 - acc: 0.8105 - val_loss: 0.4657 - val_acc: 0.8010\n",
      "Epoch 31/50\n",
      "18097/18097 [==============================] - 0s 2us/step - loss: 0.4625 - acc: 0.8082 - val_loss: 0.4610 - val_acc: 0.8018\n",
      "Epoch 32/50\n",
      "18097/18097 [==============================] - 0s 2us/step - loss: 0.4581 - acc: 0.8062 - val_loss: 0.4568 - val_acc: 0.8008\n",
      "Epoch 33/50\n",
      "18097/18097 [==============================] - 0s 1us/step - loss: 0.4542 - acc: 0.8039 - val_loss: 0.4531 - val_acc: 0.8000\n",
      "Epoch 34/50\n",
      "18097/18097 [==============================] - 0s 1us/step - loss: 0.4507 - acc: 0.8036 - val_loss: 0.4498 - val_acc: 0.8004\n",
      "Epoch 35/50\n",
      "18097/18097 [==============================] - 0s 2us/step - loss: 0.4475 - acc: 0.8036 - val_loss: 0.4467 - val_acc: 0.8003\n",
      "Epoch 36/50\n",
      "18097/18097 [==============================] - 0s 1us/step - loss: 0.4446 - acc: 0.8034 - val_loss: 0.4440 - val_acc: 0.8005\n",
      "Epoch 37/50\n",
      "18097/18097 [==============================] - 0s 1us/step - loss: 0.4419 - acc: 0.8034 - val_loss: 0.4414 - val_acc: 0.8005\n",
      "Epoch 38/50\n",
      "18097/18097 [==============================] - 0s 2us/step - loss: 0.4393 - acc: 0.8034 - val_loss: 0.4389 - val_acc: 0.8017\n",
      "Epoch 39/50\n",
      "18097/18097 [==============================] - 0s 2us/step - loss: 0.4368 - acc: 0.8047 - val_loss: 0.4365 - val_acc: 0.8017\n",
      "Epoch 40/50\n",
      "18097/18097 [==============================] - 0s 2us/step - loss: 0.4344 - acc: 0.8058 - val_loss: 0.4343 - val_acc: 0.8024\n",
      "Epoch 41/50\n",
      "18097/18097 [==============================] - 0s 1us/step - loss: 0.4321 - acc: 0.8075 - val_loss: 0.4321 - val_acc: 0.8034\n",
      "Epoch 42/50\n",
      "18097/18097 [==============================] - 0s 2us/step - loss: 0.4299 - acc: 0.8084 - val_loss: 0.4300 - val_acc: 0.8038\n",
      "Epoch 43/50\n",
      "18097/18097 [==============================] - 0s 2us/step - loss: 0.4279 - acc: 0.8091 - val_loss: 0.4281 - val_acc: 0.8030\n",
      "Epoch 44/50\n",
      "18097/18097 [==============================] - 0s 1us/step - loss: 0.4259 - acc: 0.8105 - val_loss: 0.4262 - val_acc: 0.8029\n",
      "Epoch 45/50\n",
      "18097/18097 [==============================] - 0s 1us/step - loss: 0.4240 - acc: 0.8109 - val_loss: 0.4246 - val_acc: 0.8031\n",
      "Epoch 46/50\n",
      "18097/18097 [==============================] - 0s 1us/step - loss: 0.4223 - acc: 0.8120 - val_loss: 0.4229 - val_acc: 0.8042\n",
      "Epoch 47/50\n",
      "18097/18097 [==============================] - 0s 1us/step - loss: 0.4206 - acc: 0.8121 - val_loss: 0.4214 - val_acc: 0.8042\n",
      "Epoch 48/50\n",
      "18097/18097 [==============================] - 0s 2us/step - loss: 0.4190 - acc: 0.8131 - val_loss: 0.4199 - val_acc: 0.8043\n",
      "Epoch 49/50\n",
      "18097/18097 [==============================] - 0s 1us/step - loss: 0.4176 - acc: 0.8133 - val_loss: 0.4186 - val_acc: 0.8041\n",
      "Epoch 50/50\n",
      "18097/18097 [==============================] - 0s 1us/step - loss: 0.4162 - acc: 0.8142 - val_loss: 0.4173 - val_acc: 0.8045\n",
      "12065/12065 [==============================] - 0s 11us/step\n",
      "[0.4172811960413206, 0.8044757563199337]\n"
     ]
    },
    {
     "data": {
      "image/png": "[encoded data removed]",
      "text/plain": [
       "<Figure size 432x288 with 1 Axes>"
      ]
     },
     "metadata": {
      "needs_background": "light"
     },
     "output_type": "display_data"
    },
    {
     "name": "stdout",
     "output_type": "stream",
     "text": [
      "Model: \"sequential_19\"\n",
      "_________________________________________________________________\n",
      "Layer (type)                 Output Shape              Param #   \n",
      "=================================================================\n",
      "dense_37 (Dense)             (None, 9)                 108       \n",
      "_________________________________________________________________\n",
      "dense_38 (Dense)             (None, 1)                 10        \n",
      "=================================================================\n",
      "Total params: 118\n",
      "Trainable params: 118\n",
      "Non-trainable params: 0\n",
      "_________________________________________________________________\n",
      "Train on 18097 samples, validate on 12065 samples\n",
      "Epoch 1/50\n",
      "18097/18097 [==============================] - 1s 38us/step - loss: 0.5595 - acc: 0.7668 - val_loss: 0.5504 - val_acc: 0.7653\n",
      "Epoch 2/50\n",
      "18097/18097 [==============================] - 0s 1us/step - loss: 0.5457 - acc: 0.7620 - val_loss: 0.5396 - val_acc: 0.7626\n",
      "Epoch 3/50\n",
      "18097/18097 [==============================] - 0s 1us/step - loss: 0.5359 - acc: 0.7595 - val_loss: 0.5307 - val_acc: 0.7610\n",
      "Epoch 4/50\n",
      "18097/18097 [==============================] - 0s 1us/step - loss: 0.5275 - acc: 0.7587 - val_loss: 0.5228 - val_acc: 0.7596\n",
      "Epoch 5/50\n",
      "18097/18097 [==============================] - 0s 1us/step - loss: 0.5200 - acc: 0.7575 - val_loss: 0.5157 - val_acc: 0.7588\n",
      "Epoch 6/50\n",
      "18097/18097 [==============================] - 0s 1us/step - loss: 0.5133 - acc: 0.7569 - val_loss: 0.5093 - val_acc: 0.7585\n",
      "Epoch 7/50\n",
      "18097/18097 [==============================] - 0s 1us/step - loss: 0.5072 - acc: 0.7564 - val_loss: 0.5035 - val_acc: 0.7580\n",
      "Epoch 8/50\n",
      "18097/18097 [==============================] - 0s 1us/step - loss: 0.5016 - acc: 0.7563 - val_loss: 0.4981 - val_acc: 0.7584\n",
      "Epoch 9/50\n",
      "18097/18097 [==============================] - 0s 1us/step - loss: 0.4964 - acc: 0.7571 - val_loss: 0.4930 - val_acc: 0.7590\n",
      "Epoch 10/50\n",
      "18097/18097 [==============================] - 0s 1us/step - loss: 0.4914 - acc: 0.7578 - val_loss: 0.4882 - val_acc: 0.7605\n",
      "Epoch 11/50\n",
      "18097/18097 [==============================] - 0s 1us/step - loss: 0.4866 - acc: 0.7595 - val_loss: 0.4834 - val_acc: 0.7622\n",
      "Epoch 12/50\n",
      "18097/18097 [==============================] - 0s 1us/step - loss: 0.4818 - acc: 0.7609 - val_loss: 0.4788 - val_acc: 0.7643\n",
      "Epoch 13/50\n",
      "18097/18097 [==============================] - 0s 1us/step - loss: 0.4773 - acc: 0.7631 - val_loss: 0.4744 - val_acc: 0.7659\n",
      "Epoch 14/50\n",
      "18097/18097 [==============================] - 0s 1us/step - loss: 0.4729 - acc: 0.7661 - val_loss: 0.4701 - val_acc: 0.7686\n",
      "Epoch 15/50\n",
      "18097/18097 [==============================] - 0s 1us/step - loss: 0.4687 - acc: 0.7681 - val_loss: 0.4660 - val_acc: 0.7709\n",
      "Epoch 16/50\n",
      "18097/18097 [==============================] - 0s 1us/step - loss: 0.4646 - acc: 0.7713 - val_loss: 0.4621 - val_acc: 0.7731\n",
      "Epoch 17/50\n",
      "18097/18097 [==============================] - 0s 1us/step - loss: 0.4608 - acc: 0.7738 - val_loss: 0.4584 - val_acc: 0.7755\n",
      "Epoch 18/50\n",
      "18097/18097 [==============================] - 0s 1us/step - loss: 0.4571 - acc: 0.7772 - val_loss: 0.4548 - val_acc: 0.7783\n",
      "Epoch 19/50\n",
      "18097/18097 [==============================] - 0s 1us/step - loss: 0.4536 - acc: 0.7797 - val_loss: 0.4515 - val_acc: 0.7821\n",
      "Epoch 20/50\n",
      "18097/18097 [==============================] - 0s 1us/step - loss: 0.4503 - acc: 0.7826 - val_loss: 0.4484 - val_acc: 0.7830\n",
      "Epoch 21/50\n",
      "18097/18097 [==============================] - 0s 1us/step - loss: 0.4472 - acc: 0.7846 - val_loss: 0.4454 - val_acc: 0.7856\n",
      "Epoch 22/50\n",
      "18097/18097 [==============================] - 0s 1us/step - loss: 0.4443 - acc: 0.7878 - val_loss: 0.4426 - val_acc: 0.7876\n",
      "Epoch 23/50\n",
      "18097/18097 [==============================] - 0s 1us/step - loss: 0.4414 - acc: 0.7901 - val_loss: 0.4399 - val_acc: 0.7893\n",
      "Epoch 24/50\n",
      "18097/18097 [==============================] - 0s 1us/step - loss: 0.4388 - acc: 0.7928 - val_loss: 0.4373 - val_acc: 0.7910\n",
      "Epoch 25/50\n",
      "18097/18097 [==============================] - 0s 1us/step - loss: 0.4362 - acc: 0.7959 - val_loss: 0.4349 - val_acc: 0.7925\n",
      "Epoch 26/50\n",
      "18097/18097 [==============================] - 0s 1us/step - loss: 0.4339 - acc: 0.7973 - val_loss: 0.4327 - val_acc: 0.7944\n",
      "Epoch 27/50\n",
      "18097/18097 [==============================] - 0s 1us/step - loss: 0.4316 - acc: 0.7993 - val_loss: 0.4306 - val_acc: 0.7964\n",
      "Epoch 28/50\n",
      "18097/18097 [==============================] - 0s 1us/step - loss: 0.4295 - acc: 0.8000 - val_loss: 0.4286 - val_acc: 0.7983\n",
      "Epoch 29/50\n",
      "18097/18097 [==============================] - 0s 1us/step - loss: 0.4275 - acc: 0.8016 - val_loss: 0.4267 - val_acc: 0.7996\n",
      "Epoch 30/50\n",
      "18097/18097 [==============================] - 0s 1us/step - loss: 0.4256 - acc: 0.8026 - val_loss: 0.4249 - val_acc: 0.8007\n",
      "Epoch 31/50\n",
      "18097/18097 [==============================] - 0s 1us/step - loss: 0.4238 - acc: 0.8046 - val_loss: 0.4232 - val_acc: 0.8017\n",
      "Epoch 32/50\n",
      "18097/18097 [==============================] - 0s 1us/step - loss: 0.4221 - acc: 0.8057 - val_loss: 0.4216 - val_acc: 0.8031\n",
      "Epoch 33/50\n",
      "18097/18097 [==============================] - 0s 1us/step - loss: 0.4205 - acc: 0.8057 - val_loss: 0.4201 - val_acc: 0.8046\n",
      "Epoch 34/50\n",
      "18097/18097 [==============================] - 0s 1us/step - loss: 0.4189 - acc: 0.8069 - val_loss: 0.4187 - val_acc: 0.8049\n",
      "Epoch 35/50\n",
      "18097/18097 [==============================] - 0s 1us/step - loss: 0.4175 - acc: 0.8078 - val_loss: 0.4173 - val_acc: 0.8050\n",
      "Epoch 36/50\n",
      "18097/18097 [==============================] - 0s 1us/step - loss: 0.4160 - acc: 0.8091 - val_loss: 0.4159 - val_acc: 0.8056\n",
      "Epoch 37/50\n",
      "18097/18097 [==============================] - 0s 1us/step - loss: 0.4147 - acc: 0.8101 - val_loss: 0.4147 - val_acc: 0.8058\n",
      "Epoch 38/50\n",
      "18097/18097 [==============================] - 0s 1us/step - loss: 0.4134 - acc: 0.8109 - val_loss: 0.4135 - val_acc: 0.8061\n",
      "Epoch 39/50\n",
      "18097/18097 [==============================] - 0s 1us/step - loss: 0.4121 - acc: 0.8120 - val_loss: 0.4123 - val_acc: 0.8065\n",
      "Epoch 40/50\n",
      "18097/18097 [==============================] - 0s 1us/step - loss: 0.4109 - acc: 0.8126 - val_loss: 0.4112 - val_acc: 0.8068\n",
      "Epoch 41/50\n",
      "18097/18097 [==============================] - 0s 1us/step - loss: 0.4098 - acc: 0.8141 - val_loss: 0.4102 - val_acc: 0.8074\n",
      "Epoch 42/50\n",
      "18097/18097 [==============================] - 0s 1us/step - loss: 0.4087 - acc: 0.8152 - val_loss: 0.4092 - val_acc: 0.8086\n",
      "Epoch 43/50\n",
      "18097/18097 [==============================] - 0s 2us/step - loss: 0.4076 - acc: 0.8153 - val_loss: 0.4083 - val_acc: 0.8087\n",
      "Epoch 44/50\n",
      "18097/18097 [==============================] - 0s 1us/step - loss: 0.4066 - acc: 0.8159 - val_loss: 0.4074 - val_acc: 0.8093\n",
      "Epoch 45/50\n",
      "18097/18097 [==============================] - 0s 1us/step - loss: 0.4057 - acc: 0.8167 - val_loss: 0.4065 - val_acc: 0.8093\n",
      "Epoch 46/50\n",
      "18097/18097 [==============================] - 0s 1us/step - loss: 0.4047 - acc: 0.8169 - val_loss: 0.4057 - val_acc: 0.8094\n",
      "Epoch 47/50\n",
      "18097/18097 [==============================] - 0s 2us/step - loss: 0.4038 - acc: 0.8173 - val_loss: 0.4049 - val_acc: 0.8097\n",
      "Epoch 48/50\n",
      "18097/18097 [==============================] - 0s 1us/step - loss: 0.4030 - acc: 0.8177 - val_loss: 0.4041 - val_acc: 0.8102\n",
      "Epoch 49/50\n",
      "18097/18097 [==============================] - 0s 1us/step - loss: 0.4022 - acc: 0.8180 - val_loss: 0.4034 - val_acc: 0.8103\n",
      "Epoch 50/50\n",
      "18097/18097 [==============================] - 0s 1us/step - loss: 0.4014 - acc: 0.8184 - val_loss: 0.4027 - val_acc: 0.8109\n",
      "12065/12065 [==============================] - 0s 12us/step\n",
      "[0.4027474191146326, 0.810940737670949]\n"
     ]
    },
    {
     "data": {
      "image/png": "[encoded data removed]",
      "text/plain": [
       "<Figure size 432x288 with 1 Axes>"
      ]
     },
     "metadata": {
      "needs_background": "light"
     },
     "output_type": "display_data"
    },
    {
     "name": "stdout",
     "output_type": "stream",
     "text": [
      "Model: \"sequential_20\"\n",
      "_________________________________________________________________\n",
      "Layer (type)                 Output Shape              Param #   \n",
      "=================================================================\n",
      "dense_39 (Dense)             (None, 9)                 108       \n",
      "_________________________________________________________________\n",
      "dense_40 (Dense)             (None, 1)                 10        \n",
      "=================================================================\n",
      "Total params: 118\n",
      "Trainable params: 118\n",
      "Non-trainable params: 0\n",
      "_________________________________________________________________\n",
      "Train on 18097 samples, validate on 12065 samples\n",
      "Epoch 1/50\n",
      "18097/18097 [==============================] - 1s 40us/step - loss: 0.6723 - acc: 0.6267 - val_loss: 0.6581 - val_acc: 0.6882\n",
      "Epoch 2/50\n",
      "18097/18097 [==============================] - 0s 1us/step - loss: 0.6488 - acc: 0.7117 - val_loss: 0.6392 - val_acc: 0.7298\n",
      "Epoch 3/50\n",
      "18097/18097 [==============================] - 0s 1us/step - loss: 0.6313 - acc: 0.7386 - val_loss: 0.6229 - val_acc: 0.7481\n",
      "Epoch 4/50\n",
      "18097/18097 [==============================] - 0s 1us/step - loss: 0.6156 - acc: 0.7515 - val_loss: 0.6079 - val_acc: 0.7599\n",
      "Epoch 5/50\n",
      "18097/18097 [==============================] - 0s 1us/step - loss: 0.6013 - acc: 0.7602 - val_loss: 0.5941 - val_acc: 0.7663\n",
      "Epoch 6/50\n",
      "18097/18097 [==============================] - 0s 1us/step - loss: 0.5880 - acc: 0.7674 - val_loss: 0.5813 - val_acc: 0.7686\n",
      "Epoch 7/50\n",
      "18097/18097 [==============================] - 0s 3us/step - loss: 0.5756 - acc: 0.7700 - val_loss: 0.5693 - val_acc: 0.7707\n",
      "Epoch 8/50\n",
      "18097/18097 [==============================] - 0s 2us/step - loss: 0.5641 - acc: 0.7713 - val_loss: 0.5582 - val_acc: 0.7716\n",
      "Epoch 9/50\n",
      "18097/18097 [==============================] - 0s 3us/step - loss: 0.5534 - acc: 0.7719 - val_loss: 0.5480 - val_acc: 0.7713\n",
      "Epoch 10/50\n",
      "18097/18097 [==============================] - 0s 2us/step - loss: 0.5436 - acc: 0.7719 - val_loss: 0.5386 - val_acc: 0.7710\n",
      "Epoch 11/50\n",
      "18097/18097 [==============================] - 0s 2us/step - loss: 0.5346 - acc: 0.7712 - val_loss: 0.5299 - val_acc: 0.7700\n",
      "Epoch 12/50\n",
      "18097/18097 [==============================] - 0s 2us/step - loss: 0.5263 - acc: 0.7711 - val_loss: 0.5220 - val_acc: 0.7702\n",
      "Epoch 13/50\n",
      "18097/18097 [==============================] - 0s 2us/step - loss: 0.5189 - acc: 0.7708 - val_loss: 0.5149 - val_acc: 0.7705\n",
      "Epoch 14/50\n",
      "18097/18097 [==============================] - 0s 2us/step - loss: 0.5120 - acc: 0.7704 - val_loss: 0.5083 - val_acc: 0.7706\n",
      "Epoch 15/50\n",
      "18097/18097 [==============================] - 0s 2us/step - loss: 0.5057 - acc: 0.7703 - val_loss: 0.5023 - val_acc: 0.7702\n",
      "Epoch 16/50\n",
      "18097/18097 [==============================] - 0s 2us/step - loss: 0.5000 - acc: 0.7703 - val_loss: 0.4968 - val_acc: 0.7704\n",
      "Epoch 17/50\n",
      "18097/18097 [==============================] - 0s 2us/step - loss: 0.4947 - acc: 0.7705 - val_loss: 0.4917 - val_acc: 0.7712\n",
      "Epoch 18/50\n",
      "18097/18097 [==============================] - 0s 1us/step - loss: 0.4897 - acc: 0.7708 - val_loss: 0.4870 - val_acc: 0.7717\n",
      "Epoch 19/50\n",
      "18097/18097 [==============================] - 0s 2us/step - loss: 0.4851 - acc: 0.7716 - val_loss: 0.4825 - val_acc: 0.7722\n",
      "Epoch 20/50\n",
      "18097/18097 [==============================] - 0s 2us/step - loss: 0.4808 - acc: 0.7722 - val_loss: 0.4783 - val_acc: 0.7722\n",
      "Epoch 21/50\n",
      "18097/18097 [==============================] - 0s 2us/step - loss: 0.4767 - acc: 0.7733 - val_loss: 0.4743 - val_acc: 0.7723\n",
      "Epoch 22/50\n",
      "18097/18097 [==============================] - 0s 2us/step - loss: 0.4727 - acc: 0.7740 - val_loss: 0.4705 - val_acc: 0.7730\n",
      "Epoch 23/50\n",
      "18097/18097 [==============================] - 0s 2us/step - loss: 0.4689 - acc: 0.7747 - val_loss: 0.4669 - val_acc: 0.7739\n",
      "Epoch 24/50\n",
      "18097/18097 [==============================] - 0s 1us/step - loss: 0.4654 - acc: 0.7753 - val_loss: 0.4634 - val_acc: 0.7750\n",
      "Epoch 25/50\n",
      "18097/18097 [==============================] - 0s 2us/step - loss: 0.4620 - acc: 0.7760 - val_loss: 0.4601 - val_acc: 0.7769\n",
      "Epoch 26/50\n",
      "18097/18097 [==============================] - 0s 2us/step - loss: 0.4587 - acc: 0.7779 - val_loss: 0.4570 - val_acc: 0.7783\n",
      "Epoch 27/50\n",
      "18097/18097 [==============================] - 0s 2us/step - loss: 0.4556 - acc: 0.7792 - val_loss: 0.4540 - val_acc: 0.7791\n",
      "Epoch 28/50\n",
      "18097/18097 [==============================] - 0s 2us/step - loss: 0.4527 - acc: 0.7805 - val_loss: 0.4513 - val_acc: 0.7794\n",
      "Epoch 29/50\n",
      "18097/18097 [==============================] - 0s 2us/step - loss: 0.4499 - acc: 0.7820 - val_loss: 0.4486 - val_acc: 0.7804\n",
      "Epoch 30/50\n",
      "18097/18097 [==============================] - 0s 2us/step - loss: 0.4473 - acc: 0.7842 - val_loss: 0.4460 - val_acc: 0.7814\n",
      "Epoch 31/50\n",
      "18097/18097 [==============================] - 0s 2us/step - loss: 0.4447 - acc: 0.7859 - val_loss: 0.4435 - val_acc: 0.7827\n",
      "Epoch 32/50\n",
      "18097/18097 [==============================] - 0s 2us/step - loss: 0.4423 - acc: 0.7876 - val_loss: 0.4412 - val_acc: 0.7833\n",
      "Epoch 33/50\n",
      "18097/18097 [==============================] - 0s 1us/step - loss: 0.4399 - acc: 0.7889 - val_loss: 0.4389 - val_acc: 0.7836\n",
      "Epoch 34/50\n",
      "18097/18097 [==============================] - 0s 2us/step - loss: 0.4377 - acc: 0.7899 - val_loss: 0.4368 - val_acc: 0.7849\n",
      "Epoch 35/50\n",
      "18097/18097 [==============================] - 0s 2us/step - loss: 0.4355 - acc: 0.7915 - val_loss: 0.4347 - val_acc: 0.7862\n",
      "Epoch 36/50\n",
      "18097/18097 [==============================] - 0s 2us/step - loss: 0.4335 - acc: 0.7923 - val_loss: 0.4327 - val_acc: 0.7870\n",
      "Epoch 37/50\n",
      "18097/18097 [==============================] - 0s 2us/step - loss: 0.4315 - acc: 0.7932 - val_loss: 0.4308 - val_acc: 0.7891\n",
      "Epoch 38/50\n",
      "18097/18097 [==============================] - 0s 2us/step - loss: 0.4296 - acc: 0.7942 - val_loss: 0.4290 - val_acc: 0.7906\n",
      "Epoch 39/50\n",
      "18097/18097 [==============================] - 0s 2us/step - loss: 0.4278 - acc: 0.7952 - val_loss: 0.4273 - val_acc: 0.7914\n",
      "Epoch 40/50\n",
      "18097/18097 [==============================] - 0s 2us/step - loss: 0.4260 - acc: 0.7961 - val_loss: 0.4255 - val_acc: 0.7920\n",
      "Epoch 41/50\n",
      "18097/18097 [==============================] - 0s 2us/step - loss: 0.4242 - acc: 0.7977 - val_loss: 0.4239 - val_acc: 0.7931\n",
      "Epoch 42/50\n",
      "18097/18097 [==============================] - 0s 2us/step - loss: 0.4225 - acc: 0.7994 - val_loss: 0.4223 - val_acc: 0.7952\n",
      "Epoch 43/50\n",
      "18097/18097 [==============================] - 0s 2us/step - loss: 0.4209 - acc: 0.8008 - val_loss: 0.4207 - val_acc: 0.7964\n",
      "Epoch 44/50\n",
      "18097/18097 [==============================] - 0s 2us/step - loss: 0.4193 - acc: 0.8018 - val_loss: 0.4192 - val_acc: 0.7979\n",
      "Epoch 45/50\n",
      "18097/18097 [==============================] - 0s 2us/step - loss: 0.4177 - acc: 0.8039 - val_loss: 0.4177 - val_acc: 0.7999\n",
      "Epoch 46/50\n",
      "18097/18097 [==============================] - 0s 2us/step - loss: 0.4162 - acc: 0.8055 - val_loss: 0.4163 - val_acc: 0.8013\n",
      "Epoch 47/50\n",
      "18097/18097 [==============================] - 0s 2us/step - loss: 0.4148 - acc: 0.8063 - val_loss: 0.4149 - val_acc: 0.8020\n",
      "Epoch 48/50\n",
      "18097/18097 [==============================] - 0s 2us/step - loss: 0.4134 - acc: 0.8074 - val_loss: 0.4136 - val_acc: 0.8031\n",
      "Epoch 49/50\n",
      "18097/18097 [==============================] - 0s 2us/step - loss: 0.4119 - acc: 0.8087 - val_loss: 0.4122 - val_acc: 0.8033\n",
      "Epoch 50/50\n",
      "18097/18097 [==============================] - 0s 2us/step - loss: 0.4105 - acc: 0.8094 - val_loss: 0.4109 - val_acc: 0.8042\n",
      "12065/12065 [==============================] - 0s 15us/step\n",
      "[0.41092011056596495, 0.8042271031910485]\n"
     ]
    },
    {
     "data": {
      "image/png": "[encoded data removed]",
      "text/plain": [
       "<Figure size 432x288 with 1 Axes>"
      ]
     },
     "metadata": {
      "needs_background": "light"
     },
     "output_type": "display_data"
    },
    {
     "name": "stdout",
     "output_type": "stream",
     "text": [
      "Model: \"sequential_21\"\n",
      "_________________________________________________________________\n",
      "Layer (type)                 Output Shape              Param #   \n",
      "=================================================================\n",
      "dense_41 (Dense)             (None, 9)                 108       \n",
      "_________________________________________________________________\n",
      "dense_42 (Dense)             (None, 1)                 10        \n",
      "=================================================================\n",
      "Total params: 118\n",
      "Trainable params: 118\n",
      "Non-trainable params: 0\n",
      "_________________________________________________________________\n",
      "Train on 18097 samples, validate on 12065 samples\n",
      "Epoch 1/50\n",
      "18097/18097 [==============================] - 1s 41us/step - loss: 0.5722 - acc: 0.7503 - val_loss: 0.5633 - val_acc: 0.7523\n",
      "Epoch 2/50\n",
      "18097/18097 [==============================] - 0s 2us/step - loss: 0.5615 - acc: 0.7503 - val_loss: 0.5550 - val_acc: 0.7523\n",
      "Epoch 3/50\n",
      "18097/18097 [==============================] - 0s 2us/step - loss: 0.5535 - acc: 0.7503 - val_loss: 0.5477 - val_acc: 0.7523\n",
      "Epoch 4/50\n",
      "18097/18097 [==============================] - 0s 2us/step - loss: 0.5463 - acc: 0.7503 - val_loss: 0.5410 - val_acc: 0.7523\n",
      "Epoch 5/50\n",
      "18097/18097 [==============================] - 0s 2us/step - loss: 0.5396 - acc: 0.7503 - val_loss: 0.5346 - val_acc: 0.7523\n",
      "Epoch 6/50\n",
      "18097/18097 [==============================] - 0s 2us/step - loss: 0.5333 - acc: 0.7503 - val_loss: 0.5286 - val_acc: 0.7525\n",
      "Epoch 7/50\n",
      "18097/18097 [==============================] - 0s 2us/step - loss: 0.5271 - acc: 0.7504 - val_loss: 0.5227 - val_acc: 0.7526\n",
      "Epoch 8/50\n",
      "18097/18097 [==============================] - 0s 2us/step - loss: 0.5212 - acc: 0.7508 - val_loss: 0.5170 - val_acc: 0.7529\n",
      "Epoch 9/50\n",
      "18097/18097 [==============================] - 0s 2us/step - loss: 0.5155 - acc: 0.7516 - val_loss: 0.5115 - val_acc: 0.7536\n",
      "Epoch 10/50\n",
      "18097/18097 [==============================] - 0s 2us/step - loss: 0.5099 - acc: 0.7525 - val_loss: 0.5061 - val_acc: 0.7546\n",
      "Epoch 11/50\n",
      "18097/18097 [==============================] - 0s 2us/step - loss: 0.5045 - acc: 0.7538 - val_loss: 0.5009 - val_acc: 0.7559\n",
      "Epoch 12/50\n",
      "18097/18097 [==============================] - 0s 2us/step - loss: 0.4992 - acc: 0.7552 - val_loss: 0.4958 - val_acc: 0.7576\n",
      "Epoch 13/50\n",
      "18097/18097 [==============================] - 0s 1us/step - loss: 0.4941 - acc: 0.7568 - val_loss: 0.4909 - val_acc: 0.7584\n",
      "Epoch 14/50\n",
      "18097/18097 [==============================] - 0s 2us/step - loss: 0.4891 - acc: 0.7571 - val_loss: 0.4862 - val_acc: 0.7599\n",
      "Epoch 15/50\n",
      "18097/18097 [==============================] - 0s 2us/step - loss: 0.4843 - acc: 0.7591 - val_loss: 0.4815 - val_acc: 0.7611\n",
      "Epoch 16/50\n",
      "18097/18097 [==============================] - 0s 2us/step - loss: 0.4796 - acc: 0.7603 - val_loss: 0.4770 - val_acc: 0.7623\n",
      "Epoch 17/50\n",
      "18097/18097 [==============================] - 0s 2us/step - loss: 0.4750 - acc: 0.7617 - val_loss: 0.4726 - val_acc: 0.7639\n",
      "Epoch 18/50\n",
      "18097/18097 [==============================] - 0s 2us/step - loss: 0.4706 - acc: 0.7635 - val_loss: 0.4683 - val_acc: 0.7654\n",
      "Epoch 19/50\n",
      "18097/18097 [==============================] - 0s 2us/step - loss: 0.4663 - acc: 0.7648 - val_loss: 0.4642 - val_acc: 0.7655\n",
      "Epoch 20/50\n",
      "18097/18097 [==============================] - 0s 2us/step - loss: 0.4622 - acc: 0.7668 - val_loss: 0.4602 - val_acc: 0.7678\n",
      "Epoch 21/50\n",
      "18097/18097 [==============================] - 0s 2us/step - loss: 0.4582 - acc: 0.7694 - val_loss: 0.4565 - val_acc: 0.7702\n",
      "Epoch 22/50\n",
      "18097/18097 [==============================] - 0s 2us/step - loss: 0.4544 - acc: 0.7719 - val_loss: 0.4528 - val_acc: 0.7726\n",
      "Epoch 23/50\n",
      "18097/18097 [==============================] - 0s 2us/step - loss: 0.4508 - acc: 0.7743 - val_loss: 0.4493 - val_acc: 0.7751\n",
      "Epoch 24/50\n",
      "18097/18097 [==============================] - 0s 1us/step - loss: 0.4473 - acc: 0.7773 - val_loss: 0.4460 - val_acc: 0.7780\n",
      "Epoch 25/50\n",
      "18097/18097 [==============================] - 0s 1us/step - loss: 0.4440 - acc: 0.7810 - val_loss: 0.4428 - val_acc: 0.7805\n",
      "Epoch 26/50\n",
      "18097/18097 [==============================] - 0s 1us/step - loss: 0.4408 - acc: 0.7836 - val_loss: 0.4398 - val_acc: 0.7836\n",
      "Epoch 27/50\n",
      "18097/18097 [==============================] - 0s 1us/step - loss: 0.4379 - acc: 0.7878 - val_loss: 0.4370 - val_acc: 0.7850\n",
      "Epoch 28/50\n",
      "18097/18097 [==============================] - 0s 1us/step - loss: 0.4351 - acc: 0.7908 - val_loss: 0.4344 - val_acc: 0.7892\n",
      "Epoch 29/50\n",
      "18097/18097 [==============================] - 0s 1us/step - loss: 0.4326 - acc: 0.7935 - val_loss: 0.4320 - val_acc: 0.7914\n",
      "Epoch 30/50\n",
      "18097/18097 [==============================] - 0s 2us/step - loss: 0.4302 - acc: 0.7959 - val_loss: 0.4297 - val_acc: 0.7950\n",
      "Epoch 31/50\n",
      "18097/18097 [==============================] - 0s 2us/step - loss: 0.4279 - acc: 0.7973 - val_loss: 0.4276 - val_acc: 0.7964\n",
      "Epoch 32/50\n",
      "18097/18097 [==============================] - 0s 2us/step - loss: 0.4259 - acc: 0.8000 - val_loss: 0.4256 - val_acc: 0.7971\n",
      "Epoch 33/50\n",
      "18097/18097 [==============================] - 0s 2us/step - loss: 0.4240 - acc: 0.8009 - val_loss: 0.4238 - val_acc: 0.7986\n",
      "Epoch 34/50\n",
      "18097/18097 [==============================] - 0s 2us/step - loss: 0.4222 - acc: 0.8031 - val_loss: 0.4222 - val_acc: 0.7993\n",
      "Epoch 35/50\n",
      "18097/18097 [==============================] - 0s 2us/step - loss: 0.4205 - acc: 0.8041 - val_loss: 0.4205 - val_acc: 0.8003\n",
      "Epoch 36/50\n",
      "18097/18097 [==============================] - 0s 2us/step - loss: 0.4189 - acc: 0.8052 - val_loss: 0.4190 - val_acc: 0.8014\n",
      "Epoch 37/50\n",
      "18097/18097 [==============================] - 0s 2us/step - loss: 0.4174 - acc: 0.8059 - val_loss: 0.4176 - val_acc: 0.8022\n",
      "Epoch 38/50\n",
      "18097/18097 [==============================] - 0s 2us/step - loss: 0.4160 - acc: 0.8076 - val_loss: 0.4163 - val_acc: 0.8030\n",
      "Epoch 39/50\n",
      "18097/18097 [==============================] - 0s 2us/step - loss: 0.4146 - acc: 0.8088 - val_loss: 0.4151 - val_acc: 0.8044\n",
      "Epoch 40/50\n",
      "18097/18097 [==============================] - 0s 2us/step - loss: 0.4133 - acc: 0.8094 - val_loss: 0.4138 - val_acc: 0.8047\n",
      "Epoch 41/50\n",
      "18097/18097 [==============================] - 0s 2us/step - loss: 0.4121 - acc: 0.8104 - val_loss: 0.4127 - val_acc: 0.8055\n",
      "Epoch 42/50\n",
      "18097/18097 [==============================] - 0s 2us/step - loss: 0.4110 - acc: 0.8110 - val_loss: 0.4116 - val_acc: 0.8057\n",
      "Epoch 43/50\n",
      "18097/18097 [==============================] - 0s 2us/step - loss: 0.4099 - acc: 0.8110 - val_loss: 0.4106 - val_acc: 0.8058\n",
      "Epoch 44/50\n",
      "18097/18097 [==============================] - 0s 2us/step - loss: 0.4089 - acc: 0.8118 - val_loss: 0.4096 - val_acc: 0.8070\n",
      "Epoch 45/50\n",
      "18097/18097 [==============================] - 0s 2us/step - loss: 0.4079 - acc: 0.8126 - val_loss: 0.4087 - val_acc: 0.8069\n",
      "Epoch 46/50\n",
      "18097/18097 [==============================] - 0s 2us/step - loss: 0.4069 - acc: 0.8129 - val_loss: 0.4079 - val_acc: 0.8065\n",
      "Epoch 47/50\n",
      "18097/18097 [==============================] - 0s 2us/step - loss: 0.4060 - acc: 0.8138 - val_loss: 0.4070 - val_acc: 0.8069\n",
      "Epoch 48/50\n",
      "18097/18097 [==============================] - 0s 2us/step - loss: 0.4051 - acc: 0.8141 - val_loss: 0.4062 - val_acc: 0.8062\n",
      "Epoch 49/50\n",
      "18097/18097 [==============================] - 0s 1us/step - loss: 0.4043 - acc: 0.8147 - val_loss: 0.4054 - val_acc: 0.8069\n",
      "Epoch 50/50\n",
      "18097/18097 [==============================] - 0s 1us/step - loss: 0.4035 - acc: 0.8155 - val_loss: 0.4047 - val_acc: 0.8074\n",
      "12065/12065 [==============================] - 0s 14us/step\n",
      "[0.4046628163851893, 0.8073767094902611]\n"
     ]
    },
    {
     "data": {
      "image/png": "[encoded data removed]",
      "text/plain": [
       "<Figure size 432x288 with 1 Axes>"
      ]
     },
     "metadata": {
      "needs_background": "light"
     },
     "output_type": "display_data"
    },
    {
     "name": "stdout",
     "output_type": "stream",
     "text": [
      "Model: \"sequential_22\"\n",
      "_________________________________________________________________\n",
      "Layer (type)                 Output Shape              Param #   \n",
      "=================================================================\n",
      "dense_43 (Dense)             (None, 9)                 108       \n",
      "_________________________________________________________________\n",
      "dense_44 (Dense)             (None, 1)                 10        \n",
      "=================================================================\n",
      "Total params: 118\n",
      "Trainable params: 118\n",
      "Non-trainable params: 0\n",
      "_________________________________________________________________\n",
      "Train on 18097 samples, validate on 12065 samples\n",
      "Epoch 1/50\n",
      "18097/18097 [==============================] - 1s 47us/step - loss: 0.6270 - acc: 0.7360 - val_loss: 0.6146 - val_acc: 0.7470\n",
      "Epoch 2/50\n",
      "18097/18097 [==============================] - 0s 2us/step - loss: 0.6095 - acc: 0.7481 - val_loss: 0.6008 - val_acc: 0.7518\n",
      "Epoch 3/50\n",
      "18097/18097 [==============================] - 0s 2us/step - loss: 0.5968 - acc: 0.7503 - val_loss: 0.5890 - val_acc: 0.7523\n",
      "Epoch 4/50\n",
      "18097/18097 [==============================] - 0s 2us/step - loss: 0.5857 - acc: 0.7503 - val_loss: 0.5785 - val_acc: 0.7523\n",
      "Epoch 5/50\n",
      "18097/18097 [==============================] - 0s 2us/step - loss: 0.5756 - acc: 0.7503 - val_loss: 0.5690 - val_acc: 0.7523\n",
      "Epoch 6/50\n",
      "18097/18097 [==============================] - 0s 2us/step - loss: 0.5665 - acc: 0.7503 - val_loss: 0.5602 - val_acc: 0.7523\n",
      "Epoch 7/50\n",
      "18097/18097 [==============================] - 0s 2us/step - loss: 0.5581 - acc: 0.7503 - val_loss: 0.5522 - val_acc: 0.7523\n",
      "Epoch 8/50\n",
      "18097/18097 [==============================] - 0s 2us/step - loss: 0.5503 - acc: 0.7503 - val_loss: 0.5448 - val_acc: 0.7523\n",
      "Epoch 9/50\n",
      "18097/18097 [==============================] - 0s 2us/step - loss: 0.5432 - acc: 0.7503 - val_loss: 0.5379 - val_acc: 0.7523\n",
      "Epoch 10/50\n",
      "18097/18097 [==============================] - 0s 2us/step - loss: 0.5364 - acc: 0.7503 - val_loss: 0.5313 - val_acc: 0.7523\n",
      "Epoch 11/50\n",
      "18097/18097 [==============================] - 0s 2us/step - loss: 0.5299 - acc: 0.7503 - val_loss: 0.5250 - val_acc: 0.7523\n",
      "Epoch 12/50\n",
      "18097/18097 [==============================] - 0s 2us/step - loss: 0.5237 - acc: 0.7503 - val_loss: 0.5188 - val_acc: 0.7523\n",
      "Epoch 13/50\n",
      "18097/18097 [==============================] - 0s 2us/step - loss: 0.5176 - acc: 0.7503 - val_loss: 0.5129 - val_acc: 0.7523\n",
      "Epoch 14/50\n",
      "18097/18097 [==============================] - 0s 2us/step - loss: 0.5117 - acc: 0.7503 - val_loss: 0.5071 - val_acc: 0.7523\n",
      "Epoch 15/50\n",
      "18097/18097 [==============================] - 0s 5us/step - loss: 0.5059 - acc: 0.7505 - val_loss: 0.5015 - val_acc: 0.7526\n",
      "Epoch 16/50\n",
      "18097/18097 [==============================] - 0s 2us/step - loss: 0.5003 - acc: 0.7506 - val_loss: 0.4960 - val_acc: 0.7528\n",
      "Epoch 17/50\n",
      "18097/18097 [==============================] - 0s 2us/step - loss: 0.4948 - acc: 0.7513 - val_loss: 0.4906 - val_acc: 0.7541\n",
      "Epoch 18/50\n",
      "18097/18097 [==============================] - 0s 2us/step - loss: 0.4894 - acc: 0.7526 - val_loss: 0.4854 - val_acc: 0.7562\n",
      "Epoch 19/50\n",
      "18097/18097 [==============================] - 0s 2us/step - loss: 0.4841 - acc: 0.7555 - val_loss: 0.4803 - val_acc: 0.7583\n",
      "Epoch 20/50\n",
      "18097/18097 [==============================] - 0s 2us/step - loss: 0.4791 - acc: 0.7588 - val_loss: 0.4754 - val_acc: 0.7612\n",
      "Epoch 21/50\n",
      "18097/18097 [==============================] - 0s 2us/step - loss: 0.4741 - acc: 0.7622 - val_loss: 0.4706 - val_acc: 0.7652\n",
      "Epoch 22/50\n",
      "18097/18097 [==============================] - 0s 2us/step - loss: 0.4694 - acc: 0.7665 - val_loss: 0.4661 - val_acc: 0.7696\n",
      "Epoch 23/50\n",
      "18097/18097 [==============================] - 0s 2us/step - loss: 0.4649 - acc: 0.7702 - val_loss: 0.4617 - val_acc: 0.7729\n",
      "Epoch 24/50\n",
      "18097/18097 [==============================] - 0s 2us/step - loss: 0.4605 - acc: 0.7734 - val_loss: 0.4575 - val_acc: 0.7776\n",
      "Epoch 25/50\n",
      "18097/18097 [==============================] - 0s 2us/step - loss: 0.4564 - acc: 0.7783 - val_loss: 0.4536 - val_acc: 0.7792\n",
      "Epoch 26/50\n",
      "18097/18097 [==============================] - 0s 2us/step - loss: 0.4524 - acc: 0.7816 - val_loss: 0.4497 - val_acc: 0.7817\n",
      "Epoch 27/50\n",
      "18097/18097 [==============================] - 0s 2us/step - loss: 0.4486 - acc: 0.7842 - val_loss: 0.4462 - val_acc: 0.7847\n",
      "Epoch 28/50\n",
      "18097/18097 [==============================] - 0s 2us/step - loss: 0.4450 - acc: 0.7873 - val_loss: 0.4428 - val_acc: 0.7872\n",
      "Epoch 29/50\n",
      "18097/18097 [==============================] - 0s 2us/step - loss: 0.4417 - acc: 0.7899 - val_loss: 0.4396 - val_acc: 0.7914\n",
      "Epoch 30/50\n",
      "18097/18097 [==============================] - 0s 2us/step - loss: 0.4386 - acc: 0.7933 - val_loss: 0.4367 - val_acc: 0.7929\n",
      "Epoch 31/50\n",
      "18097/18097 [==============================] - 0s 2us/step - loss: 0.4356 - acc: 0.7962 - val_loss: 0.4339 - val_acc: 0.7949\n",
      "Epoch 32/50\n",
      "18097/18097 [==============================] - ETA: 0s - loss: 0.4300 - acc: 0.808 - 0s 2us/step - loss: 0.4329 - acc: 0.7982 - val_loss: 0.4313 - val_acc: 0.7962\n",
      "Epoch 33/50\n",
      "18097/18097 [==============================] - 0s 2us/step - loss: 0.4303 - acc: 0.8005 - val_loss: 0.4289 - val_acc: 0.7996\n",
      "Epoch 34/50\n",
      "18097/18097 [==============================] - 0s 3us/step - loss: 0.4279 - acc: 0.8017 - val_loss: 0.4266 - val_acc: 0.8009\n",
      "Epoch 35/50\n",
      "18097/18097 [==============================] - 0s 3us/step - loss: 0.4257 - acc: 0.8031 - val_loss: 0.4245 - val_acc: 0.8026\n",
      "Epoch 36/50\n",
      "18097/18097 [==============================] - 0s 2us/step - loss: 0.4235 - acc: 0.8053 - val_loss: 0.4226 - val_acc: 0.8039\n",
      "Epoch 37/50\n",
      "18097/18097 [==============================] - 0s 2us/step - loss: 0.4216 - acc: 0.8068 - val_loss: 0.4208 - val_acc: 0.8037\n",
      "Epoch 38/50\n",
      "18097/18097 [==============================] - 0s 2us/step - loss: 0.4197 - acc: 0.8079 - val_loss: 0.4190 - val_acc: 0.8041\n",
      "Epoch 39/50\n",
      "18097/18097 [==============================] - 0s 2us/step - loss: 0.4179 - acc: 0.8096 - val_loss: 0.4174 - val_acc: 0.8050\n",
      "Epoch 40/50\n",
      "18097/18097 [==============================] - 0s 2us/step - loss: 0.4162 - acc: 0.8103 - val_loss: 0.4159 - val_acc: 0.8055\n",
      "Epoch 41/50\n",
      "18097/18097 [==============================] - 0s 2us/step - loss: 0.4147 - acc: 0.8110 - val_loss: 0.4144 - val_acc: 0.8063\n",
      "Epoch 42/50\n",
      "18097/18097 [==============================] - 0s 2us/step - loss: 0.4132 - acc: 0.8120 - val_loss: 0.4131 - val_acc: 0.8070\n",
      "Epoch 43/50\n",
      "18097/18097 [==============================] - 0s 2us/step - loss: 0.4118 - acc: 0.8126 - val_loss: 0.4118 - val_acc: 0.8080\n",
      "Epoch 44/50\n",
      "18097/18097 [==============================] - 0s 2us/step - loss: 0.4105 - acc: 0.8137 - val_loss: 0.4107 - val_acc: 0.8084\n",
      "Epoch 45/50\n",
      "18097/18097 [==============================] - 0s 2us/step - loss: 0.4093 - acc: 0.8144 - val_loss: 0.4095 - val_acc: 0.8093\n",
      "Epoch 46/50\n",
      "18097/18097 [==============================] - 0s 2us/step - loss: 0.4081 - acc: 0.8147 - val_loss: 0.4085 - val_acc: 0.8089\n",
      "Epoch 47/50\n",
      "18097/18097 [==============================] - 0s 2us/step - loss: 0.4070 - acc: 0.8160 - val_loss: 0.4075 - val_acc: 0.8091\n",
      "Epoch 48/50\n",
      "18097/18097 [==============================] - 0s 2us/step - loss: 0.4060 - acc: 0.8162 - val_loss: 0.4066 - val_acc: 0.8093\n",
      "Epoch 49/50\n",
      "18097/18097 [==============================] - 0s 2us/step - loss: 0.4050 - acc: 0.8170 - val_loss: 0.4057 - val_acc: 0.8096\n",
      "Epoch 50/50\n",
      "18097/18097 [==============================] - 0s 2us/step - loss: 0.4041 - acc: 0.8175 - val_loss: 0.4049 - val_acc: 0.8089\n",
      "12065/12065 [==============================] - 0s 13us/step\n",
      "[0.4049324199761091, 0.8088686282635723]\n"
     ]
    },
    {
     "data": {
      "image/png": "[encoded data removed]",
      "text/plain": [
       "<Figure size 432x288 with 1 Axes>"
      ]
     },
     "metadata": {
      "needs_background": "light"
     },
     "output_type": "display_data"
    },
    {
     "name": "stdout",
     "output_type": "stream",
     "text": [
      "Model: \"sequential_23\"\n",
      "_________________________________________________________________\n",
      "Layer (type)                 Output Shape              Param #   \n",
      "=================================================================\n",
      "dense_45 (Dense)             (None, 9)                 108       \n",
      "_________________________________________________________________\n",
      "dense_46 (Dense)             (None, 1)                 10        \n",
      "=================================================================\n",
      "Total params: 118\n",
      "Trainable params: 118\n",
      "Non-trainable params: 0\n",
      "_________________________________________________________________\n",
      "Train on 18097 samples, validate on 12065 samples\n",
      "Epoch 1/50\n",
      "18097/18097 [==============================] - 1s 43us/step - loss: 0.6609 - acc: 0.6517 - val_loss: 0.6468 - val_acc: 0.6831\n",
      "Epoch 2/50\n",
      "18097/18097 [==============================] - 0s 2us/step - loss: 0.6394 - acc: 0.7021 - val_loss: 0.6297 - val_acc: 0.7271\n",
      "Epoch 3/50\n",
      "18097/18097 [==============================] - 0s 2us/step - loss: 0.6237 - acc: 0.7338 - val_loss: 0.6151 - val_acc: 0.7451\n",
      "Epoch 4/50\n",
      "18097/18097 [==============================] - 0s 2us/step - loss: 0.6100 - acc: 0.7456 - val_loss: 0.6021 - val_acc: 0.7508\n",
      "Epoch 5/50\n",
      "18097/18097 [==============================] - 0s 2us/step - loss: 0.5976 - acc: 0.7495 - val_loss: 0.5902 - val_acc: 0.7520\n",
      "Epoch 6/50\n",
      "18097/18097 [==============================] - 0s 2us/step - loss: 0.5863 - acc: 0.7501 - val_loss: 0.5794 - val_acc: 0.7522\n",
      "Epoch 7/50\n",
      "18097/18097 [==============================] - 0s 2us/step - loss: 0.5760 - acc: 0.7503 - val_loss: 0.5696 - val_acc: 0.7523\n",
      "Epoch 8/50\n",
      "18097/18097 [==============================] - 0s 2us/step - loss: 0.5665 - acc: 0.7503 - val_loss: 0.5605 - val_acc: 0.7523\n",
      "Epoch 9/50\n",
      "18097/18097 [==============================] - 0s 2us/step - loss: 0.5578 - acc: 0.7503 - val_loss: 0.5522 - val_acc: 0.7523\n",
      "Epoch 10/50\n",
      "18097/18097 [==============================] - 0s 2us/step - loss: 0.5498 - acc: 0.7503 - val_loss: 0.5445 - val_acc: 0.7523\n",
      "Epoch 11/50\n",
      "18097/18097 [==============================] - 0s 2us/step - loss: 0.5423 - acc: 0.7503 - val_loss: 0.5373 - val_acc: 0.7523\n",
      "Epoch 12/50\n",
      "18097/18097 [==============================] - 0s 2us/step - loss: 0.5353 - acc: 0.7503 - val_loss: 0.5305 - val_acc: 0.7523\n",
      "Epoch 13/50\n",
      "18097/18097 [==============================] - 0s 2us/step - loss: 0.5286 - acc: 0.7503 - val_loss: 0.5241 - val_acc: 0.7523\n",
      "Epoch 14/50\n",
      "18097/18097 [==============================] - 0s 2us/step - loss: 0.5222 - acc: 0.7503 - val_loss: 0.5179 - val_acc: 0.7523\n",
      "Epoch 15/50\n",
      "18097/18097 [==============================] - 0s 2us/step - loss: 0.5160 - acc: 0.7503 - val_loss: 0.5118 - val_acc: 0.7523\n",
      "Epoch 16/50\n",
      "18097/18097 [==============================] - 0s 2us/step - loss: 0.5100 - acc: 0.7503 - val_loss: 0.5059 - val_acc: 0.7523\n",
      "Epoch 17/50\n",
      "18097/18097 [==============================] - 0s 2us/step - loss: 0.5040 - acc: 0.7503 - val_loss: 0.5002 - val_acc: 0.7523\n",
      "Epoch 18/50\n",
      "18097/18097 [==============================] - 0s 2us/step - loss: 0.4983 - acc: 0.7505 - val_loss: 0.4946 - val_acc: 0.7527\n",
      "Epoch 19/50\n",
      "18097/18097 [==============================] - 0s 2us/step - loss: 0.4927 - acc: 0.7508 - val_loss: 0.4892 - val_acc: 0.7538\n",
      "Epoch 20/50\n",
      "18097/18097 [==============================] - 0s 2us/step - loss: 0.4873 - acc: 0.7518 - val_loss: 0.4841 - val_acc: 0.7551\n",
      "Epoch 21/50\n",
      "18097/18097 [==============================] - 0s 2us/step - loss: 0.4821 - acc: 0.7539 - val_loss: 0.4791 - val_acc: 0.7567\n",
      "Epoch 22/50\n",
      "18097/18097 [==============================] - 0s 2us/step - loss: 0.4772 - acc: 0.7565 - val_loss: 0.4744 - val_acc: 0.7591\n",
      "Epoch 23/50\n",
      "18097/18097 [==============================] - 0s 2us/step - loss: 0.4724 - acc: 0.7596 - val_loss: 0.4698 - val_acc: 0.7624\n",
      "Epoch 24/50\n",
      "18097/18097 [==============================] - 0s 2us/step - loss: 0.4678 - acc: 0.7644 - val_loss: 0.4654 - val_acc: 0.7651\n",
      "Epoch 25/50\n",
      "18097/18097 [==============================] - 0s 2us/step - loss: 0.4635 - acc: 0.7681 - val_loss: 0.4613 - val_acc: 0.7704\n",
      "Epoch 26/50\n",
      "18097/18097 [==============================] - 0s 2us/step - loss: 0.4593 - acc: 0.7737 - val_loss: 0.4572 - val_acc: 0.7780\n",
      "Epoch 27/50\n",
      "18097/18097 [==============================] - 0s 2us/step - loss: 0.4554 - acc: 0.7790 - val_loss: 0.4535 - val_acc: 0.7817\n",
      "Epoch 28/50\n",
      "18097/18097 [==============================] - 0s 2us/step - loss: 0.4516 - acc: 0.7845 - val_loss: 0.4498 - val_acc: 0.7877\n",
      "Epoch 29/50\n",
      "18097/18097 [==============================] - 0s 2us/step - loss: 0.4480 - acc: 0.7897 - val_loss: 0.4464 - val_acc: 0.7906\n",
      "Epoch 30/50\n",
      "18097/18097 [==============================] - 0s 2us/step - loss: 0.4446 - acc: 0.7934 - val_loss: 0.4432 - val_acc: 0.7939\n",
      "Epoch 31/50\n",
      "18097/18097 [==============================] - 0s 2us/step - loss: 0.4414 - acc: 0.7974 - val_loss: 0.4401 - val_acc: 0.7977\n",
      "Epoch 32/50\n",
      "18097/18097 [==============================] - 0s 2us/step - loss: 0.4383 - acc: 0.8010 - val_loss: 0.4372 - val_acc: 0.8000\n",
      "Epoch 33/50\n",
      "18097/18097 [==============================] - 0s 2us/step - loss: 0.4355 - acc: 0.8037 - val_loss: 0.4346 - val_acc: 0.8023\n",
      "Epoch 34/50\n",
      "18097/18097 [==============================] - 0s 2us/step - loss: 0.4328 - acc: 0.8046 - val_loss: 0.4320 - val_acc: 0.8041\n",
      "Epoch 35/50\n",
      "18097/18097 [==============================] - 0s 2us/step - loss: 0.4302 - acc: 0.8070 - val_loss: 0.4296 - val_acc: 0.8047\n",
      "Epoch 36/50\n",
      "18097/18097 [==============================] - 0s 2us/step - loss: 0.4278 - acc: 0.8085 - val_loss: 0.4273 - val_acc: 0.8065\n",
      "Epoch 37/50\n",
      "18097/18097 [==============================] - 0s 2us/step - loss: 0.4255 - acc: 0.8095 - val_loss: 0.4251 - val_acc: 0.8065\n",
      "Epoch 38/50\n",
      "18097/18097 [==============================] - 0s 2us/step - loss: 0.4233 - acc: 0.8111 - val_loss: 0.4230 - val_acc: 0.8078\n",
      "Epoch 39/50\n",
      "18097/18097 [==============================] - 0s 2us/step - loss: 0.4212 - acc: 0.8131 - val_loss: 0.4211 - val_acc: 0.8085\n",
      "Epoch 40/50\n",
      "18097/18097 [==============================] - 0s 2us/step - loss: 0.4192 - acc: 0.8140 - val_loss: 0.4193 - val_acc: 0.8088\n",
      "Epoch 41/50\n",
      "18097/18097 [==============================] - 0s 2us/step - loss: 0.4174 - acc: 0.8143 - val_loss: 0.4176 - val_acc: 0.8093\n",
      "Epoch 42/50\n",
      "18097/18097 [==============================] - 0s 1us/step - loss: 0.4157 - acc: 0.8148 - val_loss: 0.4160 - val_acc: 0.8090\n",
      "Epoch 43/50\n",
      "18097/18097 [==============================] - 0s 1us/step - loss: 0.4140 - acc: 0.8154 - val_loss: 0.4145 - val_acc: 0.8095\n",
      "Epoch 44/50\n",
      "18097/18097 [==============================] - 0s 2us/step - loss: 0.4125 - acc: 0.8159 - val_loss: 0.4131 - val_acc: 0.8096\n",
      "Epoch 45/50\n",
      "18097/18097 [==============================] - 0s 2us/step - loss: 0.4110 - acc: 0.8160 - val_loss: 0.4118 - val_acc: 0.8100\n",
      "Epoch 46/50\n",
      "18097/18097 [==============================] - 0s 2us/step - loss: 0.4097 - acc: 0.8166 - val_loss: 0.4105 - val_acc: 0.8100\n",
      "Epoch 47/50\n",
      "18097/18097 [==============================] - 0s 1us/step - loss: 0.4084 - acc: 0.8165 - val_loss: 0.4094 - val_acc: 0.8108\n",
      "Epoch 48/50\n",
      "18097/18097 [==============================] - 0s 1us/step - loss: 0.4072 - acc: 0.8179 - val_loss: 0.4083 - val_acc: 0.8107\n",
      "Epoch 49/50\n",
      "18097/18097 [==============================] - 0s 2us/step - loss: 0.4061 - acc: 0.8181 - val_loss: 0.4073 - val_acc: 0.8102\n",
      "Epoch 50/50\n",
      "18097/18097 [==============================] - 0s 1us/step - loss: 0.4050 - acc: 0.8187 - val_loss: 0.4064 - val_acc: 0.8098\n",
      "12065/12065 [==============================] - 0s 12us/step\n",
      "[0.40640199558891993, 0.8097803564028181]\n"
     ]
    },
    {
     "data": {
      "image/png": "[encoded data removed]",
      "text/plain": [
       "<Figure size 432x288 with 1 Axes>"
      ]
     },
     "metadata": {
      "needs_background": "light"
     },
     "output_type": "display_data"
    }
   ],
   "source": [
    "for c in cVals:\n",
    "    model = keras.Sequential()\n",
    "\n",
    "    model.add(Dense(output_dim=9, activation='sigmoid', input_dim=11))\n",
    "    model.add(Dense(output_dim=1, activation='sigmoid', input_dim=9))\n",
    "\n",
    "    model.compile(loss='binary_crossentropy', optimizer='rmsprop', metrics=['acc'])\n",
    "\n",
    "    model.summary()\n",
    "                 \n",
    "    training_model = model.fit(X_train, Y_train, nb_epoch=50, batch_size=1810, validation_data=(X_test,Y_test),verbose=1)\n",
    "    \n",
    "    results = model.evaluate(X_test, Y_test)\n",
    "    print(results)\n",
    "\n",
    "    acc = training_model.history['acc']\n",
    "    value_acc = training_model.history['val_acc']\n",
    "    num_epochs = range(1, len(acc) + 1)\n",
    "    plt.figure()\n",
    "    plt.plot(num_epochs, acc, 'b.-', label='Training acc')\n",
    "    plt.plot(num_epochs, value_acc, 'r.-', label='Validation acc')\n",
    "    plt.title('Unscaled Training and Validation Accuracy for Income Prediction with C:{}'.format(c))\n",
    "    plt.xlabel('Epochs')\n",
    "    plt.ylabel('Accuracy')\n",
    "    plt.legend()\n",
    "\n",
    "    plt.show()"
   ]
  },
  {
   "cell_type": "code",
   "execution_count": null,
   "metadata": {},
   "outputs": [],
   "source": []
  },
  {
   "cell_type": "code",
   "execution_count": null,
   "metadata": {},
   "outputs": [],
   "source": []
  },
  {
   "cell_type": "code",
   "execution_count": null,
   "metadata": {},
   "outputs": [],
   "source": []
  },
  {
   "cell_type": "code",
   "execution_count": null,
   "metadata": {},
   "outputs": [],
   "source": []
  },
  {
   "cell_type": "code",
   "execution_count": null,
   "metadata": {},
   "outputs": [],
   "source": []
  },
  {
   "cell_type": "code",
   "execution_count": null,
   "metadata": {},
   "outputs": [],
   "source": []
  },
  {
   "cell_type": "code",
   "execution_count": null,
   "metadata": {},
   "outputs": [],
   "source": []
  },
  {
   "cell_type": "code",
   "execution_count": null,
   "metadata": {},
   "outputs": [],
   "source": []
  }
 ],
 "metadata": {
  "kernelspec": {
   "display_name": "Python 3",
   "language": "python",
   "name": "python3"
  },
  "language_info": {
   "codemirror_mode": {
    "name": "ipython",
    "version": 3
   },
   "file_extension": ".py",
   "mimetype": "text/x-python",
   "name": "python",
   "nbconvert_exporter": "python",
   "pygments_lexer": "ipython3",
   "version": "3.7.1"
  }
 },
 "nbformat": 4,
 "nbformat_minor": 2
}
